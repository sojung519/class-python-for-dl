{
  "cells": [
    {
      "cell_type": "markdown",
      "metadata": {
        "id": "TREhaxAnxipX"
      },
      "source": [
        "This is a companion notebook for the book [Deep Learning with Python, Second Edition](https://www.manning.com/books/deep-learning-with-python-second-edition?a_aid=keras&a_bid=76564dff). For readability, it only contains runnable code blocks and section titles, and omits everything else in the book: text paragraphs, figures, and pseudocode.\n",
        "\n",
        "**If you want to be able to follow what's going on, I recommend reading the notebook side by side with your copy of the book.**\n",
        "\n",
        "This notebook was generated for TensorFlow 2.6."
      ]
    },
    {
      "cell_type": "markdown",
      "metadata": {
        "id": "pFj1Nr9Lxipa"
      },
      "source": [
        "# Fundamentals of machine learning"
      ]
    },
    {
      "cell_type": "markdown",
      "metadata": {
        "id": "4oFnst0Fxipa"
      },
      "source": [
        "## Generalization: The goal of machine learning"
      ]
    },
    {
      "cell_type": "markdown",
      "metadata": {
        "id": "TkHpP-_-xipa"
      },
      "source": [
        "### Underfitting and overfitting"
      ]
    },
    {
      "cell_type": "markdown",
      "metadata": {
        "id": "Qv48XOnExipb"
      },
      "source": [
        "#### Noisy training data"
      ]
    },
    {
      "cell_type": "markdown",
      "metadata": {
        "id": "b-7JJn-8xipb"
      },
      "source": [
        "#### Ambiguous features"
      ]
    },
    {
      "cell_type": "markdown",
      "metadata": {
        "id": "yM6wYjpGxipb"
      },
      "source": [
        "#### Rare features and spurious correlations"
      ]
    },
    {
      "cell_type": "markdown",
      "metadata": {
        "id": "LiqzB6ZSxipb"
      },
      "source": [
        "**Adding white-noise channels or all-zeros channels to MNIST**"
      ]
    },
    {
      "cell_type": "code",
      "execution_count": 1,
      "metadata": {
        "id": "CGiswscKxipb",
        "outputId": "fe68f287-fe7c-4adb-c44a-d16fbb09a31e",
        "colab": {
          "base_uri": "https://localhost:8080/"
        }
      },
      "outputs": [
        {
          "output_type": "stream",
          "name": "stdout",
          "text": [
            "Downloading data from https://storage.googleapis.com/tensorflow/tf-keras-datasets/mnist.npz\n",
            "11490434/11490434 [==============================] - 0s 0us/step\n"
          ]
        }
      ],
      "source": [
        "from tensorflow.keras.datasets import mnist\n",
        "import numpy as np\n",
        "\n",
        "(train_images, train_labels), _ = mnist.load_data()\n",
        "train_images = train_images.reshape((60000, 28 * 28))\n",
        "train_images = train_images.astype(\"float32\") / 255\n",
        "\n",
        "train_images_with_noise_channels = np.concatenate(\n",
        "    [train_images, np.random.random((len(train_images), 784))], axis=1) #0~1 사이의 숫자 랜덤으로 noise에 붙임\n",
        "\n",
        "train_images_with_zeros_channels = np.concatenate(\n",
        "    [train_images, np.zeros((len(train_images), 784))], axis=1) #0으로만 noise에 붙임"
      ]
    },
    {
      "cell_type": "code",
      "source": [
        "mnist.load_data?"
      ],
      "metadata": {
        "id": "l2iB_JroVcv_"
      },
      "execution_count": 4,
      "outputs": []
    },
    {
      "cell_type": "code",
      "source": [
        "train_images.shape"
      ],
      "metadata": {
        "id": "QRtmExqCxu5P",
        "outputId": "6c3d8b38-32a5-4d9d-dfd4-668d90d35acc",
        "colab": {
          "base_uri": "https://localhost:8080/"
        }
      },
      "execution_count": 5,
      "outputs": [
        {
          "output_type": "execute_result",
          "data": {
            "text/plain": [
              "(60000, 784)"
            ]
          },
          "metadata": {},
          "execution_count": 5
        }
      ]
    },
    {
      "cell_type": "code",
      "source": [
        "np.random.random((len(train_images), 784)).shape"
      ],
      "metadata": {
        "id": "wBUafYruxy2k",
        "outputId": "119d1d97-ab89-4c9c-c86c-3247bc200cfd",
        "colab": {
          "base_uri": "https://localhost:8080/"
        }
      },
      "execution_count": 6,
      "outputs": [
        {
          "output_type": "execute_result",
          "data": {
            "text/plain": [
              "(60000, 784)"
            ]
          },
          "metadata": {},
          "execution_count": 6
        }
      ]
    },
    {
      "cell_type": "code",
      "source": [
        "train_images_with_noise_channels.shape"
      ],
      "metadata": {
        "id": "-BzhCsxUv9RH",
        "outputId": "64d3b9c9-a851-46d6-f2f6-c92b0a798a67",
        "colab": {
          "base_uri": "https://localhost:8080/"
        }
      },
      "execution_count": 7,
      "outputs": [
        {
          "output_type": "execute_result",
          "data": {
            "text/plain": [
              "(60000, 1568)"
            ]
          },
          "metadata": {},
          "execution_count": 7
        }
      ]
    },
    {
      "cell_type": "code",
      "source": [
        "np.random.random((len(train_images), 784)) #noise channel"
      ],
      "metadata": {
        "id": "COBDA7gzzHfO",
        "outputId": "fd6b2500-5008-4888-e3bc-c0f496daf89b",
        "colab": {
          "base_uri": "https://localhost:8080/"
        }
      },
      "execution_count": 8,
      "outputs": [
        {
          "output_type": "execute_result",
          "data": {
            "text/plain": [
              "array([[0.89718434, 0.33156214, 0.19467255, ..., 0.88365983, 0.10996753,\n",
              "        0.12062997],\n",
              "       [0.21466606, 0.66638069, 0.31371097, ..., 0.81407762, 0.79952039,\n",
              "        0.82224258],\n",
              "       [0.98592562, 0.99721591, 0.69992536, ..., 0.08819348, 0.65676782,\n",
              "        0.65543756],\n",
              "       ...,\n",
              "       [0.19282845, 0.74867083, 0.34222377, ..., 0.76576367, 0.12699073,\n",
              "        0.4283726 ],\n",
              "       [0.88906054, 0.85017729, 0.98793659, ..., 0.6027186 , 0.99785188,\n",
              "        0.06995372],\n",
              "       [0.94652452, 0.25843044, 0.50058132, ..., 0.82679643, 0.36821864,\n",
              "        0.50837955]])"
            ]
          },
          "metadata": {},
          "execution_count": 8
        }
      ]
    },
    {
      "cell_type": "code",
      "source": [
        "train_images_with_noise_channels.shape #784*2=1568"
      ],
      "metadata": {
        "id": "MTOSwYiXxy0d",
        "outputId": "039713a9-797e-413c-8647-9e87c21d0aeb",
        "colab": {
          "base_uri": "https://localhost:8080/"
        }
      },
      "execution_count": 10,
      "outputs": [
        {
          "output_type": "execute_result",
          "data": {
            "text/plain": [
              "(60000, 1568)"
            ]
          },
          "metadata": {},
          "execution_count": 10
        }
      ]
    },
    {
      "cell_type": "code",
      "source": [
        "np.zeros((len(train_images), 784))"
      ],
      "metadata": {
        "id": "s1GogqzTxyyL",
        "outputId": "53fa7a9e-c51d-4bbd-e328-28aa6aa0831e",
        "colab": {
          "base_uri": "https://localhost:8080/"
        }
      },
      "execution_count": 11,
      "outputs": [
        {
          "output_type": "execute_result",
          "data": {
            "text/plain": [
              "array([[0., 0., 0., ..., 0., 0., 0.],\n",
              "       [0., 0., 0., ..., 0., 0., 0.],\n",
              "       [0., 0., 0., ..., 0., 0., 0.],\n",
              "       ...,\n",
              "       [0., 0., 0., ..., 0., 0., 0.],\n",
              "       [0., 0., 0., ..., 0., 0., 0.],\n",
              "       [0., 0., 0., ..., 0., 0., 0.]])"
            ]
          },
          "metadata": {},
          "execution_count": 11
        }
      ]
    },
    {
      "cell_type": "code",
      "source": [],
      "metadata": {
        "id": "uv8CiO9HyJ9f"
      },
      "execution_count": null,
      "outputs": []
    },
    {
      "cell_type": "code",
      "source": [],
      "metadata": {
        "id": "0MAGXJEdyJ7c"
      },
      "execution_count": null,
      "outputs": []
    },
    {
      "cell_type": "markdown",
      "metadata": {
        "id": "mq8wsO58xipc"
      },
      "source": [
        "**Training the same model on MNIST data with noise channels or all-zero channels**"
      ]
    },
    {
      "cell_type": "code",
      "execution_count": 12,
      "metadata": {
        "id": "hok-zRLaxipc",
        "outputId": "681e0456-e296-4c94-8dff-4d419a55e646",
        "colab": {
          "base_uri": "https://localhost:8080/"
        }
      },
      "outputs": [
        {
          "output_type": "stream",
          "name": "stdout",
          "text": [
            "Epoch 1/10\n",
            "375/375 [==============================] - 7s 4ms/step - loss: 0.6158 - accuracy: 0.8126 - val_loss: 0.2701 - val_accuracy: 0.9174\n",
            "Epoch 2/10\n",
            "375/375 [==============================] - 1s 3ms/step - loss: 0.2545 - accuracy: 0.9198 - val_loss: 0.2665 - val_accuracy: 0.9193\n",
            "Epoch 3/10\n",
            "375/375 [==============================] - 1s 3ms/step - loss: 0.1659 - accuracy: 0.9482 - val_loss: 0.1412 - val_accuracy: 0.9582\n",
            "Epoch 4/10\n",
            "375/375 [==============================] - 1s 3ms/step - loss: 0.1180 - accuracy: 0.9634 - val_loss: 0.1320 - val_accuracy: 0.9604\n",
            "Epoch 5/10\n",
            "375/375 [==============================] - 1s 3ms/step - loss: 0.0883 - accuracy: 0.9719 - val_loss: 0.1256 - val_accuracy: 0.9622\n",
            "Epoch 6/10\n",
            "375/375 [==============================] - 1s 3ms/step - loss: 0.0641 - accuracy: 0.9797 - val_loss: 0.1354 - val_accuracy: 0.9597\n",
            "Epoch 7/10\n",
            "375/375 [==============================] - 1s 3ms/step - loss: 0.0477 - accuracy: 0.9850 - val_loss: 0.1324 - val_accuracy: 0.9634\n",
            "Epoch 8/10\n",
            "375/375 [==============================] - 2s 4ms/step - loss: 0.0350 - accuracy: 0.9882 - val_loss: 0.1961 - val_accuracy: 0.9463\n",
            "Epoch 9/10\n",
            "375/375 [==============================] - 1s 3ms/step - loss: 0.0249 - accuracy: 0.9921 - val_loss: 0.1261 - val_accuracy: 0.9666\n",
            "Epoch 10/10\n",
            "375/375 [==============================] - 1s 3ms/step - loss: 0.0190 - accuracy: 0.9942 - val_loss: 0.1359 - val_accuracy: 0.9655\n",
            "Epoch 1/10\n",
            "375/375 [==============================] - 3s 4ms/step - loss: 0.2945 - accuracy: 0.9148 - val_loss: 0.1571 - val_accuracy: 0.9548\n",
            "Epoch 2/10\n",
            "375/375 [==============================] - 2s 5ms/step - loss: 0.1223 - accuracy: 0.9644 - val_loss: 0.1083 - val_accuracy: 0.9691\n",
            "Epoch 3/10\n",
            "375/375 [==============================] - 2s 5ms/step - loss: 0.0803 - accuracy: 0.9768 - val_loss: 0.0890 - val_accuracy: 0.9730\n",
            "Epoch 4/10\n",
            "375/375 [==============================] - 2s 5ms/step - loss: 0.0588 - accuracy: 0.9822 - val_loss: 0.0818 - val_accuracy: 0.9760\n",
            "Epoch 5/10\n",
            "375/375 [==============================] - 1s 4ms/step - loss: 0.0432 - accuracy: 0.9873 - val_loss: 0.0800 - val_accuracy: 0.9759\n",
            "Epoch 6/10\n",
            "375/375 [==============================] - 1s 4ms/step - loss: 0.0333 - accuracy: 0.9905 - val_loss: 0.0726 - val_accuracy: 0.9789\n",
            "Epoch 7/10\n",
            "375/375 [==============================] - 2s 4ms/step - loss: 0.0249 - accuracy: 0.9926 - val_loss: 0.0703 - val_accuracy: 0.9798\n",
            "Epoch 8/10\n",
            "375/375 [==============================] - 1s 4ms/step - loss: 0.0186 - accuracy: 0.9951 - val_loss: 0.0728 - val_accuracy: 0.9789\n",
            "Epoch 9/10\n",
            "375/375 [==============================] - 1s 4ms/step - loss: 0.0139 - accuracy: 0.9962 - val_loss: 0.0706 - val_accuracy: 0.9806\n",
            "Epoch 10/10\n",
            "375/375 [==============================] - 1s 3ms/step - loss: 0.0106 - accuracy: 0.9977 - val_loss: 0.0725 - val_accuracy: 0.9802\n"
          ]
        }
      ],
      "source": [
        "from tensorflow import keras\n",
        "from tensorflow.keras import layers\n",
        "\n",
        "def get_model():\n",
        "    model = keras.Sequential([\n",
        "        layers.Dense(512, activation=\"relu\"),\n",
        "        layers.Dense(10, activation=\"softmax\")\n",
        "    ])\n",
        "    model.compile(optimizer=\"rmsprop\",\n",
        "                  loss=\"sparse_categorical_crossentropy\",\n",
        "                  metrics=[\"accuracy\"])\n",
        "    return model\n",
        "\n",
        "model = get_model()\n",
        "history_noise = model.fit(\n",
        "    train_images_with_noise_channels, train_labels,\n",
        "    epochs=10,\n",
        "    batch_size=128,\n",
        "    validation_split=0.2) #noise_channel 붙인 모델\n",
        "\n",
        "model = get_model()\n",
        "history_zeros = model.fit(\n",
        "    train_images_with_zeros_channels, train_labels,\n",
        "    epochs=10,\n",
        "    batch_size=128,\n",
        "    validation_split=0.2) #zero_channel 붙인 모델"
      ]
    },
    {
      "cell_type": "markdown",
      "metadata": {
        "id": "yeTiLEJ7xipc"
      },
      "source": [
        "**Plotting a validation accuracy comparison**"
      ]
    },
    {
      "cell_type": "markdown",
      "source": [
        "validation accuracy"
      ],
      "metadata": {
        "id": "QPVrrslPwuIL"
      }
    },
    {
      "cell_type": "code",
      "execution_count": 13,
      "metadata": {
        "id": "IAIVI0Skxipd",
        "outputId": "67db9d3f-257b-478b-9137-4d88c036cf06",
        "colab": {
          "base_uri": "https://localhost:8080/",
          "height": 490
        }
      },
      "outputs": [
        {
          "output_type": "execute_result",
          "data": {
            "text/plain": [
              "<matplotlib.legend.Legend at 0x7fb390032c20>"
            ]
          },
          "metadata": {},
          "execution_count": 13
        },
        {
          "output_type": "display_data",
          "data": {
            "text/plain": [
              "<Figure size 640x480 with 1 Axes>"
            ],
            "image/png": "[encoded data removed]"
          },
          "metadata": {}
        }
      ],
      "source": [
        "import matplotlib.pyplot as plt\n",
        "val_acc_noise = history_noise.history[\"val_accuracy\"]\n",
        "val_acc_zeros = history_zeros.history[\"val_accuracy\"]\n",
        "epochs = range(1, 11)\n",
        "plt.plot(epochs, val_acc_noise, \"b-\",\n",
        "         label=\"Validation accuracy with noise channels\")\n",
        "plt.plot(epochs, val_acc_zeros, \"b--\",\n",
        "         label=\"Validation accuracy with zeros channels\")\n",
        "plt.title(\"Effect of noise channels on validation accuracy\")\n",
        "plt.xlabel(\"Epochs\")\n",
        "plt.ylabel(\"Accuracy\")\n",
        "plt.legend()"
      ]
    },
    {
      "cell_type": "markdown",
      "source": [
        "Training accuracy"
      ],
      "metadata": {
        "id": "yRLdATwOwxud"
      }
    },
    {
      "cell_type": "code",
      "source": [
        "import matplotlib.pyplot as plt\n",
        "val_acc_noise = history_noise.history[\"accuracy\"]\n",
        "val_acc_zeros = history_zeros.history[\"accuracy\"]\n",
        "epochs = range(1, 11)\n",
        "plt.plot(epochs, val_acc_noise, \"b-\",\n",
        "         label=\"Trainng daccuracy with noise channels\")\n",
        "plt.plot(epochs, val_acc_zeros, \"b--\",\n",
        "         label=\"Training accuracy with zeros channels\")\n",
        "plt.title(\"Effect of noise channels on Training accuracy\")\n",
        "plt.xlabel(\"Epochs\")\n",
        "plt.ylabel(\"Accuracy\")\n",
        "plt.legend()"
      ],
      "metadata": {
        "id": "YX7qhpEBwahi",
        "outputId": "e2699c23-7cd1-4065-dafa-45db7351856f",
        "colab": {
          "base_uri": "https://localhost:8080/",
          "height": 490
        }
      },
      "execution_count": 14,
      "outputs": [
        {
          "output_type": "execute_result",
          "data": {
            "text/plain": [
              "<matplotlib.legend.Legend at 0x7fb3900eae00>"
            ]
          },
          "metadata": {},
          "execution_count": 14
        },
        {
          "output_type": "display_data",
          "data": {
            "text/plain": [
              "<Figure size 640x480 with 1 Axes>"
            ],
            "image/png": "[encoded data removed]"
          },
          "metadata": {}
        }
      ]
    },
    {
      "cell_type": "markdown",
      "metadata": {
        "id": "q7Aa9lTLxipd"
      },
      "source": [
        "### The nature of generalization in deep learning"
      ]
    },
    {
      "cell_type": "markdown",
      "metadata": {
        "id": "U82le2tNxipd"
      },
      "source": [
        "**Fitting a MNIST model with randomly shuffled labels**"
      ]
    },
    {
      "cell_type": "markdown",
      "source": [
        "모형 training 하기전에 라벨을 random하게 shuffle"
      ],
      "metadata": {
        "id": "_YXYh1XIyNPb"
      }
    },
    {
      "cell_type": "code",
      "source": [
        "(train_images, train_labels), _ = mnist.load_data()\n",
        "train_images = train_images.reshape((60000, 28 * 28))\n",
        "train_images = train_images.astype(\"float32\") / 255\n",
        "\n",
        "random_train_labels = train_labels[:].copy()#copy를 해야 원래 train_label이 안바뀜\n",
        "np.random.shuffle(random_train_labels)"
      ],
      "metadata": {
        "id": "cO1e8m1jzzOO"
      },
      "execution_count": 15,
      "outputs": []
    },
    {
      "cell_type": "code",
      "source": [
        "train_labels[:10]"
      ],
      "metadata": {
        "id": "80RQXvB9z0af",
        "outputId": "0afd5368-ca77-42b8-a048-f1d458893015",
        "colab": {
          "base_uri": "https://localhost:8080/"
        }
      },
      "execution_count": null,
      "outputs": [
        {
          "output_type": "execute_result",
          "data": {
            "text/plain": [
              "array([5, 0, 4, 1, 9, 2, 1, 3, 1, 4], dtype=uint8)"
            ]
          },
          "metadata": {},
          "execution_count": 12
        }
      ]
    },
    {
      "cell_type": "code",
      "source": [
        "random_train_labels[:10]"
      ],
      "metadata": {
        "id": "D3tjkG_fz0Tx",
        "outputId": "c6b50c44-8c0a-4fa2-d495-0d17b7d62f53",
        "colab": {
          "base_uri": "https://localhost:8080/"
        }
      },
      "execution_count": null,
      "outputs": [
        {
          "output_type": "execute_result",
          "data": {
            "text/plain": [
              "array([6, 4, 6, 2, 7, 1, 4, 9, 3, 5], dtype=uint8)"
            ]
          },
          "metadata": {},
          "execution_count": 11
        }
      ]
    },
    {
      "cell_type": "code",
      "execution_count": 16,
      "metadata": {
        "id": "uHwuZG_zxipd",
        "outputId": "d10ce4b0-7a86-4726-b61f-a8e6b44f4cf1",
        "colab": {
          "base_uri": "https://localhost:8080/"
        }
      },
      "outputs": [
        {
          "output_type": "stream",
          "name": "stdout",
          "text": [
            "Epoch 1/100\n",
            "375/375 [==============================] - 2s 4ms/step - loss: 2.3157 - accuracy: 0.1042 - val_loss: 2.3062 - val_accuracy: 0.1027\n",
            "Epoch 2/100\n",
            "375/375 [==============================] - 1s 4ms/step - loss: 2.2988 - accuracy: 0.1177 - val_loss: 2.3127 - val_accuracy: 0.1039\n",
            "Epoch 3/100\n",
            "375/375 [==============================] - 1s 4ms/step - loss: 2.2908 - accuracy: 0.1293 - val_loss: 2.3142 - val_accuracy: 0.1030\n",
            "Epoch 4/100\n",
            "375/375 [==============================] - 1s 3ms/step - loss: 2.2772 - accuracy: 0.1408 - val_loss: 2.3291 - val_accuracy: 0.0988\n",
            "Epoch 5/100\n",
            "375/375 [==============================] - 1s 3ms/step - loss: 2.2624 - accuracy: 0.1509 - val_loss: 2.3348 - val_accuracy: 0.1038\n",
            "Epoch 6/100\n",
            "375/375 [==============================] - 1s 3ms/step - loss: 2.2422 - accuracy: 0.1669 - val_loss: 2.3524 - val_accuracy: 0.1006\n",
            "Epoch 7/100\n",
            "375/375 [==============================] - 1s 4ms/step - loss: 2.2201 - accuracy: 0.1807 - val_loss: 2.3610 - val_accuracy: 0.1002\n",
            "Epoch 8/100\n",
            "375/375 [==============================] - 2s 4ms/step - loss: 2.1915 - accuracy: 0.1978 - val_loss: 2.3761 - val_accuracy: 0.1012\n",
            "Epoch 9/100\n",
            "375/375 [==============================] - 1s 3ms/step - loss: 2.1613 - accuracy: 0.2135 - val_loss: 2.4004 - val_accuracy: 0.0978\n",
            "Epoch 10/100\n",
            "375/375 [==============================] - 1s 3ms/step - loss: 2.1299 - accuracy: 0.2288 - val_loss: 2.4230 - val_accuracy: 0.0977\n",
            "Epoch 11/100\n",
            "375/375 [==============================] - 1s 3ms/step - loss: 2.0942 - accuracy: 0.2474 - val_loss: 2.4538 - val_accuracy: 0.0987\n",
            "Epoch 12/100\n",
            "375/375 [==============================] - 1s 3ms/step - loss: 2.0584 - accuracy: 0.2651 - val_loss: 2.4899 - val_accuracy: 0.0950\n",
            "Epoch 13/100\n",
            "375/375 [==============================] - 1s 3ms/step - loss: 2.0208 - accuracy: 0.2815 - val_loss: 2.5032 - val_accuracy: 0.1017\n",
            "Epoch 14/100\n",
            "375/375 [==============================] - 1s 3ms/step - loss: 1.9822 - accuracy: 0.2994 - val_loss: 2.5412 - val_accuracy: 0.0962\n",
            "Epoch 15/100\n",
            "375/375 [==============================] - 1s 3ms/step - loss: 1.9412 - accuracy: 0.3169 - val_loss: 2.5691 - val_accuracy: 0.1000\n",
            "Epoch 16/100\n",
            "375/375 [==============================] - 1s 3ms/step - loss: 1.9039 - accuracy: 0.3333 - val_loss: 2.6120 - val_accuracy: 0.0995\n",
            "Epoch 17/100\n",
            "375/375 [==============================] - 1s 4ms/step - loss: 1.8644 - accuracy: 0.3464 - val_loss: 2.6371 - val_accuracy: 0.1018\n",
            "Epoch 18/100\n",
            "375/375 [==============================] - 1s 4ms/step - loss: 1.8244 - accuracy: 0.3668 - val_loss: 2.6697 - val_accuracy: 0.1002\n",
            "Epoch 19/100\n",
            "375/375 [==============================] - 1s 3ms/step - loss: 1.7853 - accuracy: 0.3813 - val_loss: 2.6928 - val_accuracy: 0.1014\n",
            "Epoch 20/100\n",
            "375/375 [==============================] - 1s 3ms/step - loss: 1.7470 - accuracy: 0.3956 - val_loss: 2.7640 - val_accuracy: 0.0962\n",
            "Epoch 21/100\n",
            "375/375 [==============================] - 1s 3ms/step - loss: 1.7089 - accuracy: 0.4117 - val_loss: 2.7979 - val_accuracy: 0.0954\n",
            "Epoch 22/100\n",
            "375/375 [==============================] - 1s 3ms/step - loss: 1.6730 - accuracy: 0.4238 - val_loss: 2.8500 - val_accuracy: 0.0962\n",
            "Epoch 23/100\n",
            "375/375 [==============================] - 1s 3ms/step - loss: 1.6373 - accuracy: 0.4377 - val_loss: 2.8785 - val_accuracy: 0.0983\n",
            "Epoch 24/100\n",
            "375/375 [==============================] - 1s 3ms/step - loss: 1.6015 - accuracy: 0.4522 - val_loss: 2.9309 - val_accuracy: 0.1003\n",
            "Epoch 25/100\n",
            "375/375 [==============================] - 1s 3ms/step - loss: 1.5652 - accuracy: 0.4639 - val_loss: 2.9725 - val_accuracy: 0.0993\n",
            "Epoch 26/100\n",
            "375/375 [==============================] - 1s 3ms/step - loss: 1.5307 - accuracy: 0.4743 - val_loss: 3.0192 - val_accuracy: 0.0997\n",
            "Epoch 27/100\n",
            "375/375 [==============================] - 1s 3ms/step - loss: 1.4989 - accuracy: 0.4906 - val_loss: 3.0719 - val_accuracy: 0.1030\n",
            "Epoch 28/100\n",
            "375/375 [==============================] - 2s 4ms/step - loss: 1.4664 - accuracy: 0.5005 - val_loss: 3.1168 - val_accuracy: 0.1007\n",
            "Epoch 29/100\n",
            "375/375 [==============================] - 1s 3ms/step - loss: 1.4321 - accuracy: 0.5143 - val_loss: 3.1526 - val_accuracy: 0.0988\n",
            "Epoch 30/100\n",
            "375/375 [==============================] - 1s 3ms/step - loss: 1.4020 - accuracy: 0.5242 - val_loss: 3.2279 - val_accuracy: 0.0961\n",
            "Epoch 31/100\n",
            "375/375 [==============================] - 1s 3ms/step - loss: 1.3710 - accuracy: 0.5366 - val_loss: 3.2830 - val_accuracy: 0.0962\n",
            "Epoch 32/100\n",
            "375/375 [==============================] - 1s 3ms/step - loss: 1.3419 - accuracy: 0.5443 - val_loss: 3.3137 - val_accuracy: 0.0984\n",
            "Epoch 33/100\n",
            "375/375 [==============================] - 1s 3ms/step - loss: 1.3125 - accuracy: 0.5584 - val_loss: 3.3907 - val_accuracy: 0.0979\n",
            "Epoch 34/100\n",
            "375/375 [==============================] - 1s 3ms/step - loss: 1.2849 - accuracy: 0.5686 - val_loss: 3.4283 - val_accuracy: 0.0995\n",
            "Epoch 35/100\n",
            "375/375 [==============================] - 1s 3ms/step - loss: 1.2569 - accuracy: 0.5791 - val_loss: 3.4896 - val_accuracy: 0.0962\n",
            "Epoch 36/100\n",
            "375/375 [==============================] - 1s 3ms/step - loss: 1.2282 - accuracy: 0.5895 - val_loss: 3.5395 - val_accuracy: 0.0988\n",
            "Epoch 37/100\n",
            "375/375 [==============================] - 1s 4ms/step - loss: 1.2011 - accuracy: 0.5986 - val_loss: 3.6102 - val_accuracy: 0.0983\n",
            "Epoch 38/100\n",
            "375/375 [==============================] - 1s 4ms/step - loss: 1.1761 - accuracy: 0.6072 - val_loss: 3.6947 - val_accuracy: 0.0997\n",
            "Epoch 39/100\n",
            "375/375 [==============================] - 1s 3ms/step - loss: 1.1517 - accuracy: 0.6169 - val_loss: 3.7419 - val_accuracy: 0.0988\n",
            "Epoch 40/100\n",
            "375/375 [==============================] - 1s 3ms/step - loss: 1.1267 - accuracy: 0.6242 - val_loss: 3.8028 - val_accuracy: 0.0970\n",
            "Epoch 41/100\n",
            "375/375 [==============================] - 1s 3ms/step - loss: 1.1024 - accuracy: 0.6345 - val_loss: 3.8638 - val_accuracy: 0.0981\n",
            "Epoch 42/100\n",
            "375/375 [==============================] - 1s 3ms/step - loss: 1.0802 - accuracy: 0.6406 - val_loss: 3.9046 - val_accuracy: 0.0992\n",
            "Epoch 43/100\n",
            "375/375 [==============================] - 1s 3ms/step - loss: 1.0580 - accuracy: 0.6476 - val_loss: 3.9595 - val_accuracy: 0.0993\n",
            "Epoch 44/100\n",
            "375/375 [==============================] - 1s 3ms/step - loss: 1.0346 - accuracy: 0.6583 - val_loss: 4.0440 - val_accuracy: 0.0988\n",
            "Epoch 45/100\n",
            "375/375 [==============================] - 1s 3ms/step - loss: 1.0115 - accuracy: 0.6655 - val_loss: 4.0843 - val_accuracy: 0.0997\n",
            "Epoch 46/100\n",
            "375/375 [==============================] - 1s 3ms/step - loss: 0.9916 - accuracy: 0.6719 - val_loss: 4.1745 - val_accuracy: 0.1004\n",
            "Epoch 47/100\n",
            "375/375 [==============================] - 1s 4ms/step - loss: 0.9681 - accuracy: 0.6806 - val_loss: 4.2494 - val_accuracy: 0.0975\n",
            "Epoch 48/100\n",
            "375/375 [==============================] - 1s 4ms/step - loss: 0.9490 - accuracy: 0.6871 - val_loss: 4.2620 - val_accuracy: 0.0988\n",
            "Epoch 49/100\n",
            "375/375 [==============================] - 1s 3ms/step - loss: 0.9300 - accuracy: 0.6934 - val_loss: 4.3416 - val_accuracy: 0.0983\n",
            "Epoch 50/100\n",
            "375/375 [==============================] - 1s 3ms/step - loss: 0.9117 - accuracy: 0.7020 - val_loss: 4.4000 - val_accuracy: 0.0970\n",
            "Epoch 51/100\n",
            "375/375 [==============================] - 1s 3ms/step - loss: 0.8888 - accuracy: 0.7095 - val_loss: 4.4619 - val_accuracy: 0.0962\n",
            "Epoch 52/100\n",
            "375/375 [==============================] - 1s 3ms/step - loss: 0.8713 - accuracy: 0.7133 - val_loss: 4.5421 - val_accuracy: 0.1001\n",
            "Epoch 53/100\n",
            "375/375 [==============================] - 1s 3ms/step - loss: 0.8546 - accuracy: 0.7216 - val_loss: 4.6261 - val_accuracy: 0.1004\n",
            "Epoch 54/100\n",
            "375/375 [==============================] - 1s 3ms/step - loss: 0.8360 - accuracy: 0.7259 - val_loss: 4.6935 - val_accuracy: 0.0983\n",
            "Epoch 55/100\n",
            "375/375 [==============================] - 1s 3ms/step - loss: 0.8209 - accuracy: 0.7304 - val_loss: 4.7541 - val_accuracy: 0.0964\n",
            "Epoch 56/100\n",
            "375/375 [==============================] - 1s 3ms/step - loss: 0.8018 - accuracy: 0.7385 - val_loss: 4.7933 - val_accuracy: 0.1002\n",
            "Epoch 57/100\n",
            "375/375 [==============================] - 1s 4ms/step - loss: 0.7857 - accuracy: 0.7431 - val_loss: 4.8648 - val_accuracy: 0.1007\n",
            "Epoch 58/100\n",
            "375/375 [==============================] - 2s 4ms/step - loss: 0.7683 - accuracy: 0.7513 - val_loss: 4.9719 - val_accuracy: 0.1010\n",
            "Epoch 59/100\n",
            "375/375 [==============================] - 1s 3ms/step - loss: 0.7522 - accuracy: 0.7553 - val_loss: 4.9787 - val_accuracy: 0.1002\n",
            "Epoch 60/100\n",
            "375/375 [==============================] - 1s 3ms/step - loss: 0.7396 - accuracy: 0.7599 - val_loss: 5.1372 - val_accuracy: 0.0995\n",
            "Epoch 61/100\n",
            "375/375 [==============================] - 1s 3ms/step - loss: 0.7231 - accuracy: 0.7673 - val_loss: 5.1519 - val_accuracy: 0.0997\n",
            "Epoch 62/100\n",
            "375/375 [==============================] - 1s 3ms/step - loss: 0.7081 - accuracy: 0.7706 - val_loss: 5.2197 - val_accuracy: 0.1036\n",
            "Epoch 63/100\n",
            "375/375 [==============================] - 1s 3ms/step - loss: 0.6930 - accuracy: 0.7752 - val_loss: 5.2858 - val_accuracy: 0.1016\n",
            "Epoch 64/100\n",
            "375/375 [==============================] - 1s 3ms/step - loss: 0.6784 - accuracy: 0.7803 - val_loss: 5.4059 - val_accuracy: 0.0966\n",
            "Epoch 65/100\n",
            "375/375 [==============================] - 1s 3ms/step - loss: 0.6663 - accuracy: 0.7870 - val_loss: 5.4635 - val_accuracy: 0.1009\n",
            "Epoch 66/100\n",
            "375/375 [==============================] - 1s 3ms/step - loss: 0.6526 - accuracy: 0.7911 - val_loss: 5.5228 - val_accuracy: 0.0993\n",
            "Epoch 67/100\n",
            "375/375 [==============================] - 1s 4ms/step - loss: 0.6370 - accuracy: 0.7954 - val_loss: 5.6361 - val_accuracy: 0.1006\n",
            "Epoch 68/100\n",
            "375/375 [==============================] - 2s 4ms/step - loss: 0.6258 - accuracy: 0.7983 - val_loss: 5.6990 - val_accuracy: 0.1018\n",
            "Epoch 69/100\n",
            "375/375 [==============================] - 1s 3ms/step - loss: 0.6142 - accuracy: 0.8050 - val_loss: 5.7311 - val_accuracy: 0.1023\n",
            "Epoch 70/100\n",
            "375/375 [==============================] - 1s 3ms/step - loss: 0.5990 - accuracy: 0.8070 - val_loss: 5.8145 - val_accuracy: 0.1012\n",
            "Epoch 71/100\n",
            "375/375 [==============================] - 1s 3ms/step - loss: 0.5916 - accuracy: 0.8102 - val_loss: 5.9059 - val_accuracy: 0.1016\n",
            "Epoch 72/100\n",
            "375/375 [==============================] - 1s 3ms/step - loss: 0.5780 - accuracy: 0.8139 - val_loss: 5.9421 - val_accuracy: 0.0994\n",
            "Epoch 73/100\n",
            "375/375 [==============================] - 1s 3ms/step - loss: 0.5661 - accuracy: 0.8186 - val_loss: 6.0386 - val_accuracy: 0.0978\n",
            "Epoch 74/100\n",
            "375/375 [==============================] - 1s 3ms/step - loss: 0.5536 - accuracy: 0.8241 - val_loss: 6.1258 - val_accuracy: 0.1033\n",
            "Epoch 75/100\n",
            "375/375 [==============================] - 1s 4ms/step - loss: 0.5438 - accuracy: 0.8260 - val_loss: 6.1538 - val_accuracy: 0.1021\n",
            "Epoch 76/100\n",
            "375/375 [==============================] - 2s 5ms/step - loss: 0.5292 - accuracy: 0.8327 - val_loss: 6.2868 - val_accuracy: 0.0984\n",
            "Epoch 77/100\n",
            "375/375 [==============================] - 2s 4ms/step - loss: 0.5207 - accuracy: 0.8346 - val_loss: 6.3338 - val_accuracy: 0.0993\n",
            "Epoch 78/100\n",
            "375/375 [==============================] - 1s 4ms/step - loss: 0.5115 - accuracy: 0.8388 - val_loss: 6.3958 - val_accuracy: 0.0998\n",
            "Epoch 79/100\n",
            "375/375 [==============================] - 1s 3ms/step - loss: 0.5022 - accuracy: 0.8416 - val_loss: 6.4395 - val_accuracy: 0.1025\n",
            "Epoch 80/100\n",
            "375/375 [==============================] - 1s 3ms/step - loss: 0.4927 - accuracy: 0.8433 - val_loss: 6.5305 - val_accuracy: 0.1019\n",
            "Epoch 81/100\n",
            "375/375 [==============================] - 1s 3ms/step - loss: 0.4819 - accuracy: 0.8486 - val_loss: 6.6105 - val_accuracy: 0.0994\n",
            "Epoch 82/100\n",
            "375/375 [==============================] - 1s 3ms/step - loss: 0.4713 - accuracy: 0.8518 - val_loss: 6.7056 - val_accuracy: 0.1018\n",
            "Epoch 83/100\n",
            "375/375 [==============================] - 1s 3ms/step - loss: 0.4622 - accuracy: 0.8548 - val_loss: 6.7483 - val_accuracy: 0.1039\n",
            "Epoch 84/100\n",
            "375/375 [==============================] - 1s 3ms/step - loss: 0.4530 - accuracy: 0.8568 - val_loss: 6.8288 - val_accuracy: 0.0971\n",
            "Epoch 85/100\n",
            "375/375 [==============================] - 1s 3ms/step - loss: 0.4463 - accuracy: 0.8596 - val_loss: 6.8931 - val_accuracy: 0.1007\n",
            "Epoch 86/100\n",
            "375/375 [==============================] - 1s 3ms/step - loss: 0.4376 - accuracy: 0.8635 - val_loss: 6.9786 - val_accuracy: 0.0997\n",
            "Epoch 87/100\n",
            "375/375 [==============================] - 1s 4ms/step - loss: 0.4285 - accuracy: 0.8652 - val_loss: 7.0338 - val_accuracy: 0.1000\n",
            "Epoch 88/100\n",
            "375/375 [==============================] - 2s 4ms/step - loss: 0.4197 - accuracy: 0.8700 - val_loss: 7.1780 - val_accuracy: 0.1018\n",
            "Epoch 89/100\n",
            "375/375 [==============================] - 1s 3ms/step - loss: 0.4131 - accuracy: 0.8712 - val_loss: 7.2381 - val_accuracy: 0.0997\n",
            "Epoch 90/100\n",
            "375/375 [==============================] - 1s 3ms/step - loss: 0.4055 - accuracy: 0.8739 - val_loss: 7.2587 - val_accuracy: 0.1019\n",
            "Epoch 91/100\n",
            "375/375 [==============================] - 1s 3ms/step - loss: 0.3982 - accuracy: 0.8779 - val_loss: 7.3459 - val_accuracy: 0.0971\n",
            "Epoch 92/100\n",
            "375/375 [==============================] - 1s 3ms/step - loss: 0.3910 - accuracy: 0.8784 - val_loss: 7.4204 - val_accuracy: 0.1026\n",
            "Epoch 93/100\n",
            "375/375 [==============================] - 1s 3ms/step - loss: 0.3831 - accuracy: 0.8819 - val_loss: 7.5278 - val_accuracy: 0.0989\n",
            "Epoch 94/100\n",
            "375/375 [==============================] - 1s 3ms/step - loss: 0.3767 - accuracy: 0.8830 - val_loss: 7.6514 - val_accuracy: 0.0982\n",
            "Epoch 95/100\n",
            "375/375 [==============================] - 1s 3ms/step - loss: 0.3704 - accuracy: 0.8839 - val_loss: 7.6939 - val_accuracy: 0.1044\n",
            "Epoch 96/100\n",
            "375/375 [==============================] - 1s 3ms/step - loss: 0.3617 - accuracy: 0.8885 - val_loss: 7.7464 - val_accuracy: 0.1043\n",
            "Epoch 97/100\n",
            "375/375 [==============================] - 1s 4ms/step - loss: 0.3562 - accuracy: 0.8904 - val_loss: 7.8157 - val_accuracy: 0.1009\n",
            "Epoch 98/100\n",
            "375/375 [==============================] - 1s 4ms/step - loss: 0.3487 - accuracy: 0.8923 - val_loss: 7.8836 - val_accuracy: 0.1013\n",
            "Epoch 99/100\n",
            "375/375 [==============================] - 1s 3ms/step - loss: 0.3439 - accuracy: 0.8947 - val_loss: 8.0461 - val_accuracy: 0.0993\n",
            "Epoch 100/100\n",
            "375/375 [==============================] - 1s 3ms/step - loss: 0.3361 - accuracy: 0.8966 - val_loss: 8.0489 - val_accuracy: 0.1021\n"
          ]
        },
        {
          "output_type": "execute_result",
          "data": {
            "text/plain": [
              "<keras.callbacks.History at 0x7fb31a6d5450>"
            ]
          },
          "metadata": {},
          "execution_count": 16
        }
      ],
      "source": [
        "\n",
        "\n",
        "model = keras.Sequential([\n",
        "    layers.Dense(512, activation=\"relu\"),\n",
        "    layers.Dense(10, activation=\"softmax\")\n",
        "])\n",
        "model.compile(optimizer=\"rmsprop\",\n",
        "              loss=\"sparse_categorical_crossentropy\",\n",
        "              metrics=[\"accuracy\"])\n",
        "model.fit(train_images, random_train_labels,\n",
        "          epochs=100,\n",
        "          batch_size=128,\n",
        "          validation_split=0.2)"
      ]
    },
    {
      "cell_type": "markdown",
      "metadata": {
        "id": "YQafFe91xipd"
      },
      "source": [
        "#### The manifold hypothesis"
      ]
    },
    {
      "cell_type": "markdown",
      "metadata": {
        "id": "RC7awuhkxipd"
      },
      "source": [
        "#### Interpolation as a source of generalization"
      ]
    },
    {
      "cell_type": "markdown",
      "metadata": {
        "id": "ASEzgN6Axipe"
      },
      "source": [
        "#### Why deep learning works"
      ]
    },
    {
      "cell_type": "markdown",
      "metadata": {
        "id": "F9ul1HE2xipe"
      },
      "source": [
        "#### Training data is paramount"
      ]
    },
    {
      "cell_type": "markdown",
      "metadata": {
        "id": "tuyTp6Ynxipe"
      },
      "source": [
        "## Evaluating machine-learning models"
      ]
    },
    {
      "cell_type": "markdown",
      "metadata": {
        "id": "O345rfKFxipe"
      },
      "source": [
        "### Training, validation, and test sets"
      ]
    },
    {
      "cell_type": "markdown",
      "metadata": {
        "id": "-CG2vhK-xipe"
      },
      "source": [
        "#### Simple hold-out validation"
      ]
    },
    {
      "cell_type": "markdown",
      "metadata": {
        "id": "hk44mXC-xipe"
      },
      "source": [
        "#### K-fold validation"
      ]
    },
    {
      "cell_type": "markdown",
      "metadata": {
        "id": "roNcHG-Kxipe"
      },
      "source": [
        "#### Iterated K-fold validation with shuffling"
      ]
    },
    {
      "cell_type": "markdown",
      "metadata": {
        "id": "jb05AdA_xipe"
      },
      "source": [
        "### Beating a common-sense baseline"
      ]
    },
    {
      "cell_type": "markdown",
      "metadata": {
        "id": "BrA5v3lOxipe"
      },
      "source": [
        "### Things to keep in mind about model evaluation"
      ]
    },
    {
      "cell_type": "markdown",
      "metadata": {
        "id": "atGHtXbMxipf"
      },
      "source": [
        "## Improving model fit"
      ]
    },
    {
      "cell_type": "markdown",
      "metadata": {
        "id": "Hrvg51uZxipf"
      },
      "source": [
        "### Tuning key gradient descent parameters"
      ]
    },
    {
      "cell_type": "markdown",
      "metadata": {
        "id": "bA1RJLWBxipf"
      },
      "source": [
        "**Training a MNIST model with an incorrectly high learning rate**"
      ]
    },
    {
      "cell_type": "markdown",
      "source": [
        "learning_rate 조정하는 방법"
      ],
      "metadata": {
        "id": "C5y5SqV5Zdqz"
      }
    },
    {
      "cell_type": "code",
      "execution_count": 17,
      "metadata": {
        "id": "1wmx-FK8xipf",
        "outputId": "b3b36b1c-bac7-4a59-bb86-2832abde5a0d",
        "colab": {
          "base_uri": "https://localhost:8080/"
        }
      },
      "outputs": [
        {
          "output_type": "stream",
          "name": "stdout",
          "text": [
            "Epoch 1/10\n",
            "375/375 [==============================] - 2s 3ms/step - loss: 564.2504 - accuracy: 0.3081 - val_loss: 2.6331 - val_accuracy: 0.2089\n",
            "Epoch 2/10\n",
            "375/375 [==============================] - 1s 3ms/step - loss: 3.3728 - accuracy: 0.2167 - val_loss: 2.2967 - val_accuracy: 0.2209\n",
            "Epoch 3/10\n",
            "375/375 [==============================] - 1s 3ms/step - loss: 2.4647 - accuracy: 0.1985 - val_loss: 2.2796 - val_accuracy: 0.2726\n",
            "Epoch 4/10\n",
            "375/375 [==============================] - 1s 3ms/step - loss: 2.5259 - accuracy: 0.1929 - val_loss: 2.2757 - val_accuracy: 0.1952\n",
            "Epoch 5/10\n",
            "375/375 [==============================] - 1s 3ms/step - loss: 2.4023 - accuracy: 0.1969 - val_loss: 2.2469 - val_accuracy: 0.2153\n",
            "Epoch 6/10\n",
            "375/375 [==============================] - 1s 4ms/step - loss: 2.4087 - accuracy: 0.1992 - val_loss: 2.1906 - val_accuracy: 0.2084\n",
            "Epoch 7/10\n",
            "375/375 [==============================] - 2s 4ms/step - loss: 2.3213 - accuracy: 0.2050 - val_loss: 7.1383 - val_accuracy: 0.1937\n",
            "Epoch 8/10\n",
            "375/375 [==============================] - 1s 3ms/step - loss: 2.2691 - accuracy: 0.1915 - val_loss: 2.4073 - val_accuracy: 0.1947\n",
            "Epoch 9/10\n",
            "375/375 [==============================] - 1s 3ms/step - loss: 2.3057 - accuracy: 0.2066 - val_loss: 2.1399 - val_accuracy: 0.2241\n",
            "Epoch 10/10\n",
            "375/375 [==============================] - 1s 3ms/step - loss: 2.3736 - accuracy: 0.2015 - val_loss: 2.1293 - val_accuracy: 0.2210\n"
          ]
        },
        {
          "output_type": "execute_result",
          "data": {
            "text/plain": [
              "<keras.callbacks.History at 0x7fb428a42ef0>"
            ]
          },
          "metadata": {},
          "execution_count": 17
        }
      ],
      "source": [
        "from tensorflow.keras.datasets import mnist\n",
        "import numpy as np\n",
        "from tensorflow import keras\n",
        "from tensorflow.keras import layers\n",
        "\n",
        "(train_images, train_labels), _ = mnist.load_data()\n",
        "train_images = train_images.reshape((60000, 28 * 28))\n",
        "train_images = train_images.astype(\"float32\") / 255 #normalize\n",
        "\n",
        "model = keras.Sequential([\n",
        "    layers.Dense(512, activation=\"relu\"),\n",
        "    layers.Dense(10, activation=\"softmax\")\n",
        "])\n",
        "model.compile(optimizer=keras.optimizers.RMSprop(1.), # accuracy 낮아짐 -> learning rate 조정정(learningrate 너무 크면 모형이 수렴하지 않음)\n",
        "              loss=\"sparse_categorical_crossentropy\",\n",
        "              metrics=[\"accuracy\"])\n",
        "model.fit(train_images, train_labels,\n",
        "          epochs=10,\n",
        "          batch_size=128,\n",
        "          validation_split=0.2)"
      ]
    },
    {
      "cell_type": "markdown",
      "metadata": {
        "id": "-iZsvbIqxipf"
      },
      "source": [
        "**The same model with a more appropriate learning rate**"
      ]
    },
    {
      "cell_type": "code",
      "execution_count": 18,
      "metadata": {
        "id": "MS0-Cx6bxipf",
        "outputId": "52582239-c2c6-4bd4-9d6a-d07fcefe7231",
        "colab": {
          "base_uri": "https://localhost:8080/"
        }
      },
      "outputs": [
        {
          "output_type": "stream",
          "name": "stdout",
          "text": [
            "Epoch 1/10\n",
            "375/375 [==============================] - 2s 4ms/step - loss: 0.3713 - accuracy: 0.9103 - val_loss: 0.1891 - val_accuracy: 0.9426\n",
            "Epoch 2/10\n",
            "375/375 [==============================] - 1s 3ms/step - loss: 0.1239 - accuracy: 0.9653 - val_loss: 0.1351 - val_accuracy: 0.9638\n",
            "Epoch 3/10\n",
            "375/375 [==============================] - 1s 3ms/step - loss: 0.0925 - accuracy: 0.9749 - val_loss: 0.1563 - val_accuracy: 0.9642\n",
            "Epoch 4/10\n",
            "375/375 [==============================] - 1s 3ms/step - loss: 0.0816 - accuracy: 0.9785 - val_loss: 0.2103 - val_accuracy: 0.9590\n",
            "Epoch 5/10\n",
            "375/375 [==============================] - 1s 3ms/step - loss: 0.0714 - accuracy: 0.9826 - val_loss: 0.1856 - val_accuracy: 0.9663\n",
            "Epoch 6/10\n",
            "375/375 [==============================] - 1s 3ms/step - loss: 0.0605 - accuracy: 0.9846 - val_loss: 0.1718 - val_accuracy: 0.9708\n",
            "Epoch 7/10\n",
            "375/375 [==============================] - 2s 5ms/step - loss: 0.0513 - accuracy: 0.9872 - val_loss: 0.1891 - val_accuracy: 0.9691\n",
            "Epoch 8/10\n",
            "375/375 [==============================] - 2s 4ms/step - loss: 0.0424 - accuracy: 0.9897 - val_loss: 0.1649 - val_accuracy: 0.9734\n",
            "Epoch 9/10\n",
            "375/375 [==============================] - 1s 3ms/step - loss: 0.0414 - accuracy: 0.9904 - val_loss: 0.1956 - val_accuracy: 0.9745\n",
            "Epoch 10/10\n",
            "375/375 [==============================] - 1s 3ms/step - loss: 0.0423 - accuracy: 0.9912 - val_loss: 0.1954 - val_accuracy: 0.9745\n"
          ]
        },
        {
          "output_type": "execute_result",
          "data": {
            "text/plain": [
              "<keras.callbacks.History at 0x7fb42abe7c10>"
            ]
          },
          "metadata": {},
          "execution_count": 18
        }
      ],
      "source": [
        "model = keras.Sequential([\n",
        "    layers.Dense(512, activation=\"relu\"),\n",
        "    layers.Dense(10, activation=\"softmax\")\n",
        "])\n",
        "model.compile(optimizer=keras.optimizers.RMSprop(1e-2), #learning rate가 너무 작으면 수렴 속도가 느려지긴함. 그래도 작게 하는게 나음\n",
        "              loss=\"sparse_categorical_crossentropy\",\n",
        "              metrics=[\"accuracy\"])\n",
        "model.fit(train_images, train_labels,\n",
        "          epochs=10,\n",
        "          batch_size=128,\n",
        "          validation_split=0.2)"
      ]
    },
    {
      "cell_type": "markdown",
      "metadata": {
        "id": "JuXnxX8Rxipf"
      },
      "source": [
        "### Leveraging better architecture priors"
      ]
    },
    {
      "cell_type": "markdown",
      "metadata": {
        "id": "rBnQpKuExipf"
      },
      "source": [
        "### Increasing model capacity"
      ]
    },
    {
      "cell_type": "markdown",
      "metadata": {
        "id": "4N-xBhBFxipg"
      },
      "source": [
        "**A simple logistic regression on MNIST**"
      ]
    },
    {
      "cell_type": "code",
      "execution_count": 19,
      "metadata": {
        "id": "M7S-yiZmxipg",
        "outputId": "19092d90-8b8d-47d2-af14-e0dac2266dd1",
        "colab": {
          "base_uri": "https://localhost:8080/"
        }
      },
      "outputs": [
        {
          "output_type": "stream",
          "name": "stdout",
          "text": [
            "Epoch 1/20\n",
            "375/375 [==============================] - 2s 4ms/step - loss: 0.6804 - accuracy: 0.8325 - val_loss: 0.3599 - val_accuracy: 0.9032\n",
            "Epoch 2/20\n",
            "375/375 [==============================] - 1s 3ms/step - loss: 0.3532 - accuracy: 0.9024 - val_loss: 0.3090 - val_accuracy: 0.9137\n",
            "Epoch 3/20\n",
            "375/375 [==============================] - 1s 3ms/step - loss: 0.3182 - accuracy: 0.9122 - val_loss: 0.2929 - val_accuracy: 0.9185\n",
            "Epoch 4/20\n",
            "375/375 [==============================] - 1s 3ms/step - loss: 0.3024 - accuracy: 0.9159 - val_loss: 0.2847 - val_accuracy: 0.9199\n",
            "Epoch 5/20\n",
            "375/375 [==============================] - 1s 3ms/step - loss: 0.2924 - accuracy: 0.9186 - val_loss: 0.2785 - val_accuracy: 0.9233\n",
            "Epoch 6/20\n",
            "375/375 [==============================] - 1s 3ms/step - loss: 0.2858 - accuracy: 0.9205 - val_loss: 0.2739 - val_accuracy: 0.9256\n",
            "Epoch 7/20\n",
            "375/375 [==============================] - 1s 3ms/step - loss: 0.2811 - accuracy: 0.9215 - val_loss: 0.2720 - val_accuracy: 0.9247\n",
            "Epoch 8/20\n",
            "375/375 [==============================] - 1s 3ms/step - loss: 0.2767 - accuracy: 0.9225 - val_loss: 0.2702 - val_accuracy: 0.9267\n",
            "Epoch 9/20\n",
            "375/375 [==============================] - 1s 3ms/step - loss: 0.2736 - accuracy: 0.9242 - val_loss: 0.2689 - val_accuracy: 0.9266\n",
            "Epoch 10/20\n",
            "375/375 [==============================] - 1s 3ms/step - loss: 0.2709 - accuracy: 0.9250 - val_loss: 0.2700 - val_accuracy: 0.9257\n",
            "Epoch 11/20\n",
            "375/375 [==============================] - 1s 4ms/step - loss: 0.2687 - accuracy: 0.9257 - val_loss: 0.2659 - val_accuracy: 0.9273\n",
            "Epoch 12/20\n",
            "375/375 [==============================] - 1s 3ms/step - loss: 0.2666 - accuracy: 0.9259 - val_loss: 0.2659 - val_accuracy: 0.9286\n",
            "Epoch 13/20\n",
            "375/375 [==============================] - 1s 3ms/step - loss: 0.2651 - accuracy: 0.9264 - val_loss: 0.2660 - val_accuracy: 0.9282\n",
            "Epoch 14/20\n",
            "375/375 [==============================] - 1s 3ms/step - loss: 0.2632 - accuracy: 0.9274 - val_loss: 0.2676 - val_accuracy: 0.9274\n",
            "Epoch 15/20\n",
            "375/375 [==============================] - 1s 3ms/step - loss: 0.2619 - accuracy: 0.9281 - val_loss: 0.2646 - val_accuracy: 0.9284\n",
            "Epoch 16/20\n",
            "375/375 [==============================] - 1s 3ms/step - loss: 0.2606 - accuracy: 0.9285 - val_loss: 0.2647 - val_accuracy: 0.9287\n",
            "Epoch 17/20\n",
            "375/375 [==============================] - 1s 3ms/step - loss: 0.2594 - accuracy: 0.9287 - val_loss: 0.2657 - val_accuracy: 0.9283\n",
            "Epoch 18/20\n",
            "375/375 [==============================] - 1s 3ms/step - loss: 0.2583 - accuracy: 0.9291 - val_loss: 0.2646 - val_accuracy: 0.9285\n",
            "Epoch 19/20\n",
            "375/375 [==============================] - 1s 3ms/step - loss: 0.2573 - accuracy: 0.9292 - val_loss: 0.2644 - val_accuracy: 0.9291\n",
            "Epoch 20/20\n",
            "375/375 [==============================] - 1s 3ms/step - loss: 0.2560 - accuracy: 0.9300 - val_loss: 0.2645 - val_accuracy: 0.9296\n"
          ]
        }
      ],
      "source": [
        "model = keras.Sequential([layers.Dense(10, activation=\"softmax\")])\n",
        "model.compile(optimizer=\"rmsprop\",\n",
        "              loss=\"sparse_categorical_crossentropy\",\n",
        "              metrics=[\"accuracy\"])\n",
        "history_small_model = model.fit(\n",
        "    train_images, train_labels,\n",
        "    epochs=20,\n",
        "    batch_size=128,\n",
        "    validation_split=0.2)"
      ]
    },
    {
      "cell_type": "code",
      "execution_count": 20,
      "metadata": {
        "id": "425iGT2ixipg",
        "outputId": "75f5ba31-d8a4-4f1f-f642-29e9478e4f51",
        "colab": {
          "base_uri": "https://localhost:8080/",
          "height": 490
        }
      },
      "outputs": [
        {
          "output_type": "execute_result",
          "data": {
            "text/plain": [
              "<matplotlib.legend.Legend at 0x7fb4291b8310>"
            ]
          },
          "metadata": {},
          "execution_count": 20
        },
        {
          "output_type": "display_data",
          "data": {
            "text/plain": [
              "<Figure size 640x480 with 1 Axes>"
            ],
            "image/png": "[encoded data removed]"
          },
          "metadata": {}
        }
      ],
      "source": [
        "import matplotlib.pyplot as plt\n",
        "val_loss = history_small_model.history[\"val_loss\"]\n",
        "epochs = range(1, 21)\n",
        "plt.plot(epochs, val_loss, \"b--\",\n",
        "         label=\"Validation loss\")\n",
        "plt.title(\"Effect of insufficient model capacity on validation loss\")\n",
        "plt.xlabel(\"Epochs\")\n",
        "plt.ylabel(\"Loss\")\n",
        "plt.legend()"
      ]
    },
    {
      "cell_type": "code",
      "execution_count": 21,
      "metadata": {
        "id": "-MiG0KYqxipg",
        "outputId": "d5a06361-6223-438a-c694-b02c4fd9c648",
        "colab": {
          "base_uri": "https://localhost:8080/"
        }
      },
      "outputs": [
        {
          "output_type": "stream",
          "name": "stdout",
          "text": [
            "Epoch 1/20\n",
            "375/375 [==============================] - 2s 4ms/step - loss: 0.3575 - accuracy: 0.8978 - val_loss: 0.1765 - val_accuracy: 0.9488\n",
            "Epoch 2/20\n",
            "375/375 [==============================] - 1s 3ms/step - loss: 0.1613 - accuracy: 0.9523 - val_loss: 0.1287 - val_accuracy: 0.9638\n",
            "Epoch 3/20\n",
            "375/375 [==============================] - 2s 4ms/step - loss: 0.1159 - accuracy: 0.9652 - val_loss: 0.1109 - val_accuracy: 0.9675\n",
            "Epoch 4/20\n",
            "375/375 [==============================] - 1s 4ms/step - loss: 0.0877 - accuracy: 0.9729 - val_loss: 0.1085 - val_accuracy: 0.9689\n",
            "Epoch 5/20\n",
            "375/375 [==============================] - 1s 3ms/step - loss: 0.0712 - accuracy: 0.9781 - val_loss: 0.0979 - val_accuracy: 0.9715\n",
            "Epoch 6/20\n",
            "375/375 [==============================] - 1s 3ms/step - loss: 0.0575 - accuracy: 0.9824 - val_loss: 0.0947 - val_accuracy: 0.9716\n",
            "Epoch 7/20\n",
            "375/375 [==============================] - 1s 3ms/step - loss: 0.0477 - accuracy: 0.9852 - val_loss: 0.0971 - val_accuracy: 0.9719\n",
            "Epoch 8/20\n",
            "375/375 [==============================] - 1s 3ms/step - loss: 0.0399 - accuracy: 0.9877 - val_loss: 0.1304 - val_accuracy: 0.9632\n",
            "Epoch 9/20\n",
            "375/375 [==============================] - 1s 3ms/step - loss: 0.0328 - accuracy: 0.9898 - val_loss: 0.1048 - val_accuracy: 0.9722\n",
            "Epoch 10/20\n",
            "375/375 [==============================] - 1s 4ms/step - loss: 0.0282 - accuracy: 0.9913 - val_loss: 0.0938 - val_accuracy: 0.9753\n",
            "Epoch 11/20\n",
            "375/375 [==============================] - 1s 4ms/step - loss: 0.0241 - accuracy: 0.9926 - val_loss: 0.1011 - val_accuracy: 0.9745\n",
            "Epoch 12/20\n",
            "375/375 [==============================] - 2s 4ms/step - loss: 0.0198 - accuracy: 0.9938 - val_loss: 0.1080 - val_accuracy: 0.9722\n",
            "Epoch 13/20\n",
            "375/375 [==============================] - 2s 4ms/step - loss: 0.0170 - accuracy: 0.9948 - val_loss: 0.1123 - val_accuracy: 0.9737\n",
            "Epoch 14/20\n",
            "375/375 [==============================] - 1s 3ms/step - loss: 0.0145 - accuracy: 0.9957 - val_loss: 0.1070 - val_accuracy: 0.9749\n",
            "Epoch 15/20\n",
            "375/375 [==============================] - 1s 3ms/step - loss: 0.0131 - accuracy: 0.9962 - val_loss: 0.1205 - val_accuracy: 0.9734\n",
            "Epoch 16/20\n",
            "375/375 [==============================] - 1s 3ms/step - loss: 0.0100 - accuracy: 0.9971 - val_loss: 0.1175 - val_accuracy: 0.9754\n",
            "Epoch 17/20\n",
            "375/375 [==============================] - 1s 3ms/step - loss: 0.0090 - accuracy: 0.9973 - val_loss: 0.1205 - val_accuracy: 0.9748\n",
            "Epoch 18/20\n",
            "375/375 [==============================] - 1s 3ms/step - loss: 0.0074 - accuracy: 0.9979 - val_loss: 0.1254 - val_accuracy: 0.9753\n",
            "Epoch 19/20\n",
            "375/375 [==============================] - 1s 3ms/step - loss: 0.0065 - accuracy: 0.9981 - val_loss: 0.1472 - val_accuracy: 0.9731\n",
            "Epoch 20/20\n",
            "375/375 [==============================] - 1s 3ms/step - loss: 0.0054 - accuracy: 0.9982 - val_loss: 0.1340 - val_accuracy: 0.9750\n"
          ]
        }
      ],
      "source": [
        "model = keras.Sequential([\n",
        "    layers.Dense(96, activation=\"relu\"),\n",
        "    layers.Dense(96, activation=\"relu\"),\n",
        "    layers.Dense(10, activation=\"softmax\"),\n",
        "])\n",
        "model.compile(optimizer=\"rmsprop\",\n",
        "              loss=\"sparse_categorical_crossentropy\",\n",
        "              metrics=[\"accuracy\"])\n",
        "history_large_model = model.fit(\n",
        "    train_images, train_labels,\n",
        "    epochs=20,\n",
        "    batch_size=128,\n",
        "    validation_split=0.2)"
      ]
    },
    {
      "cell_type": "code",
      "source": [
        "import matplotlib.pyplot as plt\n",
        "val_loss = history_large_model.history[\"val_loss\"]\n",
        "epochs = range(1, 21)\n",
        "plt.plot(epochs, val_loss, \"b--\",\n",
        "         label=\"Validation loss\")\n",
        "plt.title(\"Effect of insufficient model capacity on validation loss\")\n",
        "plt.xlabel(\"Epochs\")\n",
        "plt.ylabel(\"Loss\")\n",
        "plt.legend()"
      ],
      "metadata": {
        "id": "MOwWcaoaF_F4",
        "outputId": "31ea5681-2f6e-486f-f740-870cc0df4613",
        "colab": {
          "base_uri": "https://localhost:8080/",
          "height": 490
        }
      },
      "execution_count": 22,
      "outputs": [
        {
          "output_type": "execute_result",
          "data": {
            "text/plain": [
              "<matplotlib.legend.Legend at 0x7fb42aae3c10>"
            ]
          },
          "metadata": {},
          "execution_count": 22
        },
        {
          "output_type": "display_data",
          "data": {
            "text/plain": [
              "<Figure size 640x480 with 1 Axes>"
            ],
            "image/png": "[encoded data removed]"
          },
          "metadata": {}
        }
      ]
    },
    {
      "cell_type": "code",
      "source": [
        "import matplotlib.pyplot as plt\n",
        "val_loss1 = history_small_model.history[\"val_loss\"]\n",
        "val_loss2 = history_large_model.history[\"val_loss\"]\n",
        "epochs = range(1, 21)\n",
        "plt.plot(epochs, val_loss, \"b--\",\n",
        "         label=\"Validation loss\")\n",
        "plt.title(\"Effect of insufficient model capacity on validation loss\")\n",
        "plt.xlabel(\"Epochs\")\n",
        "plt.ylabel(\"Loss\")\n",
        "plt.legend()"
      ],
      "metadata": {
        "id": "AZEEJJvIGy_m",
        "outputId": "89595a20-4925-4a4e-c794-a8c920a0a32d",
        "colab": {
          "base_uri": "https://localhost:8080/",
          "height": 490
        }
      },
      "execution_count": 23,
      "outputs": [
        {
          "output_type": "execute_result",
          "data": {
            "text/plain": [
              "<matplotlib.legend.Legend at 0x7fb42a8b8e80>"
            ]
          },
          "metadata": {},
          "execution_count": 23
        },
        {
          "output_type": "display_data",
          "data": {
            "text/plain": [
              "<Figure size 640x480 with 1 Axes>"
            ],
            "image/png": "[encoded data removed]"
          },
          "metadata": {}
        }
      ]
    },
    {
      "cell_type": "markdown",
      "metadata": {
        "id": "J5E0uIlOxipg"
      },
      "source": [
        "## Improving generalization"
      ]
    },
    {
      "cell_type": "markdown",
      "metadata": {
        "id": "BVAy0NTOxipg"
      },
      "source": [
        "### Dataset curation"
      ]
    },
    {
      "cell_type": "markdown",
      "metadata": {
        "id": "LEWMKSmwxipg"
      },
      "source": [
        "### Feature engineering"
      ]
    },
    {
      "cell_type": "markdown",
      "metadata": {
        "id": "nttyaZS4xipg"
      },
      "source": [
        "### Using early stopping"
      ]
    },
    {
      "cell_type": "markdown",
      "metadata": {
        "id": "dzj-CxNNxipg"
      },
      "source": [
        "### Regularizing your model"
      ]
    },
    {
      "cell_type": "markdown",
      "metadata": {
        "id": "SVB2qL_Wxiph"
      },
      "source": [
        "#### Reducing the network's size"
      ]
    },
    {
      "cell_type": "markdown",
      "metadata": {
        "id": "kjgAObbLxiph"
      },
      "source": [
        "**Original model**"
      ]
    },
    {
      "cell_type": "code",
      "execution_count": 24,
      "metadata": {
        "id": "8_RxfKnKxiph",
        "outputId": "12532cc6-1d1e-43f3-ce1a-3fa794654d77",
        "colab": {
          "base_uri": "https://localhost:8080/"
        }
      },
      "outputs": [
        {
          "output_type": "stream",
          "name": "stdout",
          "text": [
            "Downloading data from https://storage.googleapis.com/tensorflow/tf-keras-datasets/imdb.npz\n",
            "17464789/17464789 [==============================] - 0s 0us/step\n",
            "Epoch 1/20\n",
            "30/30 [==============================] - 3s 56ms/step - loss: 0.5145 - accuracy: 0.7898 - val_loss: 0.3908 - val_accuracy: 0.8641\n",
            "Epoch 2/20\n",
            "30/30 [==============================] - 1s 25ms/step - loss: 0.3173 - accuracy: 0.8943 - val_loss: 0.3124 - val_accuracy: 0.8798\n",
            "Epoch 3/20\n",
            "30/30 [==============================] - 1s 23ms/step - loss: 0.2392 - accuracy: 0.9201 - val_loss: 0.2928 - val_accuracy: 0.8813\n",
            "Epoch 4/20\n",
            "30/30 [==============================] - 1s 25ms/step - loss: 0.1931 - accuracy: 0.9347 - val_loss: 0.2931 - val_accuracy: 0.8800\n",
            "Epoch 5/20\n",
            "30/30 [==============================] - 1s 22ms/step - loss: 0.1619 - accuracy: 0.9456 - val_loss: 0.2950 - val_accuracy: 0.8811\n",
            "Epoch 6/20\n",
            "30/30 [==============================] - 1s 24ms/step - loss: 0.1352 - accuracy: 0.9565 - val_loss: 0.2875 - val_accuracy: 0.8862\n",
            "Epoch 7/20\n",
            "30/30 [==============================] - 1s 23ms/step - loss: 0.1162 - accuracy: 0.9643 - val_loss: 0.3033 - val_accuracy: 0.8835\n",
            "Epoch 8/20\n",
            "30/30 [==============================] - 1s 22ms/step - loss: 0.1021 - accuracy: 0.9693 - val_loss: 0.3131 - val_accuracy: 0.8835\n",
            "Epoch 9/20\n",
            "30/30 [==============================] - 1s 25ms/step - loss: 0.0837 - accuracy: 0.9778 - val_loss: 0.3367 - val_accuracy: 0.8805\n",
            "Epoch 10/20\n",
            "30/30 [==============================] - 1s 23ms/step - loss: 0.0770 - accuracy: 0.9778 - val_loss: 0.3513 - val_accuracy: 0.8811\n",
            "Epoch 11/20\n",
            "30/30 [==============================] - 1s 24ms/step - loss: 0.0620 - accuracy: 0.9853 - val_loss: 0.3734 - val_accuracy: 0.8786\n",
            "Epoch 12/20\n",
            "30/30 [==============================] - 1s 25ms/step - loss: 0.0529 - accuracy: 0.9873 - val_loss: 0.3953 - val_accuracy: 0.8768\n",
            "Epoch 13/20\n",
            "30/30 [==============================] - 1s 22ms/step - loss: 0.0457 - accuracy: 0.9902 - val_loss: 0.4322 - val_accuracy: 0.8726\n",
            "Epoch 14/20\n",
            "30/30 [==============================] - 1s 29ms/step - loss: 0.0400 - accuracy: 0.9919 - val_loss: 0.4383 - val_accuracy: 0.8751\n",
            "Epoch 15/20\n",
            "30/30 [==============================] - 1s 27ms/step - loss: 0.0326 - accuracy: 0.9936 - val_loss: 0.4627 - val_accuracy: 0.8737\n",
            "Epoch 16/20\n",
            "30/30 [==============================] - 1s 39ms/step - loss: 0.0256 - accuracy: 0.9963 - val_loss: 0.4826 - val_accuracy: 0.8735\n",
            "Epoch 17/20\n",
            "30/30 [==============================] - 1s 24ms/step - loss: 0.0254 - accuracy: 0.9953 - val_loss: 0.5112 - val_accuracy: 0.8735\n",
            "Epoch 18/20\n",
            "30/30 [==============================] - 1s 21ms/step - loss: 0.0186 - accuracy: 0.9970 - val_loss: 0.5328 - val_accuracy: 0.8714\n",
            "Epoch 19/20\n",
            "30/30 [==============================] - 1s 22ms/step - loss: 0.0181 - accuracy: 0.9962 - val_loss: 0.5595 - val_accuracy: 0.8698\n",
            "Epoch 20/20\n",
            "30/30 [==============================] - 1s 22ms/step - loss: 0.0100 - accuracy: 0.9991 - val_loss: 0.6072 - val_accuracy: 0.8682\n"
          ]
        }
      ],
      "source": [
        "from tensorflow.keras.datasets import imdb\n",
        "(train_data, train_labels), _ = imdb.load_data(num_words=10000)\n",
        "\n",
        "def vectorize_sequences(sequences, dimension=10000):\n",
        "    results = np.zeros((len(sequences), dimension))\n",
        "    for i, sequence in enumerate(sequences):\n",
        "        results[i, sequence] = 1.\n",
        "    return results\n",
        "train_data = vectorize_sequences(train_data)\n",
        "\n",
        "model = keras.Sequential([\n",
        "    layers.Dense(16, activation=\"relu\"),\n",
        "    layers.Dense(16, activation=\"relu\"),\n",
        "    layers.Dense(1, activation=\"sigmoid\")\n",
        "])\n",
        "model.compile(optimizer=\"rmsprop\",\n",
        "              loss=\"binary_crossentropy\",\n",
        "              metrics=[\"accuracy\"])\n",
        "history_original = model.fit(train_data, train_labels,\n",
        "                             epochs=20, batch_size=512, validation_split=0.4)"
      ]
    },
    {
      "cell_type": "markdown",
      "metadata": {
        "id": "PUcdvzBBxiph"
      },
      "source": [
        "**Version of the model with lower capacity**"
      ]
    },
    {
      "cell_type": "code",
      "execution_count": 25,
      "metadata": {
        "id": "mz232JA8xiph",
        "outputId": "c4f78c49-b92c-422c-ca41-9ec87848c2e8",
        "colab": {
          "base_uri": "https://localhost:8080/"
        }
      },
      "outputs": [
        {
          "output_type": "stream",
          "name": "stdout",
          "text": [
            "Epoch 1/20\n",
            "30/30 [==============================] - 3s 67ms/step - loss: 0.5607 - accuracy: 0.7765 - val_loss: 0.4572 - val_accuracy: 0.8580\n",
            "Epoch 2/20\n",
            "30/30 [==============================] - 1s 28ms/step - loss: 0.3900 - accuracy: 0.8889 - val_loss: 0.3668 - val_accuracy: 0.8784\n",
            "Epoch 3/20\n",
            "30/30 [==============================] - 1s 28ms/step - loss: 0.3055 - accuracy: 0.9089 - val_loss: 0.3209 - val_accuracy: 0.8844\n",
            "Epoch 4/20\n",
            "30/30 [==============================] - 1s 22ms/step - loss: 0.2537 - accuracy: 0.9243 - val_loss: 0.2975 - val_accuracy: 0.8877\n",
            "Epoch 5/20\n",
            "30/30 [==============================] - 1s 21ms/step - loss: 0.2169 - accuracy: 0.9344 - val_loss: 0.2892 - val_accuracy: 0.8876\n",
            "Epoch 6/20\n",
            "30/30 [==============================] - 1s 24ms/step - loss: 0.1897 - accuracy: 0.9433 - val_loss: 0.2782 - val_accuracy: 0.8908\n",
            "Epoch 7/20\n",
            "30/30 [==============================] - 1s 22ms/step - loss: 0.1684 - accuracy: 0.9498 - val_loss: 0.2747 - val_accuracy: 0.8910\n",
            "Epoch 8/20\n",
            "30/30 [==============================] - 1s 22ms/step - loss: 0.1498 - accuracy: 0.9555 - val_loss: 0.2811 - val_accuracy: 0.8873\n",
            "Epoch 9/20\n",
            "30/30 [==============================] - 1s 22ms/step - loss: 0.1337 - accuracy: 0.9620 - val_loss: 0.2802 - val_accuracy: 0.8874\n",
            "Epoch 10/20\n",
            "30/30 [==============================] - 1s 24ms/step - loss: 0.1200 - accuracy: 0.9666 - val_loss: 0.2862 - val_accuracy: 0.8869\n",
            "Epoch 11/20\n",
            "30/30 [==============================] - 1s 24ms/step - loss: 0.1082 - accuracy: 0.9699 - val_loss: 0.2932 - val_accuracy: 0.8846\n",
            "Epoch 12/20\n",
            "30/30 [==============================] - 1s 22ms/step - loss: 0.0980 - accuracy: 0.9733 - val_loss: 0.3061 - val_accuracy: 0.8845\n",
            "Epoch 13/20\n",
            "30/30 [==============================] - 1s 24ms/step - loss: 0.0898 - accuracy: 0.9773 - val_loss: 0.3147 - val_accuracy: 0.8817\n",
            "Epoch 14/20\n",
            "30/30 [==============================] - 1s 22ms/step - loss: 0.0803 - accuracy: 0.9799 - val_loss: 0.3240 - val_accuracy: 0.8834\n",
            "Epoch 15/20\n",
            "30/30 [==============================] - 1s 22ms/step - loss: 0.0736 - accuracy: 0.9834 - val_loss: 0.3320 - val_accuracy: 0.8814\n",
            "Epoch 16/20\n",
            "30/30 [==============================] - 1s 22ms/step - loss: 0.0663 - accuracy: 0.9855 - val_loss: 0.3477 - val_accuracy: 0.8805\n",
            "Epoch 17/20\n",
            "30/30 [==============================] - 1s 24ms/step - loss: 0.0602 - accuracy: 0.9871 - val_loss: 0.3612 - val_accuracy: 0.8789\n",
            "Epoch 18/20\n",
            "30/30 [==============================] - 1s 26ms/step - loss: 0.0546 - accuracy: 0.9887 - val_loss: 0.3750 - val_accuracy: 0.8779\n",
            "Epoch 19/20\n",
            "30/30 [==============================] - 1s 29ms/step - loss: 0.0497 - accuracy: 0.9902 - val_loss: 0.3905 - val_accuracy: 0.8761\n",
            "Epoch 20/20\n",
            "30/30 [==============================] - 1s 27ms/step - loss: 0.0447 - accuracy: 0.9915 - val_loss: 0.4014 - val_accuracy: 0.8760\n"
          ]
        }
      ],
      "source": [
        "model = keras.Sequential([\n",
        "    layers.Dense(4, activation=\"relu\"),\n",
        "    layers.Dense(4, activation=\"relu\"),\n",
        "    layers.Dense(1, activation=\"sigmoid\")\n",
        "])\n",
        "model.compile(optimizer=\"rmsprop\",\n",
        "              loss=\"binary_crossentropy\",\n",
        "              metrics=[\"accuracy\"])\n",
        "history_smaller_model = model.fit(\n",
        "    train_data, train_labels,\n",
        "    epochs=20, batch_size=512, validation_split=0.4)"
      ]
    },
    {
      "cell_type": "markdown",
      "metadata": {
        "id": "_UAM3uGpxiph"
      },
      "source": [
        "**Version of the model with higher capacity**"
      ]
    },
    {
      "cell_type": "code",
      "execution_count": 26,
      "metadata": {
        "id": "iVw-V9Acxiph",
        "outputId": "bc692307-0b02-455b-a8df-43b61304d445",
        "colab": {
          "base_uri": "https://localhost:8080/"
        }
      },
      "outputs": [
        {
          "output_type": "stream",
          "name": "stdout",
          "text": [
            "Epoch 1/20\n",
            "30/30 [==============================] - 3s 66ms/step - loss: 0.5665 - accuracy: 0.7244 - val_loss: 0.3938 - val_accuracy: 0.8291\n",
            "Epoch 2/20\n",
            "30/30 [==============================] - 1s 26ms/step - loss: 0.3202 - accuracy: 0.8668 - val_loss: 0.3250 - val_accuracy: 0.8676\n",
            "Epoch 3/20\n",
            "30/30 [==============================] - 1s 26ms/step - loss: 0.2419 - accuracy: 0.9008 - val_loss: 0.2690 - val_accuracy: 0.8889\n",
            "Epoch 4/20\n",
            "30/30 [==============================] - 1s 27ms/step - loss: 0.1858 - accuracy: 0.9275 - val_loss: 0.2709 - val_accuracy: 0.8890\n",
            "Epoch 5/20\n",
            "30/30 [==============================] - 1s 26ms/step - loss: 0.1446 - accuracy: 0.9431 - val_loss: 0.3110 - val_accuracy: 0.8791\n",
            "Epoch 6/20\n",
            "30/30 [==============================] - 1s 28ms/step - loss: 0.0860 - accuracy: 0.9693 - val_loss: 0.3475 - val_accuracy: 0.8762\n",
            "Epoch 7/20\n",
            "30/30 [==============================] - 1s 27ms/step - loss: 0.0708 - accuracy: 0.9763 - val_loss: 0.3737 - val_accuracy: 0.8853\n",
            "Epoch 8/20\n",
            "30/30 [==============================] - 1s 28ms/step - loss: 0.0757 - accuracy: 0.9800 - val_loss: 0.3761 - val_accuracy: 0.8834\n",
            "Epoch 9/20\n",
            "30/30 [==============================] - 1s 27ms/step - loss: 0.0641 - accuracy: 0.9793 - val_loss: 0.3370 - val_accuracy: 0.8846\n",
            "Epoch 10/20\n",
            "30/30 [==============================] - 1s 26ms/step - loss: 0.0102 - accuracy: 0.9991 - val_loss: 0.4654 - val_accuracy: 0.8848\n",
            "Epoch 11/20\n",
            "30/30 [==============================] - 1s 28ms/step - loss: 0.0091 - accuracy: 0.9977 - val_loss: 1.6044 - val_accuracy: 0.7292\n",
            "Epoch 12/20\n",
            "30/30 [==============================] - 1s 28ms/step - loss: 0.0399 - accuracy: 0.9887 - val_loss: 0.4930 - val_accuracy: 0.8833\n",
            "Epoch 13/20\n",
            "30/30 [==============================] - 1s 28ms/step - loss: 0.0021 - accuracy: 0.9999 - val_loss: 0.5670 - val_accuracy: 0.8843\n",
            "Epoch 14/20\n",
            "30/30 [==============================] - 1s 42ms/step - loss: 0.0011 - accuracy: 1.0000 - val_loss: 0.6287 - val_accuracy: 0.8811\n",
            "Epoch 15/20\n",
            "30/30 [==============================] - 1s 31ms/step - loss: 0.1343 - accuracy: 0.9789 - val_loss: 0.4893 - val_accuracy: 0.8801\n",
            "Epoch 16/20\n",
            "30/30 [==============================] - 1s 27ms/step - loss: 0.0030 - accuracy: 1.0000 - val_loss: 0.5128 - val_accuracy: 0.8828\n",
            "Epoch 17/20\n",
            "30/30 [==============================] - 1s 27ms/step - loss: 0.0011 - accuracy: 1.0000 - val_loss: 0.5958 - val_accuracy: 0.8836\n",
            "Epoch 18/20\n",
            "30/30 [==============================] - 1s 26ms/step - loss: 5.7084e-04 - accuracy: 1.0000 - val_loss: 0.6644 - val_accuracy: 0.8848\n",
            "Epoch 19/20\n",
            "30/30 [==============================] - 1s 28ms/step - loss: 3.7434e-04 - accuracy: 1.0000 - val_loss: 0.6969 - val_accuracy: 0.8836\n",
            "Epoch 20/20\n",
            "30/30 [==============================] - 1s 25ms/step - loss: 2.7361e-04 - accuracy: 1.0000 - val_loss: 0.7213 - val_accuracy: 0.8848\n"
          ]
        }
      ],
      "source": [
        "model = keras.Sequential([\n",
        "    layers.Dense(512, activation=\"relu\"),\n",
        "    layers.Dense(512, activation=\"relu\"),\n",
        "    layers.Dense(1, activation=\"sigmoid\")\n",
        "])\n",
        "model.compile(optimizer=\"rmsprop\",\n",
        "              loss=\"binary_crossentropy\",\n",
        "              metrics=[\"accuracy\"])\n",
        "history_larger_model = model.fit(\n",
        "    train_data, train_labels,\n",
        "    epochs=20, batch_size=512, validation_split=0.4)"
      ]
    },
    {
      "cell_type": "markdown",
      "metadata": {
        "id": "4gZTCZkmxiph"
      },
      "source": [
        "#### Adding weight regularization"
      ]
    },
    {
      "cell_type": "markdown",
      "metadata": {
        "id": "ib2dWFIBxiph"
      },
      "source": [
        "**Adding L2 weight regularization to the model**"
      ]
    },
    {
      "cell_type": "markdown",
      "source": [
        "regularization하는 방법"
      ],
      "metadata": {
        "id": "4ICgH7v-eI_k"
      }
    },
    {
      "cell_type": "code",
      "execution_count": 27,
      "metadata": {
        "id": "1Zo0Ixchxipi",
        "outputId": "37270383-b38d-42c0-8efd-a26269724b02",
        "colab": {
          "base_uri": "https://localhost:8080/"
        }
      },
      "outputs": [
        {
          "output_type": "stream",
          "name": "stdout",
          "text": [
            "Epoch 1/20\n",
            "30/30 [==============================] - 3s 53ms/step - loss: 0.6108 - accuracy: 0.7839 - val_loss: 0.4755 - val_accuracy: 0.8671\n",
            "Epoch 2/20\n",
            "30/30 [==============================] - 1s 22ms/step - loss: 0.4069 - accuracy: 0.8907 - val_loss: 0.3915 - val_accuracy: 0.8814\n",
            "Epoch 3/20\n",
            "30/30 [==============================] - 1s 24ms/step - loss: 0.3320 - accuracy: 0.9123 - val_loss: 0.3666 - val_accuracy: 0.8860\n",
            "Epoch 4/20\n",
            "30/30 [==============================] - 1s 22ms/step - loss: 0.2928 - accuracy: 0.9253 - val_loss: 0.4045 - val_accuracy: 0.8630\n",
            "Epoch 5/20\n",
            "30/30 [==============================] - 1s 22ms/step - loss: 0.2717 - accuracy: 0.9325 - val_loss: 0.3569 - val_accuracy: 0.8864\n",
            "Epoch 6/20\n",
            "30/30 [==============================] - 1s 22ms/step - loss: 0.2527 - accuracy: 0.9420 - val_loss: 0.3609 - val_accuracy: 0.8849\n",
            "Epoch 7/20\n",
            "30/30 [==============================] - 1s 25ms/step - loss: 0.2469 - accuracy: 0.9404 - val_loss: 0.3644 - val_accuracy: 0.8827\n",
            "Epoch 8/20\n",
            "30/30 [==============================] - 1s 25ms/step - loss: 0.2350 - accuracy: 0.9481 - val_loss: 0.3636 - val_accuracy: 0.8842\n",
            "Epoch 9/20\n",
            "30/30 [==============================] - 1s 22ms/step - loss: 0.2259 - accuracy: 0.9521 - val_loss: 0.3740 - val_accuracy: 0.8820\n",
            "Epoch 10/20\n",
            "30/30 [==============================] - 1s 25ms/step - loss: 0.2240 - accuracy: 0.9514 - val_loss: 0.3953 - val_accuracy: 0.8751\n",
            "Epoch 11/20\n",
            "30/30 [==============================] - 1s 23ms/step - loss: 0.2121 - accuracy: 0.9592 - val_loss: 0.4450 - val_accuracy: 0.8596\n",
            "Epoch 12/20\n",
            "30/30 [==============================] - 1s 25ms/step - loss: 0.2094 - accuracy: 0.9576 - val_loss: 0.3965 - val_accuracy: 0.8765\n",
            "Epoch 13/20\n",
            "30/30 [==============================] - 1s 29ms/step - loss: 0.2072 - accuracy: 0.9582 - val_loss: 0.4122 - val_accuracy: 0.8740\n",
            "Epoch 14/20\n",
            "30/30 [==============================] - 1s 29ms/step - loss: 0.2070 - accuracy: 0.9587 - val_loss: 0.3935 - val_accuracy: 0.8797\n",
            "Epoch 15/20\n",
            "30/30 [==============================] - 1s 25ms/step - loss: 0.2026 - accuracy: 0.9603 - val_loss: 0.4020 - val_accuracy: 0.8773\n",
            "Epoch 16/20\n",
            "30/30 [==============================] - 1s 25ms/step - loss: 0.1969 - accuracy: 0.9628 - val_loss: 0.4047 - val_accuracy: 0.8773\n",
            "Epoch 17/20\n",
            "30/30 [==============================] - 1s 22ms/step - loss: 0.1900 - accuracy: 0.9663 - val_loss: 0.4057 - val_accuracy: 0.8771\n",
            "Epoch 18/20\n",
            "30/30 [==============================] - 1s 25ms/step - loss: 0.2017 - accuracy: 0.9585 - val_loss: 0.4103 - val_accuracy: 0.8773\n",
            "Epoch 19/20\n",
            "30/30 [==============================] - 1s 23ms/step - loss: 0.1848 - accuracy: 0.9686 - val_loss: 0.4316 - val_accuracy: 0.8721\n",
            "Epoch 20/20\n",
            "30/30 [==============================] - 1s 25ms/step - loss: 0.1884 - accuracy: 0.9655 - val_loss: 0.4203 - val_accuracy: 0.8758\n"
          ]
        }
      ],
      "source": [
        "from tensorflow.keras import regularizers\n",
        "model = keras.Sequential([\n",
        "    layers.Dense(16,\n",
        "                 kernel_regularizer=regularizers.l2(0.002),\n",
        "                 activation=\"relu\"),\n",
        "    layers.Dense(16,\n",
        "                 kernel_regularizer=regularizers.l2(0.002),\n",
        "                 activation=\"relu\"),\n",
        "    layers.Dense(1, activation=\"sigmoid\")\n",
        "])\n",
        "model.compile(optimizer=\"rmsprop\",\n",
        "              loss=\"binary_crossentropy\",\n",
        "              metrics=[\"accuracy\"])\n",
        "history_l2_reg = model.fit(\n",
        "    train_data, train_labels,\n",
        "    epochs=20, batch_size=512, validation_split=0.4)"
      ]
    },
    {
      "cell_type": "markdown",
      "metadata": {
        "id": "1q0XT7jixipi"
      },
      "source": [
        "**Different weight regularizers available in Keras**"
      ]
    },
    {
      "cell_type": "code",
      "execution_count": null,
      "metadata": {
        "id": "UqgWDMudxipi"
      },
      "outputs": [],
      "source": [
        "from tensorflow.keras import regularizers\n",
        "regularizers.l1(0.001) #L1 regularization\n",
        "regularizers.l1_l2(l1=0.001, l2=0.001) #Simultaneous L1 and L2 regularization"
      ]
    },
    {
      "cell_type": "markdown",
      "metadata": {
        "id": "vxcRQZPHxipi"
      },
      "source": [
        "#### Adding dropout"
      ]
    },
    {
      "cell_type": "markdown",
      "metadata": {
        "id": "26fxjSqdxipi"
      },
      "source": [
        "**Adding dropout to the IMDB model**"
      ]
    },
    {
      "cell_type": "markdown",
      "source": [
        "**dropout 하는 방법**"
      ],
      "metadata": {
        "id": "HCkdRuM8exEL"
      }
    },
    {
      "cell_type": "code",
      "execution_count": 28,
      "metadata": {
        "id": "jfoMbr1Vxipi",
        "outputId": "09c6171f-4065-4810-e0c7-c047e2d994da",
        "colab": {
          "base_uri": "https://localhost:8080/"
        }
      },
      "outputs": [
        {
          "output_type": "stream",
          "name": "stdout",
          "text": [
            "Epoch 1/20\n",
            "30/30 [==============================] - 4s 54ms/step - loss: 0.6259 - accuracy: 0.6461 - val_loss: 0.5159 - val_accuracy: 0.8416\n",
            "Epoch 2/20\n",
            "30/30 [==============================] - 1s 25ms/step - loss: 0.5059 - accuracy: 0.7697 - val_loss: 0.4093 - val_accuracy: 0.8746\n",
            "Epoch 3/20\n",
            "30/30 [==============================] - 1s 28ms/step - loss: 0.4357 - accuracy: 0.8185 - val_loss: 0.3660 - val_accuracy: 0.8748\n",
            "Epoch 4/20\n",
            "30/30 [==============================] - 1s 40ms/step - loss: 0.3819 - accuracy: 0.8540 - val_loss: 0.3083 - val_accuracy: 0.8883\n",
            "Epoch 5/20\n",
            "30/30 [==============================] - 1s 23ms/step - loss: 0.3370 - accuracy: 0.8770 - val_loss: 0.3074 - val_accuracy: 0.8803\n",
            "Epoch 6/20\n",
            "30/30 [==============================] - 1s 25ms/step - loss: 0.2999 - accuracy: 0.8930 - val_loss: 0.2761 - val_accuracy: 0.8928\n",
            "Epoch 7/20\n",
            "30/30 [==============================] - 1s 23ms/step - loss: 0.2666 - accuracy: 0.9076 - val_loss: 0.2743 - val_accuracy: 0.8930\n",
            "Epoch 8/20\n",
            "30/30 [==============================] - 1s 22ms/step - loss: 0.2498 - accuracy: 0.9176 - val_loss: 0.2764 - val_accuracy: 0.8924\n",
            "Epoch 9/20\n",
            "30/30 [==============================] - 1s 23ms/step - loss: 0.2246 - accuracy: 0.9273 - val_loss: 0.3057 - val_accuracy: 0.8868\n",
            "Epoch 10/20\n",
            "30/30 [==============================] - 1s 23ms/step - loss: 0.2053 - accuracy: 0.9361 - val_loss: 0.2940 - val_accuracy: 0.8917\n",
            "Epoch 11/20\n",
            "30/30 [==============================] - 1s 25ms/step - loss: 0.1878 - accuracy: 0.9381 - val_loss: 0.3004 - val_accuracy: 0.8918\n",
            "Epoch 12/20\n",
            "30/30 [==============================] - 1s 23ms/step - loss: 0.1732 - accuracy: 0.9431 - val_loss: 0.3323 - val_accuracy: 0.8891\n",
            "Epoch 13/20\n",
            "30/30 [==============================] - 1s 24ms/step - loss: 0.1556 - accuracy: 0.9495 - val_loss: 0.3411 - val_accuracy: 0.8878\n",
            "Epoch 14/20\n",
            "30/30 [==============================] - 1s 23ms/step - loss: 0.1496 - accuracy: 0.9519 - val_loss: 0.3587 - val_accuracy: 0.8888\n",
            "Epoch 15/20\n",
            "30/30 [==============================] - 1s 22ms/step - loss: 0.1392 - accuracy: 0.9568 - val_loss: 0.3663 - val_accuracy: 0.8867\n",
            "Epoch 16/20\n",
            "30/30 [==============================] - 1s 22ms/step - loss: 0.1282 - accuracy: 0.9584 - val_loss: 0.3806 - val_accuracy: 0.8883\n",
            "Epoch 17/20\n",
            "30/30 [==============================] - 1s 25ms/step - loss: 0.1170 - accuracy: 0.9643 - val_loss: 0.4106 - val_accuracy: 0.8875\n",
            "Epoch 18/20\n",
            "30/30 [==============================] - 1s 22ms/step - loss: 0.1124 - accuracy: 0.9621 - val_loss: 0.4318 - val_accuracy: 0.8861\n",
            "Epoch 19/20\n",
            "30/30 [==============================] - 1s 37ms/step - loss: 0.1063 - accuracy: 0.9655 - val_loss: 0.4714 - val_accuracy: 0.8845\n",
            "Epoch 20/20\n",
            "30/30 [==============================] - 1s 28ms/step - loss: 0.1043 - accuracy: 0.9635 - val_loss: 0.4565 - val_accuracy: 0.8826\n"
          ]
        }
      ],
      "source": [
        "model = keras.Sequential([\n",
        "    layers.Dense(16, activation=\"relu\"),\n",
        "    layers.Dropout(0.5),\n",
        "    layers.Dense(16, activation=\"relu\"),\n",
        "    layers.Dropout(0.5),\n",
        "    layers.Dense(1, activation=\"sigmoid\")\n",
        "])\n",
        "model.compile(optimizer=\"rmsprop\",\n",
        "              loss=\"binary_crossentropy\",\n",
        "              metrics=[\"accuracy\"])\n",
        "history_dropout = model.fit(\n",
        "    train_data, train_labels,\n",
        "    epochs=20, batch_size=512, validation_split=0.4)"
      ]
    },
    {
      "cell_type": "markdown",
      "metadata": {
        "id": "hZvZ5RQ7xipj"
      },
      "source": [
        "## Summary"
      ]
    }
  ],
  "metadata": {
    "colab": {
      "name": "chapter05_fundamentals-of-ml.i",
      "provenance": [],
      "gpuType": "T4"
    },
    "kernelspec": {
      "display_name": "Python 3",
      "name": "python3"
    },
    "language_info": {
      "codemirror_mode": {
        "name": "ipython",
        "version": 3
      },
      "file_extension": ".py",
      "mimetype": "text/x-python",
      "name": "python",
      "nbconvert_exporter": "python",
      "pygments_lexer": "ipython3",
      "version": "3.7.0"
    },
    "accelerator": "GPU"
  },
  "nbformat": 4,
  "nbformat_minor": 0
}
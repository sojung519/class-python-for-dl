{
  "cells": [
    {
      "cell_type": "markdown",
      "metadata": {
        "id": "TREhaxAnxipX"
      },
      "source": [
        "This is a companion notebook for the book [Deep Learning with Python, Second Edition](https://www.manning.com/books/deep-learning-with-python-second-edition?a_aid=keras&a_bid=76564dff). For readability, it only contains runnable code blocks and section titles, and omits everything else in the book: text paragraphs, figures, and pseudocode.\n",
        "\n",
        "**If you want to be able to follow what's going on, I recommend reading the notebook side by side with your copy of the book.**\n",
        "\n",
        "This notebook was generated for TensorFlow 2.6."
      ]
    },
    {
      "cell_type": "markdown",
      "metadata": {
        "id": "pFj1Nr9Lxipa"
      },
      "source": [
        "# Fundamentals of machine learning"
      ]
    },
    {
      "cell_type": "markdown",
      "metadata": {
        "id": "4oFnst0Fxipa"
      },
      "source": [
        "## Generalization: The goal of machine learning"
      ]
    },
    {
      "cell_type": "markdown",
      "metadata": {
        "id": "TkHpP-_-xipa"
      },
      "source": [
        "### Underfitting and overfitting"
      ]
    },
    {
      "cell_type": "markdown",
      "metadata": {
        "id": "Qv48XOnExipb"
      },
      "source": [
        "#### Noisy training data"
      ]
    },
    {
      "cell_type": "markdown",
      "metadata": {
        "id": "b-7JJn-8xipb"
      },
      "source": [
        "#### Ambiguous features"
      ]
    },
    {
      "cell_type": "markdown",
      "metadata": {
        "id": "yM6wYjpGxipb"
      },
      "source": [
        "#### Rare features and spurious correlations"
      ]
    },
    {
      "cell_type": "markdown",
      "metadata": {
        "id": "LiqzB6ZSxipb"
      },
      "source": [
        "**Adding white-noise channels or all-zeros channels to MNIST**"
      ]
    },
    {
      "cell_type": "code",
      "execution_count": 1,
      "metadata": {
        "id": "CGiswscKxipb",
        "outputId": "c49bf450-55a7-46e4-999b-cdb744651c9f",
        "colab": {
          "base_uri": "https://localhost:8080/"
        }
      },
      "outputs": [
        {
          "output_type": "stream",
          "name": "stdout",
          "text": [
            "Downloading data from https://storage.googleapis.com/tensorflow/tf-keras-datasets/mnist.npz\n",
            "11490434/11490434 [==============================] - 1s 0us/step\n"
          ]
        }
      ],
      "source": [
        "from tensorflow.keras.datasets import mnist\n",
        "import numpy as np\n",
        "\n",
        "(train_images, train_labels), _ = mnist.load_data()\n",
        "train_images = train_images.reshape((60000, 28 * 28))\n",
        "train_images = train_images.astype(\"float32\") / 255\n",
        "\n",
        "train_images_with_noise_channels = np.concatenate(\n",
        "    [train_images, np.random.random((len(train_images), 784))], axis=1)\n",
        "\n",
        "train_images_with_zeros_channels = np.concatenate(\n",
        "    [train_images, np.zeros((len(train_images), 784))], axis=1)"
      ]
    },
    {
      "cell_type": "code",
      "source": [
        "train_images.shape"
      ],
      "metadata": {
        "id": "QRtmExqCxu5P",
        "outputId": "6cbb71df-1ee3-4135-c51b-ec553cac877e",
        "colab": {
          "base_uri": "https://localhost:8080/"
        }
      },
      "execution_count": 2,
      "outputs": [
        {
          "output_type": "execute_result",
          "data": {
            "text/plain": [
              "(60000, 784)"
            ]
          },
          "metadata": {},
          "execution_count": 2
        }
      ]
    },
    {
      "cell_type": "code",
      "source": [
        "np.random.random((len(train_images), 784)).shape"
      ],
      "metadata": {
        "id": "wBUafYruxy2k",
        "outputId": "c5138de4-3922-476c-fdc8-804138563420",
        "colab": {
          "base_uri": "https://localhost:8080/"
        }
      },
      "execution_count": 7,
      "outputs": [
        {
          "output_type": "execute_result",
          "data": {
            "text/plain": [
              "(60000, 784)"
            ]
          },
          "metadata": {},
          "execution_count": 7
        }
      ]
    },
    {
      "cell_type": "code",
      "source": [
        "np.random.random((len(train_images), 784)) #noise channel"
      ],
      "metadata": {
        "id": "COBDA7gzzHfO",
        "outputId": "4c01e234-6fdc-4fff-9b79-13d343d44eb6",
        "colab": {
          "base_uri": "https://localhost:8080/"
        }
      },
      "execution_count": 10,
      "outputs": [
        {
          "output_type": "execute_result",
          "data": {
            "text/plain": [
              "array([[0.58799466, 0.1936668 , 0.78988639, ..., 0.73957786, 0.12643084,\n",
              "        0.22509171],\n",
              "       [0.02456635, 0.54283514, 0.18450345, ..., 0.21653916, 0.97149645,\n",
              "        0.38864858],\n",
              "       [0.64530805, 0.68802568, 0.60871117, ..., 0.63511552, 0.88988547,\n",
              "        0.95539981],\n",
              "       ...,\n",
              "       [0.28478317, 0.28958186, 0.25817821, ..., 0.4776133 , 0.1606999 ,\n",
              "        0.10828651],\n",
              "       [0.05660436, 0.13045927, 0.64764405, ..., 0.4653794 , 0.01513209,\n",
              "        0.39736033],\n",
              "       [0.4809617 , 0.54658069, 0.16591248, ..., 0.81887555, 0.43437508,\n",
              "        0.53155058]])"
            ]
          },
          "metadata": {},
          "execution_count": 10
        }
      ]
    },
    {
      "cell_type": "code",
      "source": [
        "train_images_with_noise_channels.shape #784*2=1568"
      ],
      "metadata": {
        "id": "MTOSwYiXxy0d",
        "outputId": "abfd8349-64d4-4b99-a127-30e7f0792501",
        "colab": {
          "base_uri": "https://localhost:8080/"
        }
      },
      "execution_count": 5,
      "outputs": [
        {
          "output_type": "execute_result",
          "data": {
            "text/plain": [
              "(60000, 1568)"
            ]
          },
          "metadata": {},
          "execution_count": 5
        }
      ]
    },
    {
      "cell_type": "code",
      "source": [
        "np.zeros((len(train_images), 784))"
      ],
      "metadata": {
        "id": "s1GogqzTxyyL",
        "outputId": "ce3e2db3-b367-493e-df6d-42491faf4031",
        "colab": {
          "base_uri": "https://localhost:8080/"
        }
      },
      "execution_count": 6,
      "outputs": [
        {
          "output_type": "execute_result",
          "data": {
            "text/plain": [
              "array([[0., 0., 0., ..., 0., 0., 0.],\n",
              "       [0., 0., 0., ..., 0., 0., 0.],\n",
              "       [0., 0., 0., ..., 0., 0., 0.],\n",
              "       ...,\n",
              "       [0., 0., 0., ..., 0., 0., 0.],\n",
              "       [0., 0., 0., ..., 0., 0., 0.],\n",
              "       [0., 0., 0., ..., 0., 0., 0.]])"
            ]
          },
          "metadata": {},
          "execution_count": 6
        }
      ]
    },
    {
      "cell_type": "code",
      "source": [],
      "metadata": {
        "id": "uv8CiO9HyJ9f"
      },
      "execution_count": null,
      "outputs": []
    },
    {
      "cell_type": "code",
      "source": [],
      "metadata": {
        "id": "0MAGXJEdyJ7c"
      },
      "execution_count": null,
      "outputs": []
    },
    {
      "cell_type": "markdown",
      "metadata": {
        "id": "mq8wsO58xipc"
      },
      "source": [
        "**Training the same model on MNIST data with noise channels or all-zero channels**"
      ]
    },
    {
      "cell_type": "code",
      "execution_count": 8,
      "metadata": {
        "id": "hok-zRLaxipc",
        "outputId": "eeb13a0c-fc9d-4088-a9b8-5a6a79cdbd04",
        "colab": {
          "base_uri": "https://localhost:8080/"
        }
      },
      "outputs": [
        {
          "output_type": "stream",
          "name": "stdout",
          "text": [
            "Epoch 1/10\n",
            "375/375 [==============================] - 7s 17ms/step - loss: 0.6154 - accuracy: 0.8118 - val_loss: 0.2608 - val_accuracy: 0.9226\n",
            "Epoch 2/10\n",
            "375/375 [==============================] - 7s 19ms/step - loss: 0.2604 - accuracy: 0.9200 - val_loss: 0.2218 - val_accuracy: 0.9310\n",
            "Epoch 3/10\n",
            "375/375 [==============================] - 6s 16ms/step - loss: 0.1706 - accuracy: 0.9480 - val_loss: 0.2052 - val_accuracy: 0.9404\n",
            "Epoch 4/10\n",
            "375/375 [==============================] - 7s 19ms/step - loss: 0.1217 - accuracy: 0.9621 - val_loss: 0.1554 - val_accuracy: 0.9536\n",
            "Epoch 5/10\n",
            "375/375 [==============================] - 6s 16ms/step - loss: 0.0899 - accuracy: 0.9717 - val_loss: 0.1259 - val_accuracy: 0.9632\n",
            "Epoch 6/10\n",
            "375/375 [==============================] - 7s 19ms/step - loss: 0.0681 - accuracy: 0.9781 - val_loss: 0.1365 - val_accuracy: 0.9583\n",
            "Epoch 7/10\n",
            "375/375 [==============================] - 6s 16ms/step - loss: 0.0500 - accuracy: 0.9841 - val_loss: 0.1278 - val_accuracy: 0.9642\n",
            "Epoch 8/10\n",
            "375/375 [==============================] - 7s 19ms/step - loss: 0.0373 - accuracy: 0.9879 - val_loss: 0.1253 - val_accuracy: 0.9638\n",
            "Epoch 9/10\n",
            "375/375 [==============================] - 6s 16ms/step - loss: 0.0258 - accuracy: 0.9919 - val_loss: 0.1294 - val_accuracy: 0.9666\n",
            "Epoch 10/10\n",
            "375/375 [==============================] - 10s 28ms/step - loss: 0.0214 - accuracy: 0.9932 - val_loss: 0.1434 - val_accuracy: 0.9651\n",
            "Epoch 1/10\n",
            "375/375 [==============================] - 9s 22ms/step - loss: 0.2937 - accuracy: 0.9157 - val_loss: 0.1519 - val_accuracy: 0.9585\n",
            "Epoch 2/10\n",
            "375/375 [==============================] - 6s 17ms/step - loss: 0.1228 - accuracy: 0.9634 - val_loss: 0.1028 - val_accuracy: 0.9701\n",
            "Epoch 3/10\n",
            "375/375 [==============================] - 8s 21ms/step - loss: 0.0802 - accuracy: 0.9765 - val_loss: 0.0877 - val_accuracy: 0.9747\n",
            "Epoch 4/10\n",
            "375/375 [==============================] - 6s 16ms/step - loss: 0.0571 - accuracy: 0.9830 - val_loss: 0.0821 - val_accuracy: 0.9747\n",
            "Epoch 5/10\n",
            "375/375 [==============================] - 7s 19ms/step - loss: 0.0427 - accuracy: 0.9874 - val_loss: 0.0791 - val_accuracy: 0.9757\n",
            "Epoch 6/10\n",
            "375/375 [==============================] - 6s 17ms/step - loss: 0.0324 - accuracy: 0.9908 - val_loss: 0.0770 - val_accuracy: 0.9784\n",
            "Epoch 7/10\n",
            "375/375 [==============================] - 7s 19ms/step - loss: 0.0237 - accuracy: 0.9933 - val_loss: 0.0777 - val_accuracy: 0.9781\n",
            "Epoch 8/10\n",
            "375/375 [==============================] - 6s 16ms/step - loss: 0.0182 - accuracy: 0.9949 - val_loss: 0.0734 - val_accuracy: 0.9798\n",
            "Epoch 9/10\n",
            "375/375 [==============================] - 7s 19ms/step - loss: 0.0137 - accuracy: 0.9968 - val_loss: 0.0946 - val_accuracy: 0.9756\n",
            "Epoch 10/10\n",
            "375/375 [==============================] - 6s 16ms/step - loss: 0.0101 - accuracy: 0.9977 - val_loss: 0.0775 - val_accuracy: 0.9785\n"
          ]
        }
      ],
      "source": [
        "from tensorflow import keras\n",
        "from tensorflow.keras import layers\n",
        "\n",
        "def get_model():\n",
        "    model = keras.Sequential([\n",
        "        layers.Dense(512, activation=\"relu\"),\n",
        "        layers.Dense(10, activation=\"softmax\")\n",
        "    ])\n",
        "    model.compile(optimizer=\"rmsprop\",\n",
        "                  loss=\"sparse_categorical_crossentropy\",\n",
        "                  metrics=[\"accuracy\"])\n",
        "    return model\n",
        "\n",
        "model = get_model()\n",
        "history_noise = model.fit(\n",
        "    train_images_with_noise_channels, train_labels,\n",
        "    epochs=10,\n",
        "    batch_size=128,\n",
        "    validation_split=0.2)\n",
        "\n",
        "model = get_model()\n",
        "history_zeros = model.fit(\n",
        "    train_images_with_zeros_channels, train_labels,\n",
        "    epochs=10,\n",
        "    batch_size=128,\n",
        "    validation_split=0.2)"
      ]
    },
    {
      "cell_type": "markdown",
      "metadata": {
        "id": "yeTiLEJ7xipc"
      },
      "source": [
        "**Plotting a validation accuracy comparison**"
      ]
    },
    {
      "cell_type": "code",
      "execution_count": 9,
      "metadata": {
        "id": "IAIVI0Skxipd",
        "outputId": "b04d0ca6-38a5-46f8-b6d0-38a9f7fa0e74",
        "colab": {
          "base_uri": "https://localhost:8080/",
          "height": 491
        }
      },
      "outputs": [
        {
          "output_type": "execute_result",
          "data": {
            "text/plain": [
              "<matplotlib.legend.Legend at 0x7f20a49d1dc0>"
            ]
          },
          "metadata": {},
          "execution_count": 9
        },
        {
          "output_type": "display_data",
          "data": {
            "text/plain": [
              "<Figure size 640x480 with 1 Axes>"
            ],
            "image/png": "[encoded data removed]"
          },
          "metadata": {}
        }
      ],
      "source": [
        "import matplotlib.pyplot as plt\n",
        "val_acc_noise = history_noise.history[\"val_accuracy\"]\n",
        "val_acc_zeros = history_zeros.history[\"val_accuracy\"]\n",
        "epochs = range(1, 11)\n",
        "plt.plot(epochs, val_acc_noise, \"b-\",\n",
        "         label=\"Validation accuracy with noise channels\")\n",
        "plt.plot(epochs, val_acc_zeros, \"b--\",\n",
        "         label=\"Validation accuracy with zeros channels\")\n",
        "plt.title(\"Effect of noise channels on validation accuracy\")\n",
        "plt.xlabel(\"Epochs\")\n",
        "plt.ylabel(\"Accuracy\")\n",
        "plt.legend()"
      ]
    },
    {
      "cell_type": "markdown",
      "metadata": {
        "id": "q7Aa9lTLxipd"
      },
      "source": [
        "### The nature of generalization in deep learning"
      ]
    },
    {
      "cell_type": "markdown",
      "metadata": {
        "id": "U82le2tNxipd"
      },
      "source": [
        "**Fitting a MNIST model with randomly shuffled labels**"
      ]
    },
    {
      "cell_type": "code",
      "source": [
        "(train_images, train_labels), _ = mnist.load_data()\n",
        "train_images = train_images.reshape((60000, 28 * 28))\n",
        "train_images = train_images.astype(\"float32\") / 255\n",
        "\n",
        "random_train_labels = train_labels[:].copy()#copy를 해야 원래 train_label이 안바뀜\n",
        "np.random.shuffle(random_train_labels)"
      ],
      "metadata": {
        "id": "cO1e8m1jzzOO"
      },
      "execution_count": 12,
      "outputs": []
    },
    {
      "cell_type": "code",
      "source": [
        "train_labels[:]"
      ],
      "metadata": {
        "id": "80RQXvB9z0af",
        "outputId": "0b2bd5fe-1b1b-4f14-b055-0fc3e3bc58d0",
        "colab": {
          "base_uri": "https://localhost:8080/"
        }
      },
      "execution_count": 13,
      "outputs": [
        {
          "output_type": "execute_result",
          "data": {
            "text/plain": [
              "array([0, 9, 4, ..., 6, 1, 3], dtype=uint8)"
            ]
          },
          "metadata": {},
          "execution_count": 13
        }
      ]
    },
    {
      "cell_type": "code",
      "source": [],
      "metadata": {
        "id": "D3tjkG_fz0Tx"
      },
      "execution_count": null,
      "outputs": []
    },
    {
      "cell_type": "code",
      "execution_count": 11,
      "metadata": {
        "id": "uHwuZG_zxipd",
        "outputId": "46a953c5-b139-4407-d6af-47c6620a52f2",
        "colab": {
          "base_uri": "https://localhost:8080/"
        }
      },
      "outputs": [
        {
          "output_type": "stream",
          "name": "stdout",
          "text": [
            "Epoch 1/100\n",
            "375/375 [==============================] - 5s 13ms/step - loss: 2.3146 - accuracy: 0.1033 - val_loss: 2.3054 - val_accuracy: 0.1040\n",
            "Epoch 2/100\n",
            "375/375 [==============================] - 5s 15ms/step - loss: 2.2987 - accuracy: 0.1175 - val_loss: 2.3118 - val_accuracy: 0.0983\n",
            "Epoch 3/100\n",
            "375/375 [==============================] - 6s 16ms/step - loss: 2.2907 - accuracy: 0.1271 - val_loss: 2.3210 - val_accuracy: 0.1010\n",
            "Epoch 4/100\n",
            "375/375 [==============================] - 4s 11ms/step - loss: 2.2797 - accuracy: 0.1376 - val_loss: 2.3264 - val_accuracy: 0.1003\n",
            "Epoch 5/100\n",
            "375/375 [==============================] - 4s 10ms/step - loss: 2.2640 - accuracy: 0.1501 - val_loss: 2.3447 - val_accuracy: 0.0985\n",
            "Epoch 6/100\n",
            "375/375 [==============================] - 8s 20ms/step - loss: 2.2446 - accuracy: 0.1680 - val_loss: 2.3609 - val_accuracy: 0.0969\n",
            "Epoch 7/100\n",
            "375/375 [==============================] - 7s 19ms/step - loss: 2.2214 - accuracy: 0.1817 - val_loss: 2.3705 - val_accuracy: 0.0972\n",
            "Epoch 8/100\n",
            "375/375 [==============================] - 5s 12ms/step - loss: 2.1963 - accuracy: 0.1982 - val_loss: 2.3858 - val_accuracy: 0.0979\n",
            "Epoch 9/100\n",
            "375/375 [==============================] - 4s 11ms/step - loss: 2.1670 - accuracy: 0.2107 - val_loss: 2.4109 - val_accuracy: 0.0974\n",
            "Epoch 10/100\n",
            "375/375 [==============================] - 5s 12ms/step - loss: 2.1366 - accuracy: 0.2280 - val_loss: 2.4275 - val_accuracy: 0.0978\n",
            "Epoch 11/100\n",
            "375/375 [==============================] - 5s 13ms/step - loss: 2.1014 - accuracy: 0.2438 - val_loss: 2.4528 - val_accuracy: 0.0967\n",
            "Epoch 12/100\n",
            "375/375 [==============================] - 4s 10ms/step - loss: 2.0667 - accuracy: 0.2609 - val_loss: 2.4867 - val_accuracy: 0.0969\n",
            "Epoch 13/100\n",
            "375/375 [==============================] - 4s 10ms/step - loss: 2.0295 - accuracy: 0.2770 - val_loss: 2.4955 - val_accuracy: 0.1008\n",
            "Epoch 14/100\n",
            "375/375 [==============================] - 5s 12ms/step - loss: 1.9917 - accuracy: 0.2940 - val_loss: 2.5326 - val_accuracy: 0.0980\n",
            "Epoch 15/100\n",
            "375/375 [==============================] - 6s 16ms/step - loss: 1.9531 - accuracy: 0.3099 - val_loss: 2.5657 - val_accuracy: 0.0934\n",
            "Epoch 16/100\n",
            "375/375 [==============================] - 4s 10ms/step - loss: 1.9131 - accuracy: 0.3294 - val_loss: 2.6237 - val_accuracy: 0.0980\n",
            "Epoch 17/100\n",
            "375/375 [==============================] - 5s 13ms/step - loss: 1.8761 - accuracy: 0.3448 - val_loss: 2.6489 - val_accuracy: 0.1025\n",
            "Epoch 18/100\n",
            "375/375 [==============================] - 4s 10ms/step - loss: 1.8367 - accuracy: 0.3589 - val_loss: 2.6809 - val_accuracy: 0.0953\n",
            "Epoch 19/100\n",
            "375/375 [==============================] - 4s 10ms/step - loss: 1.7988 - accuracy: 0.3732 - val_loss: 2.7061 - val_accuracy: 0.0975\n",
            "Epoch 20/100\n",
            "375/375 [==============================] - 5s 13ms/step - loss: 1.7615 - accuracy: 0.3877 - val_loss: 2.7539 - val_accuracy: 0.0991\n",
            "Epoch 21/100\n",
            "375/375 [==============================] - 4s 10ms/step - loss: 1.7242 - accuracy: 0.4045 - val_loss: 2.8129 - val_accuracy: 0.1005\n",
            "Epoch 22/100\n",
            "375/375 [==============================] - 4s 10ms/step - loss: 1.6884 - accuracy: 0.4183 - val_loss: 2.8552 - val_accuracy: 0.0971\n",
            "Epoch 23/100\n",
            "375/375 [==============================] - 4s 12ms/step - loss: 1.6521 - accuracy: 0.4314 - val_loss: 2.8796 - val_accuracy: 0.0967\n",
            "Epoch 24/100\n",
            "375/375 [==============================] - 6s 15ms/step - loss: 1.6153 - accuracy: 0.4477 - val_loss: 2.9229 - val_accuracy: 0.0998\n",
            "Epoch 25/100\n",
            "375/375 [==============================] - 5s 14ms/step - loss: 1.5814 - accuracy: 0.4574 - val_loss: 2.9670 - val_accuracy: 0.0965\n",
            "Epoch 26/100\n",
            "375/375 [==============================] - 5s 14ms/step - loss: 1.5460 - accuracy: 0.4724 - val_loss: 3.0139 - val_accuracy: 0.0973\n",
            "Epoch 27/100\n",
            "375/375 [==============================] - 3s 9ms/step - loss: 1.5137 - accuracy: 0.4830 - val_loss: 3.0798 - val_accuracy: 0.1008\n",
            "Epoch 28/100\n",
            "375/375 [==============================] - 3s 9ms/step - loss: 1.4802 - accuracy: 0.4978 - val_loss: 3.1291 - val_accuracy: 0.0978\n",
            "Epoch 29/100\n",
            "375/375 [==============================] - 5s 12ms/step - loss: 1.4508 - accuracy: 0.5072 - val_loss: 3.1649 - val_accuracy: 0.0974\n",
            "Epoch 30/100\n",
            "375/375 [==============================] - 3s 9ms/step - loss: 1.4188 - accuracy: 0.5187 - val_loss: 3.2085 - val_accuracy: 0.0979\n",
            "Epoch 31/100\n",
            "375/375 [==============================] - 3s 9ms/step - loss: 1.3875 - accuracy: 0.5297 - val_loss: 3.2794 - val_accuracy: 0.0948\n",
            "Epoch 32/100\n",
            "375/375 [==============================] - 4s 10ms/step - loss: 1.3581 - accuracy: 0.5412 - val_loss: 3.3629 - val_accuracy: 0.0981\n",
            "Epoch 33/100\n",
            "375/375 [==============================] - 4s 11ms/step - loss: 1.3312 - accuracy: 0.5485 - val_loss: 3.3914 - val_accuracy: 0.0995\n",
            "Epoch 34/100\n",
            "375/375 [==============================] - 3s 9ms/step - loss: 1.3012 - accuracy: 0.5612 - val_loss: 3.4341 - val_accuracy: 0.0988\n",
            "Epoch 35/100\n",
            "375/375 [==============================] - 3s 9ms/step - loss: 1.2741 - accuracy: 0.5709 - val_loss: 3.5046 - val_accuracy: 0.0964\n",
            "Epoch 36/100\n",
            "375/375 [==============================] - 5s 13ms/step - loss: 1.2492 - accuracy: 0.5788 - val_loss: 3.5501 - val_accuracy: 0.0988\n",
            "Epoch 37/100\n",
            "375/375 [==============================] - 4s 9ms/step - loss: 1.2209 - accuracy: 0.5924 - val_loss: 3.5979 - val_accuracy: 0.0975\n",
            "Epoch 38/100\n",
            "375/375 [==============================] - 4s 10ms/step - loss: 1.1974 - accuracy: 0.5969 - val_loss: 3.6569 - val_accuracy: 0.1013\n",
            "Epoch 39/100\n",
            "375/375 [==============================] - 5s 13ms/step - loss: 1.1699 - accuracy: 0.6079 - val_loss: 3.7001 - val_accuracy: 0.1009\n",
            "Epoch 40/100\n",
            "375/375 [==============================] - 4s 10ms/step - loss: 1.1481 - accuracy: 0.6150 - val_loss: 3.7580 - val_accuracy: 0.1009\n",
            "Epoch 41/100\n",
            "375/375 [==============================] - 4s 10ms/step - loss: 1.1243 - accuracy: 0.6257 - val_loss: 3.8510 - val_accuracy: 0.1007\n",
            "Epoch 42/100\n",
            "375/375 [==============================] - 5s 12ms/step - loss: 1.0992 - accuracy: 0.6328 - val_loss: 3.8736 - val_accuracy: 0.1022\n",
            "Epoch 43/100\n",
            "375/375 [==============================] - 4s 10ms/step - loss: 1.0797 - accuracy: 0.6403 - val_loss: 3.9441 - val_accuracy: 0.0988\n",
            "Epoch 44/100\n",
            "375/375 [==============================] - 4s 10ms/step - loss: 1.0566 - accuracy: 0.6505 - val_loss: 4.0487 - val_accuracy: 0.0996\n",
            "Epoch 45/100\n",
            "375/375 [==============================] - 4s 10ms/step - loss: 1.0338 - accuracy: 0.6550 - val_loss: 4.0911 - val_accuracy: 0.0989\n",
            "Epoch 46/100\n",
            "375/375 [==============================] - 4s 11ms/step - loss: 1.0132 - accuracy: 0.6611 - val_loss: 4.1553 - val_accuracy: 0.0975\n",
            "Epoch 47/100\n",
            "375/375 [==============================] - 3s 9ms/step - loss: 0.9915 - accuracy: 0.6709 - val_loss: 4.2144 - val_accuracy: 0.0970\n",
            "Epoch 48/100\n",
            "375/375 [==============================] - 3s 9ms/step - loss: 0.9734 - accuracy: 0.6768 - val_loss: 4.2296 - val_accuracy: 0.1009\n",
            "Epoch 49/100\n",
            "375/375 [==============================] - 5s 13ms/step - loss: 0.9549 - accuracy: 0.6823 - val_loss: 4.3092 - val_accuracy: 0.0973\n",
            "Epoch 50/100\n",
            "375/375 [==============================] - 4s 10ms/step - loss: 0.9324 - accuracy: 0.6909 - val_loss: 4.3859 - val_accuracy: 0.1004\n",
            "Epoch 51/100\n",
            "375/375 [==============================] - 4s 11ms/step - loss: 0.9140 - accuracy: 0.6984 - val_loss: 4.4550 - val_accuracy: 0.0997\n",
            "Epoch 52/100\n",
            "375/375 [==============================] - 5s 14ms/step - loss: 0.8977 - accuracy: 0.7036 - val_loss: 4.5231 - val_accuracy: 0.0958\n",
            "Epoch 53/100\n",
            "375/375 [==============================] - 4s 10ms/step - loss: 0.8782 - accuracy: 0.7112 - val_loss: 4.5749 - val_accuracy: 0.1005\n",
            "Epoch 54/100\n",
            "375/375 [==============================] - 4s 10ms/step - loss: 0.8601 - accuracy: 0.7185 - val_loss: 4.6483 - val_accuracy: 0.1006\n",
            "Epoch 55/100\n",
            "375/375 [==============================] - 5s 13ms/step - loss: 0.8445 - accuracy: 0.7229 - val_loss: 4.7211 - val_accuracy: 0.0978\n",
            "Epoch 56/100\n",
            "375/375 [==============================] - 4s 10ms/step - loss: 0.8271 - accuracy: 0.7274 - val_loss: 4.8084 - val_accuracy: 0.0960\n",
            "Epoch 57/100\n",
            "375/375 [==============================] - 4s 10ms/step - loss: 0.8099 - accuracy: 0.7345 - val_loss: 4.8475 - val_accuracy: 0.0977\n",
            "Epoch 58/100\n",
            "375/375 [==============================] - 4s 11ms/step - loss: 0.7930 - accuracy: 0.7410 - val_loss: 4.9180 - val_accuracy: 0.0979\n",
            "Epoch 59/100\n",
            "375/375 [==============================] - 4s 11ms/step - loss: 0.7790 - accuracy: 0.7442 - val_loss: 5.0243 - val_accuracy: 0.0985\n",
            "Epoch 60/100\n",
            "375/375 [==============================] - 4s 10ms/step - loss: 0.7638 - accuracy: 0.7511 - val_loss: 5.0685 - val_accuracy: 0.1030\n",
            "Epoch 61/100\n",
            "375/375 [==============================] - 4s 9ms/step - loss: 0.7501 - accuracy: 0.7561 - val_loss: 5.1061 - val_accuracy: 0.0993\n",
            "Epoch 62/100\n",
            "375/375 [==============================] - 5s 14ms/step - loss: 0.7328 - accuracy: 0.7615 - val_loss: 5.1571 - val_accuracy: 0.0997\n",
            "Epoch 63/100\n",
            "375/375 [==============================] - 4s 10ms/step - loss: 0.7200 - accuracy: 0.7658 - val_loss: 5.2516 - val_accuracy: 0.0988\n",
            "Epoch 64/100\n",
            "375/375 [==============================] - 4s 9ms/step - loss: 0.7040 - accuracy: 0.7716 - val_loss: 5.3127 - val_accuracy: 0.0987\n",
            "Epoch 65/100\n",
            "375/375 [==============================] - 5s 13ms/step - loss: 0.6925 - accuracy: 0.7753 - val_loss: 5.3761 - val_accuracy: 0.1021\n",
            "Epoch 66/100\n",
            "375/375 [==============================] - 4s 10ms/step - loss: 0.6773 - accuracy: 0.7809 - val_loss: 5.4639 - val_accuracy: 0.0983\n",
            "Epoch 67/100\n",
            "375/375 [==============================] - 4s 11ms/step - loss: 0.6652 - accuracy: 0.7846 - val_loss: 5.5558 - val_accuracy: 0.0988\n",
            "Epoch 68/100\n",
            "375/375 [==============================] - 5s 13ms/step - loss: 0.6522 - accuracy: 0.7888 - val_loss: 5.6335 - val_accuracy: 0.0967\n",
            "Epoch 69/100\n",
            "375/375 [==============================] - 4s 10ms/step - loss: 0.6401 - accuracy: 0.7941 - val_loss: 5.6659 - val_accuracy: 0.0987\n",
            "Epoch 70/100\n",
            "375/375 [==============================] - 4s 10ms/step - loss: 0.6280 - accuracy: 0.7983 - val_loss: 5.7823 - val_accuracy: 0.0953\n",
            "Epoch 71/100\n",
            "375/375 [==============================] - 5s 13ms/step - loss: 0.6135 - accuracy: 0.8037 - val_loss: 5.8199 - val_accuracy: 0.0975\n",
            "Epoch 72/100\n",
            "375/375 [==============================] - 4s 10ms/step - loss: 0.6021 - accuracy: 0.8080 - val_loss: 5.8469 - val_accuracy: 0.0990\n",
            "Epoch 73/100\n",
            "375/375 [==============================] - 4s 10ms/step - loss: 0.5923 - accuracy: 0.8100 - val_loss: 5.9802 - val_accuracy: 0.0973\n",
            "Epoch 74/100\n",
            "375/375 [==============================] - 4s 11ms/step - loss: 0.5793 - accuracy: 0.8170 - val_loss: 6.0486 - val_accuracy: 0.1019\n",
            "Epoch 75/100\n",
            "375/375 [==============================] - 4s 11ms/step - loss: 0.5676 - accuracy: 0.8192 - val_loss: 6.0870 - val_accuracy: 0.0965\n",
            "Epoch 76/100\n",
            "375/375 [==============================] - 4s 10ms/step - loss: 0.5578 - accuracy: 0.8235 - val_loss: 6.1846 - val_accuracy: 0.1012\n",
            "Epoch 77/100\n",
            "375/375 [==============================] - 4s 11ms/step - loss: 0.5477 - accuracy: 0.8240 - val_loss: 6.2472 - val_accuracy: 0.0972\n",
            "Epoch 78/100\n",
            "375/375 [==============================] - 5s 12ms/step - loss: 0.5350 - accuracy: 0.8314 - val_loss: 6.3399 - val_accuracy: 0.0987\n",
            "Epoch 79/100\n",
            "375/375 [==============================] - 4s 10ms/step - loss: 0.5264 - accuracy: 0.8333 - val_loss: 6.3998 - val_accuracy: 0.0993\n",
            "Epoch 80/100\n",
            "375/375 [==============================] - 4s 10ms/step - loss: 0.5146 - accuracy: 0.8371 - val_loss: 6.4851 - val_accuracy: 0.0983\n",
            "Epoch 81/100\n",
            "375/375 [==============================] - 5s 13ms/step - loss: 0.5052 - accuracy: 0.8405 - val_loss: 6.5246 - val_accuracy: 0.0990\n",
            "Epoch 82/100\n",
            "375/375 [==============================] - 4s 10ms/step - loss: 0.4961 - accuracy: 0.8438 - val_loss: 6.6487 - val_accuracy: 0.0967\n",
            "Epoch 83/100\n",
            "375/375 [==============================] - 4s 10ms/step - loss: 0.4889 - accuracy: 0.8439 - val_loss: 6.6953 - val_accuracy: 0.0988\n",
            "Epoch 84/100\n",
            "375/375 [==============================] - 5s 13ms/step - loss: 0.4778 - accuracy: 0.8491 - val_loss: 6.7430 - val_accuracy: 0.1003\n",
            "Epoch 85/100\n",
            "375/375 [==============================] - 4s 10ms/step - loss: 0.4705 - accuracy: 0.8528 - val_loss: 6.8585 - val_accuracy: 0.0998\n",
            "Epoch 86/100\n",
            "375/375 [==============================] - 4s 10ms/step - loss: 0.4594 - accuracy: 0.8566 - val_loss: 6.9345 - val_accuracy: 0.0978\n",
            "Epoch 87/100\n",
            "375/375 [==============================] - 5s 14ms/step - loss: 0.4519 - accuracy: 0.8578 - val_loss: 6.9812 - val_accuracy: 0.0989\n",
            "Epoch 88/100\n",
            "375/375 [==============================] - 4s 10ms/step - loss: 0.4431 - accuracy: 0.8623 - val_loss: 7.0349 - val_accuracy: 0.0965\n",
            "Epoch 89/100\n",
            "375/375 [==============================] - 4s 10ms/step - loss: 0.4373 - accuracy: 0.8640 - val_loss: 7.0971 - val_accuracy: 0.0996\n",
            "Epoch 90/100\n",
            "375/375 [==============================] - 5s 13ms/step - loss: 0.4269 - accuracy: 0.8669 - val_loss: 7.2415 - val_accuracy: 0.1013\n",
            "Epoch 91/100\n",
            "375/375 [==============================] - 4s 10ms/step - loss: 0.4182 - accuracy: 0.8687 - val_loss: 7.3012 - val_accuracy: 0.1006\n",
            "Epoch 92/100\n",
            "375/375 [==============================] - 4s 11ms/step - loss: 0.4115 - accuracy: 0.8729 - val_loss: 7.4166 - val_accuracy: 0.0996\n",
            "Epoch 93/100\n",
            "375/375 [==============================] - 5s 12ms/step - loss: 0.4041 - accuracy: 0.8740 - val_loss: 7.4058 - val_accuracy: 0.0972\n",
            "Epoch 94/100\n",
            "375/375 [==============================] - 4s 10ms/step - loss: 0.3968 - accuracy: 0.8780 - val_loss: 7.5189 - val_accuracy: 0.0967\n",
            "Epoch 95/100\n",
            "375/375 [==============================] - 4s 10ms/step - loss: 0.3870 - accuracy: 0.8805 - val_loss: 7.6652 - val_accuracy: 0.0998\n",
            "Epoch 96/100\n",
            "375/375 [==============================] - 4s 11ms/step - loss: 0.3839 - accuracy: 0.8820 - val_loss: 7.6473 - val_accuracy: 0.1000\n",
            "Epoch 97/100\n",
            "375/375 [==============================] - 5s 12ms/step - loss: 0.3774 - accuracy: 0.8825 - val_loss: 7.7710 - val_accuracy: 0.0974\n",
            "Epoch 98/100\n",
            "375/375 [==============================] - 4s 10ms/step - loss: 0.3704 - accuracy: 0.8858 - val_loss: 7.8627 - val_accuracy: 0.0972\n",
            "Epoch 99/100\n",
            "375/375 [==============================] - 4s 11ms/step - loss: 0.3637 - accuracy: 0.8879 - val_loss: 7.8949 - val_accuracy: 0.0978\n",
            "Epoch 100/100\n",
            "375/375 [==============================] - 5s 13ms/step - loss: 0.3566 - accuracy: 0.8917 - val_loss: 7.9399 - val_accuracy: 0.0979\n"
          ]
        },
        {
          "output_type": "execute_result",
          "data": {
            "text/plain": [
              "<keras.callbacks.History at 0x7f20a48eb670>"
            ]
          },
          "metadata": {},
          "execution_count": 11
        }
      ],
      "source": [
        "(train_images, train_labels), _ = mnist.load_data()\n",
        "train_images = train_images.reshape((60000, 28 * 28))\n",
        "train_images = train_images.astype(\"float32\") / 255\n",
        "\n",
        "random_train_labels = train_labels[:]\n",
        "np.random.shuffle(random_train_labels)\n",
        "\n",
        "model = keras.Sequential([\n",
        "    layers.Dense(512, activation=\"relu\"),\n",
        "    layers.Dense(10, activation=\"softmax\")\n",
        "])\n",
        "model.compile(optimizer=\"rmsprop\",\n",
        "              loss=\"sparse_categorical_crossentropy\",\n",
        "              metrics=[\"accuracy\"])\n",
        "model.fit(train_images, random_train_labels,\n",
        "          epochs=100,\n",
        "          batch_size=128,\n",
        "          validation_split=0.2)"
      ]
    },
    {
      "cell_type": "markdown",
      "metadata": {
        "id": "YQafFe91xipd"
      },
      "source": [
        "#### The manifold hypothesis"
      ]
    },
    {
      "cell_type": "markdown",
      "metadata": {
        "id": "RC7awuhkxipd"
      },
      "source": [
        "#### Interpolation as a source of generalization"
      ]
    },
    {
      "cell_type": "markdown",
      "metadata": {
        "id": "ASEzgN6Axipe"
      },
      "source": [
        "#### Why deep learning works"
      ]
    },
    {
      "cell_type": "markdown",
      "metadata": {
        "id": "F9ul1HE2xipe"
      },
      "source": [
        "#### Training data is paramount"
      ]
    },
    {
      "cell_type": "markdown",
      "metadata": {
        "id": "tuyTp6Ynxipe"
      },
      "source": [
        "## Evaluating machine-learning models"
      ]
    },
    {
      "cell_type": "markdown",
      "metadata": {
        "id": "O345rfKFxipe"
      },
      "source": [
        "### Training, validation, and test sets"
      ]
    },
    {
      "cell_type": "markdown",
      "metadata": {
        "id": "-CG2vhK-xipe"
      },
      "source": [
        "#### Simple hold-out validation"
      ]
    },
    {
      "cell_type": "markdown",
      "metadata": {
        "id": "hk44mXC-xipe"
      },
      "source": [
        "#### K-fold validation"
      ]
    },
    {
      "cell_type": "markdown",
      "metadata": {
        "id": "roNcHG-Kxipe"
      },
      "source": [
        "#### Iterated K-fold validation with shuffling"
      ]
    },
    {
      "cell_type": "markdown",
      "metadata": {
        "id": "jb05AdA_xipe"
      },
      "source": [
        "### Beating a common-sense baseline"
      ]
    },
    {
      "cell_type": "markdown",
      "metadata": {
        "id": "BrA5v3lOxipe"
      },
      "source": [
        "### Things to keep in mind about model evaluation"
      ]
    },
    {
      "cell_type": "markdown",
      "metadata": {
        "id": "atGHtXbMxipf"
      },
      "source": [
        "## Improving model fit"
      ]
    },
    {
      "cell_type": "markdown",
      "metadata": {
        "id": "Hrvg51uZxipf"
      },
      "source": [
        "### Tuning key gradient descent parameters"
      ]
    },
    {
      "cell_type": "markdown",
      "metadata": {
        "id": "bA1RJLWBxipf"
      },
      "source": [
        "**Training a MNIST model with an incorrectly high learning rate**"
      ]
    },
    {
      "cell_type": "code",
      "execution_count": 3,
      "metadata": {
        "id": "1wmx-FK8xipf",
        "outputId": "a11e28d7-5bc7-442a-b3c7-3dfa294df4f4",
        "colab": {
          "base_uri": "https://localhost:8080/"
        }
      },
      "outputs": [
        {
          "output_type": "stream",
          "name": "stdout",
          "text": [
            "Epoch 1/10\n",
            "375/375 [==============================] - 7s 4ms/step - loss: 699.1562 - accuracy: 0.3255 - val_loss: 2.2407 - val_accuracy: 0.2150\n",
            "Epoch 2/10\n",
            "375/375 [==============================] - 1s 4ms/step - loss: 3.5169 - accuracy: 0.1795 - val_loss: 2.1539 - val_accuracy: 0.2103\n",
            "Epoch 3/10\n",
            "375/375 [==============================] - 2s 4ms/step - loss: 2.6240 - accuracy: 0.1781 - val_loss: 2.2312 - val_accuracy: 0.2213\n",
            "Epoch 4/10\n",
            "375/375 [==============================] - 1s 3ms/step - loss: 2.4690 - accuracy: 0.2000 - val_loss: 2.2229 - val_accuracy: 0.1747\n",
            "Epoch 5/10\n",
            "375/375 [==============================] - 1s 3ms/step - loss: 3.4820 - accuracy: 0.1909 - val_loss: 2.3121 - val_accuracy: 0.1758\n",
            "Epoch 6/10\n",
            "375/375 [==============================] - 1s 3ms/step - loss: 2.2960 - accuracy: 0.1904 - val_loss: 2.2311 - val_accuracy: 0.2131\n",
            "Epoch 7/10\n",
            "375/375 [==============================] - 1s 3ms/step - loss: 2.3009 - accuracy: 0.2224 - val_loss: 2.1354 - val_accuracy: 0.2539\n",
            "Epoch 8/10\n",
            "375/375 [==============================] - 1s 3ms/step - loss: 2.3909 - accuracy: 0.2190 - val_loss: 2.0778 - val_accuracy: 0.2023\n",
            "Epoch 9/10\n",
            "375/375 [==============================] - 1s 3ms/step - loss: 2.4259 - accuracy: 0.2160 - val_loss: 2.2297 - val_accuracy: 0.1992\n",
            "Epoch 10/10\n",
            "375/375 [==============================] - 1s 3ms/step - loss: 2.3264 - accuracy: 0.2179 - val_loss: 2.1606 - val_accuracy: 0.2143\n"
          ]
        },
        {
          "output_type": "execute_result",
          "data": {
            "text/plain": [
              "<keras.callbacks.History at 0x7f5c1e0b2d90>"
            ]
          },
          "metadata": {},
          "execution_count": 3
        }
      ],
      "source": [
        "from tensorflow.keras.datasets import mnist\n",
        "import numpy as np\n",
        "from tensorflow import keras\n",
        "from tensorflow.keras import layers\n",
        "\n",
        "(train_images, train_labels), _ = mnist.load_data()\n",
        "train_images = train_images.reshape((60000, 28 * 28))\n",
        "train_images = train_images.astype(\"float32\") / 255\n",
        "\n",
        "model = keras.Sequential([\n",
        "    layers.Dense(512, activation=\"relu\"),\n",
        "    layers.Dense(10, activation=\"softmax\")\n",
        "])\n",
        "model.compile(optimizer=keras.optimizers.RMSprop(1.), # accuracy 낮아짐 -> learning rate 조정정\n",
        "              loss=\"sparse_categorical_crossentropy\",\n",
        "              metrics=[\"accuracy\"])\n",
        "model.fit(train_images, train_labels,\n",
        "          epochs=10,\n",
        "          batch_size=128,\n",
        "          validation_split=0.2)"
      ]
    },
    {
      "cell_type": "markdown",
      "metadata": {
        "id": "-iZsvbIqxipf"
      },
      "source": [
        "**The same model with a more appropriate learning rate**"
      ]
    },
    {
      "cell_type": "code",
      "execution_count": 4,
      "metadata": {
        "id": "MS0-Cx6bxipf",
        "outputId": "65632f6e-8928-42c6-bea4-25058a691ca0",
        "colab": {
          "base_uri": "https://localhost:8080/"
        }
      },
      "outputs": [
        {
          "output_type": "stream",
          "name": "stdout",
          "text": [
            "Epoch 1/10\n",
            "375/375 [==============================] - 2s 4ms/step - loss: 0.3450 - accuracy: 0.9116 - val_loss: 0.1707 - val_accuracy: 0.9532\n",
            "Epoch 2/10\n",
            "375/375 [==============================] - 1s 3ms/step - loss: 0.1249 - accuracy: 0.9648 - val_loss: 0.1393 - val_accuracy: 0.9655\n",
            "Epoch 3/10\n",
            "375/375 [==============================] - 1s 3ms/step - loss: 0.0971 - accuracy: 0.9737 - val_loss: 0.1382 - val_accuracy: 0.9698\n",
            "Epoch 4/10\n",
            "375/375 [==============================] - 1s 3ms/step - loss: 0.0800 - accuracy: 0.9793 - val_loss: 0.1996 - val_accuracy: 0.9614\n",
            "Epoch 5/10\n",
            "375/375 [==============================] - 1s 3ms/step - loss: 0.0639 - accuracy: 0.9832 - val_loss: 0.1756 - val_accuracy: 0.9698\n",
            "Epoch 6/10\n",
            "375/375 [==============================] - 1s 4ms/step - loss: 0.0615 - accuracy: 0.9853 - val_loss: 0.1563 - val_accuracy: 0.9730\n",
            "Epoch 7/10\n",
            "375/375 [==============================] - 2s 4ms/step - loss: 0.0513 - accuracy: 0.9869 - val_loss: 0.1864 - val_accuracy: 0.9716\n",
            "Epoch 8/10\n",
            "375/375 [==============================] - 1s 3ms/step - loss: 0.0442 - accuracy: 0.9888 - val_loss: 0.2287 - val_accuracy: 0.9683\n",
            "Epoch 9/10\n",
            "375/375 [==============================] - 1s 3ms/step - loss: 0.0398 - accuracy: 0.9901 - val_loss: 0.1861 - val_accuracy: 0.9751\n",
            "Epoch 10/10\n",
            "375/375 [==============================] - 1s 3ms/step - loss: 0.0406 - accuracy: 0.9915 - val_loss: 0.2079 - val_accuracy: 0.9750\n"
          ]
        },
        {
          "output_type": "execute_result",
          "data": {
            "text/plain": [
              "<keras.callbacks.History at 0x7f5c12216a00>"
            ]
          },
          "metadata": {},
          "execution_count": 4
        }
      ],
      "source": [
        "model = keras.Sequential([\n",
        "    layers.Dense(512, activation=\"relu\"),\n",
        "    layers.Dense(10, activation=\"softmax\")\n",
        "])\n",
        "model.compile(optimizer=keras.optimizers.RMSprop(1e-2),\n",
        "              loss=\"sparse_categorical_crossentropy\",\n",
        "              metrics=[\"accuracy\"])\n",
        "model.fit(train_images, train_labels,\n",
        "          epochs=10,\n",
        "          batch_size=128,\n",
        "          validation_split=0.2)"
      ]
    },
    {
      "cell_type": "markdown",
      "metadata": {
        "id": "JuXnxX8Rxipf"
      },
      "source": [
        "### Leveraging better architecture priors"
      ]
    },
    {
      "cell_type": "markdown",
      "metadata": {
        "id": "rBnQpKuExipf"
      },
      "source": [
        "### Increasing model capacity"
      ]
    },
    {
      "cell_type": "markdown",
      "metadata": {
        "id": "4N-xBhBFxipg"
      },
      "source": [
        "**A simple logistic regression on MNIST**"
      ]
    },
    {
      "cell_type": "code",
      "execution_count": 5,
      "metadata": {
        "id": "M7S-yiZmxipg",
        "outputId": "c8a28350-a943-408c-d3ca-b730cb0e8860",
        "colab": {
          "base_uri": "https://localhost:8080/"
        }
      },
      "outputs": [
        {
          "output_type": "stream",
          "name": "stdout",
          "text": [
            "Epoch 1/20\n",
            "375/375 [==============================] - 2s 3ms/step - loss: 0.6706 - accuracy: 0.8322 - val_loss: 0.3611 - val_accuracy: 0.9042\n",
            "Epoch 2/20\n",
            "375/375 [==============================] - 1s 3ms/step - loss: 0.3537 - accuracy: 0.9037 - val_loss: 0.3129 - val_accuracy: 0.9115\n",
            "Epoch 3/20\n",
            "375/375 [==============================] - 1s 3ms/step - loss: 0.3182 - accuracy: 0.9114 - val_loss: 0.2920 - val_accuracy: 0.9180\n",
            "Epoch 4/20\n",
            "375/375 [==============================] - 1s 3ms/step - loss: 0.3017 - accuracy: 0.9166 - val_loss: 0.2830 - val_accuracy: 0.9205\n",
            "Epoch 5/20\n",
            "375/375 [==============================] - 1s 3ms/step - loss: 0.2919 - accuracy: 0.9190 - val_loss: 0.2779 - val_accuracy: 0.9233\n",
            "Epoch 6/20\n",
            "375/375 [==============================] - 1s 3ms/step - loss: 0.2854 - accuracy: 0.9205 - val_loss: 0.2746 - val_accuracy: 0.9233\n",
            "Epoch 7/20\n",
            "375/375 [==============================] - 1s 3ms/step - loss: 0.2805 - accuracy: 0.9214 - val_loss: 0.2699 - val_accuracy: 0.9264\n",
            "Epoch 8/20\n",
            "375/375 [==============================] - 1s 3ms/step - loss: 0.2766 - accuracy: 0.9237 - val_loss: 0.2686 - val_accuracy: 0.9263\n",
            "Epoch 9/20\n",
            "375/375 [==============================] - 1s 3ms/step - loss: 0.2735 - accuracy: 0.9238 - val_loss: 0.2675 - val_accuracy: 0.9270\n",
            "Epoch 10/20\n",
            "375/375 [==============================] - 2s 4ms/step - loss: 0.2707 - accuracy: 0.9254 - val_loss: 0.2668 - val_accuracy: 0.9268\n",
            "Epoch 11/20\n",
            "375/375 [==============================] - 1s 3ms/step - loss: 0.2685 - accuracy: 0.9263 - val_loss: 0.2665 - val_accuracy: 0.9271\n",
            "Epoch 12/20\n",
            "375/375 [==============================] - 1s 3ms/step - loss: 0.2666 - accuracy: 0.9265 - val_loss: 0.2657 - val_accuracy: 0.9279\n",
            "Epoch 13/20\n",
            "375/375 [==============================] - 1s 3ms/step - loss: 0.2649 - accuracy: 0.9264 - val_loss: 0.2650 - val_accuracy: 0.9283\n",
            "Epoch 14/20\n",
            "375/375 [==============================] - 1s 3ms/step - loss: 0.2634 - accuracy: 0.9283 - val_loss: 0.2640 - val_accuracy: 0.9283\n",
            "Epoch 15/20\n",
            "375/375 [==============================] - 1s 3ms/step - loss: 0.2618 - accuracy: 0.9284 - val_loss: 0.2646 - val_accuracy: 0.9280\n",
            "Epoch 16/20\n",
            "375/375 [==============================] - 1s 3ms/step - loss: 0.2606 - accuracy: 0.9284 - val_loss: 0.2640 - val_accuracy: 0.9293\n",
            "Epoch 17/20\n",
            "375/375 [==============================] - 1s 3ms/step - loss: 0.2592 - accuracy: 0.9286 - val_loss: 0.2642 - val_accuracy: 0.9284\n",
            "Epoch 18/20\n",
            "375/375 [==============================] - 1s 3ms/step - loss: 0.2582 - accuracy: 0.9291 - val_loss: 0.2623 - val_accuracy: 0.9314\n",
            "Epoch 19/20\n",
            "375/375 [==============================] - 1s 3ms/step - loss: 0.2569 - accuracy: 0.9291 - val_loss: 0.2643 - val_accuracy: 0.9286\n",
            "Epoch 20/20\n",
            "375/375 [==============================] - 2s 4ms/step - loss: 0.2562 - accuracy: 0.9292 - val_loss: 0.2619 - val_accuracy: 0.9307\n"
          ]
        }
      ],
      "source": [
        "model = keras.Sequential([layers.Dense(10, activation=\"softmax\")])\n",
        "model.compile(optimizer=\"rmsprop\",\n",
        "              loss=\"sparse_categorical_crossentropy\",\n",
        "              metrics=[\"accuracy\"])\n",
        "history_small_model = model.fit(\n",
        "    train_images, train_labels,\n",
        "    epochs=20,\n",
        "    batch_size=128,\n",
        "    validation_split=0.2)"
      ]
    },
    {
      "cell_type": "code",
      "execution_count": 6,
      "metadata": {
        "id": "425iGT2ixipg",
        "outputId": "cec8919c-d7ec-4028-86c5-f0a28235c57c",
        "colab": {
          "base_uri": "https://localhost:8080/",
          "height": 491
        }
      },
      "outputs": [
        {
          "output_type": "execute_result",
          "data": {
            "text/plain": [
              "<matplotlib.legend.Legend at 0x7f5c104af790>"
            ]
          },
          "metadata": {},
          "execution_count": 6
        },
        {
          "output_type": "display_data",
          "data": {
            "text/plain": [
              "<Figure size 640x480 with 1 Axes>"
            ],
            "image/png": "[encoded data removed]"
          },
          "metadata": {}
        }
      ],
      "source": [
        "import matplotlib.pyplot as plt\n",
        "val_loss = history_small_model.history[\"val_loss\"]\n",
        "epochs = range(1, 21)\n",
        "plt.plot(epochs, val_loss, \"b--\",\n",
        "         label=\"Validation loss\")\n",
        "plt.title(\"Effect of insufficient model capacity on validation loss\")\n",
        "plt.xlabel(\"Epochs\")\n",
        "plt.ylabel(\"Loss\")\n",
        "plt.legend()"
      ]
    },
    {
      "cell_type": "code",
      "execution_count": 7,
      "metadata": {
        "id": "-MiG0KYqxipg",
        "outputId": "797bfe3c-3c54-4f5d-9d02-397d7f5e3ad0",
        "colab": {
          "base_uri": "https://localhost:8080/"
        }
      },
      "outputs": [
        {
          "output_type": "stream",
          "name": "stdout",
          "text": [
            "Epoch 1/20\n",
            "375/375 [==============================] - 2s 4ms/step - loss: 0.3568 - accuracy: 0.8984 - val_loss: 0.1868 - val_accuracy: 0.9460\n",
            "Epoch 2/20\n",
            "375/375 [==============================] - 1s 4ms/step - loss: 0.1607 - accuracy: 0.9517 - val_loss: 0.1354 - val_accuracy: 0.9604\n",
            "Epoch 3/20\n",
            "375/375 [==============================] - 2s 4ms/step - loss: 0.1153 - accuracy: 0.9656 - val_loss: 0.1128 - val_accuracy: 0.9663\n",
            "Epoch 4/20\n",
            "375/375 [==============================] - 2s 4ms/step - loss: 0.0887 - accuracy: 0.9731 - val_loss: 0.1100 - val_accuracy: 0.9670\n",
            "Epoch 5/20\n",
            "375/375 [==============================] - 1s 3ms/step - loss: 0.0706 - accuracy: 0.9793 - val_loss: 0.1003 - val_accuracy: 0.9722\n",
            "Epoch 6/20\n",
            "375/375 [==============================] - 1s 3ms/step - loss: 0.0585 - accuracy: 0.9819 - val_loss: 0.0920 - val_accuracy: 0.9747\n",
            "Epoch 7/20\n",
            "375/375 [==============================] - 1s 3ms/step - loss: 0.0490 - accuracy: 0.9849 - val_loss: 0.0899 - val_accuracy: 0.9755\n",
            "Epoch 8/20\n",
            "375/375 [==============================] - 1s 3ms/step - loss: 0.0411 - accuracy: 0.9869 - val_loss: 0.0916 - val_accuracy: 0.9758\n",
            "Epoch 9/20\n",
            "375/375 [==============================] - 1s 4ms/step - loss: 0.0346 - accuracy: 0.9887 - val_loss: 0.0910 - val_accuracy: 0.9753\n",
            "Epoch 10/20\n",
            "375/375 [==============================] - 1s 3ms/step - loss: 0.0290 - accuracy: 0.9917 - val_loss: 0.0921 - val_accuracy: 0.9760\n",
            "Epoch 11/20\n",
            "375/375 [==============================] - 1s 4ms/step - loss: 0.0248 - accuracy: 0.9926 - val_loss: 0.0979 - val_accuracy: 0.9758\n",
            "Epoch 12/20\n",
            "375/375 [==============================] - 2s 4ms/step - loss: 0.0212 - accuracy: 0.9934 - val_loss: 0.0919 - val_accuracy: 0.9781\n",
            "Epoch 13/20\n",
            "375/375 [==============================] - 2s 4ms/step - loss: 0.0177 - accuracy: 0.9944 - val_loss: 0.1110 - val_accuracy: 0.9738\n",
            "Epoch 14/20\n",
            "375/375 [==============================] - 1s 3ms/step - loss: 0.0149 - accuracy: 0.9954 - val_loss: 0.1086 - val_accuracy: 0.9760\n",
            "Epoch 15/20\n",
            "375/375 [==============================] - 1s 3ms/step - loss: 0.0125 - accuracy: 0.9959 - val_loss: 0.1308 - val_accuracy: 0.9732\n",
            "Epoch 16/20\n",
            "375/375 [==============================] - 1s 3ms/step - loss: 0.0104 - accuracy: 0.9970 - val_loss: 0.1105 - val_accuracy: 0.9758\n",
            "Epoch 17/20\n",
            "375/375 [==============================] - 1s 3ms/step - loss: 0.0092 - accuracy: 0.9973 - val_loss: 0.1093 - val_accuracy: 0.9793\n",
            "Epoch 18/20\n",
            "375/375 [==============================] - 1s 3ms/step - loss: 0.0073 - accuracy: 0.9977 - val_loss: 0.1148 - val_accuracy: 0.9789\n",
            "Epoch 19/20\n",
            "375/375 [==============================] - 1s 3ms/step - loss: 0.0066 - accuracy: 0.9979 - val_loss: 0.1239 - val_accuracy: 0.9773\n",
            "Epoch 20/20\n",
            "375/375 [==============================] - 2s 6ms/step - loss: 0.0065 - accuracy: 0.9976 - val_loss: 0.1342 - val_accuracy: 0.9763\n"
          ]
        }
      ],
      "source": [
        "model = keras.Sequential([\n",
        "    layers.Dense(96, activation=\"relu\"),\n",
        "    layers.Dense(96, activation=\"relu\"),\n",
        "    layers.Dense(10, activation=\"softmax\"),\n",
        "])\n",
        "model.compile(optimizer=\"rmsprop\",\n",
        "              loss=\"sparse_categorical_crossentropy\",\n",
        "              metrics=[\"accuracy\"])\n",
        "history_large_model = model.fit(\n",
        "    train_images, train_labels,\n",
        "    epochs=20,\n",
        "    batch_size=128,\n",
        "    validation_split=0.2)"
      ]
    },
    {
      "cell_type": "code",
      "source": [
        "import matplotlib.pyplot as plt\n",
        "val_loss = history_large_model.history[\"val_loss\"]\n",
        "epochs = range(1, 21)\n",
        "plt.plot(epochs, val_loss, \"b--\",\n",
        "         label=\"Validation loss\")\n",
        "plt.title(\"Effect of insufficient model capacity on validation loss\")\n",
        "plt.xlabel(\"Epochs\")\n",
        "plt.ylabel(\"Loss\")\n",
        "plt.legend()"
      ],
      "metadata": {
        "id": "MOwWcaoaF_F4",
        "outputId": "4bf1f13b-bfb9-406f-ada3-60e68ea54753",
        "colab": {
          "base_uri": "https://localhost:8080/",
          "height": 491
        }
      },
      "execution_count": 8,
      "outputs": [
        {
          "output_type": "execute_result",
          "data": {
            "text/plain": [
              "<matplotlib.legend.Legend at 0x7f5c12285820>"
            ]
          },
          "metadata": {},
          "execution_count": 8
        },
        {
          "output_type": "display_data",
          "data": {
            "text/plain": [
              "<Figure size 640x480 with 1 Axes>"
            ],
            "image/png": "[encoded data removed]"
          },
          "metadata": {}
        }
      ]
    },
    {
      "cell_type": "code",
      "source": [
        "import matplotlib.pyplot as plt\n",
        "val_loss1 = history_small_model.history[\"val_loss\"]\n",
        "val_loss2 = history_large_model.history[\"val_loss\"]\n",
        "epochs = range(1, 21)\n",
        "plt.plot(epochs, val_loss, \"b--\",\n",
        "         label=\"Validation loss\")\n",
        "plt.title(\"Effect of insufficient model capacity on validation loss\")\n",
        "plt.xlabel(\"Epochs\")\n",
        "plt.ylabel(\"Loss\")\n",
        "plt.legend()"
      ],
      "metadata": {
        "id": "AZEEJJvIGy_m"
      },
      "execution_count": null,
      "outputs": []
    },
    {
      "cell_type": "markdown",
      "metadata": {
        "id": "J5E0uIlOxipg"
      },
      "source": [
        "## Improving generalization"
      ]
    },
    {
      "cell_type": "markdown",
      "metadata": {
        "id": "BVAy0NTOxipg"
      },
      "source": [
        "### Dataset curation"
      ]
    },
    {
      "cell_type": "markdown",
      "metadata": {
        "id": "LEWMKSmwxipg"
      },
      "source": [
        "### Feature engineering"
      ]
    },
    {
      "cell_type": "markdown",
      "metadata": {
        "id": "nttyaZS4xipg"
      },
      "source": [
        "### Using early stopping"
      ]
    },
    {
      "cell_type": "markdown",
      "metadata": {
        "id": "dzj-CxNNxipg"
      },
      "source": [
        "### Regularizing your model"
      ]
    },
    {
      "cell_type": "markdown",
      "metadata": {
        "id": "SVB2qL_Wxiph"
      },
      "source": [
        "#### Reducing the network's size"
      ]
    },
    {
      "cell_type": "markdown",
      "metadata": {
        "id": "kjgAObbLxiph"
      },
      "source": [
        "**Original model**"
      ]
    },
    {
      "cell_type": "code",
      "execution_count": null,
      "metadata": {
        "id": "8_RxfKnKxiph"
      },
      "outputs": [],
      "source": [
        "from tensorflow.keras.datasets import imdb\n",
        "(train_data, train_labels), _ = imdb.load_data(num_words=10000)\n",
        "\n",
        "def vectorize_sequences(sequences, dimension=10000):\n",
        "    results = np.zeros((len(sequences), dimension))\n",
        "    for i, sequence in enumerate(sequences):\n",
        "        results[i, sequence] = 1.\n",
        "    return results\n",
        "train_data = vectorize_sequences(train_data)\n",
        "\n",
        "model = keras.Sequential([\n",
        "    layers.Dense(16, activation=\"relu\"),\n",
        "    layers.Dense(16, activation=\"relu\"),\n",
        "    layers.Dense(1, activation=\"sigmoid\")\n",
        "])\n",
        "model.compile(optimizer=\"rmsprop\",\n",
        "              loss=\"binary_crossentropy\",\n",
        "              metrics=[\"accuracy\"])\n",
        "history_original = model.fit(train_data, train_labels,\n",
        "                             epochs=20, batch_size=512, validation_split=0.4)"
      ]
    },
    {
      "cell_type": "markdown",
      "metadata": {
        "id": "PUcdvzBBxiph"
      },
      "source": [
        "**Version of the model with lower capacity**"
      ]
    },
    {
      "cell_type": "code",
      "execution_count": null,
      "metadata": {
        "id": "mz232JA8xiph"
      },
      "outputs": [],
      "source": [
        "model = keras.Sequential([\n",
        "    layers.Dense(4, activation=\"relu\"),\n",
        "    layers.Dense(4, activation=\"relu\"),\n",
        "    layers.Dense(1, activation=\"sigmoid\")\n",
        "])\n",
        "model.compile(optimizer=\"rmsprop\",\n",
        "              loss=\"binary_crossentropy\",\n",
        "              metrics=[\"accuracy\"])\n",
        "history_smaller_model = model.fit(\n",
        "    train_data, train_labels,\n",
        "    epochs=20, batch_size=512, validation_split=0.4)"
      ]
    },
    {
      "cell_type": "markdown",
      "metadata": {
        "id": "_UAM3uGpxiph"
      },
      "source": [
        "**Version of the model with higher capacity**"
      ]
    },
    {
      "cell_type": "code",
      "execution_count": null,
      "metadata": {
        "id": "iVw-V9Acxiph"
      },
      "outputs": [],
      "source": [
        "model = keras.Sequential([\n",
        "    layers.Dense(512, activation=\"relu\"),\n",
        "    layers.Dense(512, activation=\"relu\"),\n",
        "    layers.Dense(1, activation=\"sigmoid\")\n",
        "])\n",
        "model.compile(optimizer=\"rmsprop\",\n",
        "              loss=\"binary_crossentropy\",\n",
        "              metrics=[\"accuracy\"])\n",
        "history_larger_model = model.fit(\n",
        "    train_data, train_labels,\n",
        "    epochs=20, batch_size=512, validation_split=0.4)"
      ]
    },
    {
      "cell_type": "markdown",
      "metadata": {
        "id": "4gZTCZkmxiph"
      },
      "source": [
        "#### Adding weight regularization"
      ]
    },
    {
      "cell_type": "markdown",
      "metadata": {
        "id": "ib2dWFIBxiph"
      },
      "source": [
        "**Adding L2 weight regularization to the model**"
      ]
    },
    {
      "cell_type": "code",
      "execution_count": null,
      "metadata": {
        "id": "1Zo0Ixchxipi"
      },
      "outputs": [],
      "source": [
        "from tensorflow.keras import regularizers\n",
        "model = keras.Sequential([\n",
        "    layers.Dense(16,\n",
        "                 kernel_regularizer=regularizers.l2(0.002),\n",
        "                 activation=\"relu\"),\n",
        "    layers.Dense(16,\n",
        "                 kernel_regularizer=regularizers.l2(0.002),\n",
        "                 activation=\"relu\"),\n",
        "    layers.Dense(1, activation=\"sigmoid\")\n",
        "])\n",
        "model.compile(optimizer=\"rmsprop\",\n",
        "              loss=\"binary_crossentropy\",\n",
        "              metrics=[\"accuracy\"])\n",
        "history_l2_reg = model.fit(\n",
        "    train_data, train_labels,\n",
        "    epochs=20, batch_size=512, validation_split=0.4)"
      ]
    },
    {
      "cell_type": "markdown",
      "metadata": {
        "id": "1q0XT7jixipi"
      },
      "source": [
        "**Different weight regularizers available in Keras**"
      ]
    },
    {
      "cell_type": "code",
      "execution_count": null,
      "metadata": {
        "id": "UqgWDMudxipi"
      },
      "outputs": [],
      "source": [
        "from tensorflow.keras import regularizers\n",
        "regularizers.l1(0.001)\n",
        "regularizers.l1_l2(l1=0.001, l2=0.001)"
      ]
    },
    {
      "cell_type": "markdown",
      "metadata": {
        "id": "vxcRQZPHxipi"
      },
      "source": [
        "#### Adding dropout"
      ]
    },
    {
      "cell_type": "markdown",
      "metadata": {
        "id": "26fxjSqdxipi"
      },
      "source": [
        "**Adding dropout to the IMDB model**"
      ]
    },
    {
      "cell_type": "code",
      "execution_count": null,
      "metadata": {
        "id": "jfoMbr1Vxipi"
      },
      "outputs": [],
      "source": [
        "model = keras.Sequential([\n",
        "    layers.Dense(16, activation=\"relu\"),\n",
        "    layers.Dropout(0.5),\n",
        "    layers.Dense(16, activation=\"relu\"),\n",
        "    layers.Dropout(0.5),\n",
        "    layers.Dense(1, activation=\"sigmoid\")\n",
        "])\n",
        "model.compile(optimizer=\"rmsprop\",\n",
        "              loss=\"binary_crossentropy\",\n",
        "              metrics=[\"accuracy\"])\n",
        "history_dropout = model.fit(\n",
        "    train_data, train_labels,\n",
        "    epochs=20, batch_size=512, validation_split=0.4)"
      ]
    },
    {
      "cell_type": "markdown",
      "metadata": {
        "id": "hZvZ5RQ7xipj"
      },
      "source": [
        "## Summary"
      ]
    }
  ],
  "metadata": {
    "colab": {
      "name": "chapter05_fundamentals-of-ml.i",
      "provenance": [],
      "toc_visible": true
    },
    "kernelspec": {
      "display_name": "Python 3",
      "language": "python",
      "name": "python3"
    },
    "language_info": {
      "codemirror_mode": {
        "name": "ipython",
        "version": 3
      },
      "file_extension": ".py",
      "mimetype": "text/x-python",
      "name": "python",
      "nbconvert_exporter": "python",
      "pygments_lexer": "ipython3",
      "version": "3.7.0"
    },
    "accelerator": "GPU",
    "gpuClass": "standard"
  },
  "nbformat": 4,
  "nbformat_minor": 0
}
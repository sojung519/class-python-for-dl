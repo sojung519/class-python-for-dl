{
  "cells": [
    {
      "cell_type": "markdown",
      "metadata": {
        "id": "7o4bKWum1lMG"
      },
      "source": [
        "This is a companion notebook for the book [Deep Learning with Python, Second Edition](https://www.manning.com/books/deep-learning-with-python-second-edition?a_aid=keras&a_bid=76564dff). For readability, it only contains runnable code blocks and section titles, and omits everything else in the book: text paragraphs, figures, and pseudocode.\n",
        "\n",
        "**If you want to be able to follow what's going on, I recommend reading the notebook side by side with your copy of the book.**\n",
        "\n",
        "This notebook was generated for TensorFlow 2.6."
      ]
    },
    {
      "cell_type": "markdown",
      "metadata": {
        "id": "G0snzpI01lMI"
      },
      "source": [
        "# Working with Keras: A deep dive"
      ]
    },
    {
      "cell_type": "markdown",
      "metadata": {
        "id": "Op6ZmmSu1lMI"
      },
      "source": [
        "## A spectrum of workflows"
      ]
    },
    {
      "cell_type": "markdown",
      "metadata": {
        "id": "0Cmie-3W1lMJ"
      },
      "source": [
        "## Different ways to build Keras models"
      ]
    },
    {
      "cell_type": "markdown",
      "metadata": {
        "id": "k1TbBqFV1lMJ"
      },
      "source": [
        "### The Sequential model"
      ]
    },
    {
      "cell_type": "markdown",
      "metadata": {
        "id": "F-SUAYhJ1lMJ"
      },
      "source": [
        "**The `Sequential` class**"
      ]
    },
    {
      "cell_type": "code",
      "execution_count": 1,
      "metadata": {
        "id": "EyyAH5VF1lMJ"
      },
      "outputs": [],
      "source": [
        "from tensorflow import keras\n",
        "from tensorflow.keras import layers\n",
        "\n",
        "model = keras.Sequential([\n",
        "    layers.Dense(64, activation=\"relu\"),\n",
        "    layers.Dense(10, activation=\"softmax\")\n",
        "])"
      ]
    },
    {
      "cell_type": "markdown",
      "metadata": {
        "id": "9J2-SQlA1lMK"
      },
      "source": [
        "**Incrementally building a Sequential model**"
      ]
    },
    {
      "cell_type": "markdown",
      "source": [
        "**sequentail model 만드는 방법 1**"
      ],
      "metadata": {
        "id": "vNytOixOkT8y"
      }
    },
    {
      "cell_type": "code",
      "execution_count": 2,
      "metadata": {
        "id": "Dnr3R8vY1lMK"
      },
      "outputs": [],
      "source": [
        "model = keras.Sequential()\n",
        "model.add(layers.Dense(64, activation=\"relu\"))\n",
        "model.add(layers.Dense(10, activation=\"softmax\"))"
      ]
    },
    {
      "cell_type": "code",
      "source": [
        "model.layers #어떤 레이어가 붙어있는지 확인인"
      ],
      "metadata": {
        "id": "nrXD3K6-14Ef",
        "outputId": "1c33ef2f-c7b6-4774-8373-56b1997602ab",
        "colab": {
          "base_uri": "https://localhost:8080/"
        }
      },
      "execution_count": 3,
      "outputs": [
        {
          "output_type": "execute_result",
          "data": {
            "text/plain": [
              "[<keras.layers.core.dense.Dense at 0x7f132f2aee00>,\n",
              " <keras.layers.core.dense.Dense at 0x7f132f2afbe0>]"
            ]
          },
          "metadata": {},
          "execution_count": 3
        }
      ]
    },
    {
      "cell_type": "code",
      "source": [
        "dir(model) #어떤 레이어를 사용할수 있는지"
      ],
      "metadata": {
        "id": "By3TtxgQ2Bob",
        "outputId": "483ad6e0-cfb7-4b6f-94e9-b0daf8004116",
        "colab": {
          "base_uri": "https://localhost:8080/"
        }
      },
      "execution_count": 4,
      "outputs": [
        {
          "output_type": "execute_result",
          "data": {
            "text/plain": [
              "['_SCALAR_UPRANKING_ON',\n",
              " '_TF_MODULE_IGNORED_PROPERTIES',\n",
              " '__call__',\n",
              " '__class__',\n",
              " '__copy__',\n",
              " '__deepcopy__',\n",
              " '__delattr__',\n",
              " '__dict__',\n",
              " '__dir__',\n",
              " '__doc__',\n",
              " '__eq__',\n",
              " '__format__',\n",
              " '__ge__',\n",
              " '__getattribute__',\n",
              " '__getstate__',\n",
              " '__gt__',\n",
              " '__hash__',\n",
              " '__init__',\n",
              " '__init_subclass__',\n",
              " '__le__',\n",
              " '__lt__',\n",
              " '__module__',\n",
              " '__ne__',\n",
              " '__new__',\n",
              " '__reduce__',\n",
              " '__reduce_ex__',\n",
              " '__repr__',\n",
              " '__setattr__',\n",
              " '__setstate__',\n",
              " '__sizeof__',\n",
              " '__str__',\n",
              " '__subclasshook__',\n",
              " '__weakref__',\n",
              " '_activity_regularizer',\n",
              " '_add_trackable',\n",
              " '_add_trackable_child',\n",
              " '_add_variable_with_custom_getter',\n",
              " '_assert_compile_was_called',\n",
              " '_assert_weights_created',\n",
              " '_auto_config',\n",
              " '_auto_get_config',\n",
              " '_auto_track_sub_layers',\n",
              " '_autocast',\n",
              " '_autographed_call',\n",
              " '_base_model_initialized',\n",
              " '_build_graph_network_for_inferred_shape',\n",
              " '_build_input_shape',\n",
              " '_call_spec',\n",
              " '_callable_losses',\n",
              " '_captured_weight_regularizer',\n",
              " '_cast_single_input',\n",
              " '_check_call_args',\n",
              " '_check_sample_weight_warning',\n",
              " '_checkpoint',\n",
              " '_checkpoint_dependencies',\n",
              " '_clear_losses',\n",
              " '_cluster_coordinator',\n",
              " '_compile_was_called',\n",
              " '_compiled_trainable_state',\n",
              " '_compute_dtype',\n",
              " '_compute_dtype_object',\n",
              " '_compute_output_and_mask_jointly',\n",
              " '_compute_tensor_usage_count',\n",
              " '_configure_steps_per_execution',\n",
              " '_conform_to_reference_input',\n",
              " '_created_nodes',\n",
              " '_dedup_weights',\n",
              " '_deferred_dependencies',\n",
              " '_delete_tracking',\n",
              " '_deserialization_dependencies',\n",
              " '_deserialize_from_proto',\n",
              " '_distribute_reduction_method',\n",
              " '_distribution_strategy',\n",
              " '_dtype',\n",
              " '_dtype_policy',\n",
              " '_dynamic',\n",
              " '_eager_losses',\n",
              " '_expects_mask_arg',\n",
              " '_expects_training_arg',\n",
              " '_export_to_saved_model_graph',\n",
              " '_flatten',\n",
              " '_flatten_layers',\n",
              " '_flatten_modules',\n",
              " '_flatten_to_reference_inputs',\n",
              " '_functional_construction_call',\n",
              " '_gather_children_attribute',\n",
              " '_gather_saveables_for_checkpoint',\n",
              " '_get_callback_model',\n",
              " '_get_cell_name',\n",
              " '_get_compile_args',\n",
              " '_get_existing_metric',\n",
              " '_get_input_masks',\n",
              " '_get_node_attribute_at_index',\n",
              " '_get_optimizer',\n",
              " '_get_save_spec',\n",
              " '_get_trainable_state',\n",
              " '_get_unnested_name_scope',\n",
              " '_graph_initialized',\n",
              " '_graph_network_add_loss',\n",
              " '_graph_network_add_metric',\n",
              " '_handle_activity_regularization',\n",
              " '_handle_deferred_dependencies',\n",
              " '_handle_deferred_layer_dependencies',\n",
              " '_handle_weight_regularization',\n",
              " '_has_explicit_input_shape',\n",
              " '_in_multi_worker_mode',\n",
              " '_inbound_nodes',\n",
              " '_inbound_nodes_value',\n",
              " '_infer_output_signature',\n",
              " '_inferred_input_shape',\n",
              " '_init_batch_counters',\n",
              " '_init_call_fn_args',\n",
              " '_init_graph_network',\n",
              " '_init_set_name',\n",
              " '_initial_weights',\n",
              " '_input_dtype',\n",
              " '_input_spec',\n",
              " '_insert_layers',\n",
              " '_instrument_layer_creation',\n",
              " '_instrumented_keras_api',\n",
              " '_instrumented_keras_layer_class',\n",
              " '_instrumented_keras_model_class',\n",
              " '_is_compiled',\n",
              " '_is_graph_network',\n",
              " '_is_layer',\n",
              " '_is_layer_name_unique',\n",
              " '_is_model_for_instrumentation',\n",
              " '_jit_compile',\n",
              " '_keras_api_names',\n",
              " '_keras_api_names_v1',\n",
              " '_keras_tensor_symbolic_call',\n",
              " '_layer_call_argspecs',\n",
              " '_layer_checkpoint_dependencies',\n",
              " '_layout_map',\n",
              " '_load_own_variables',\n",
              " '_lookup_dependency',\n",
              " '_losses',\n",
              " '_maybe_build',\n",
              " '_maybe_cast_inputs',\n",
              " '_maybe_create_attribute',\n",
              " '_maybe_initialize_trackable',\n",
              " '_maybe_load_initial_counters_from_ckpt',\n",
              " '_metrics',\n",
              " '_metrics_lock',\n",
              " '_must_restore_from_config',\n",
              " '_name',\n",
              " '_name_based_attribute_restore',\n",
              " '_name_based_restores',\n",
              " '_name_scope',\n",
              " '_name_scope_on_declaration',\n",
              " '_no_dependency',\n",
              " '_non_trainable_weights',\n",
              " '_obj_reference_counts',\n",
              " '_obj_reference_counts_dict',\n",
              " '_object_identifier',\n",
              " '_outbound_nodes',\n",
              " '_outbound_nodes_value',\n",
              " '_predict_counter',\n",
              " '_preload_simple_restoration',\n",
              " '_preserve_input_structure_in_config',\n",
              " '_reset_compile_cache',\n",
              " '_restore_from_tensors',\n",
              " '_run_eagerly',\n",
              " '_run_internal_graph',\n",
              " '_save_experimental',\n",
              " '_save_own_variables',\n",
              " '_saved_model_arg_spec',\n",
              " '_saved_model_inputs_spec',\n",
              " '_self_name_based_restores',\n",
              " '_self_saveable_object_factories',\n",
              " '_self_setattr_tracking',\n",
              " '_self_tracked_trackables',\n",
              " '_self_unconditional_checkpoint_dependencies',\n",
              " '_self_unconditional_deferred_dependencies',\n",
              " '_self_unconditional_dependency_names',\n",
              " '_self_update_uid',\n",
              " '_serialize_to_proto',\n",
              " '_serialize_to_tensors',\n",
              " '_set_connectivity_metadata',\n",
              " '_set_dtype_policy',\n",
              " '_set_inputs',\n",
              " '_set_mask_keras_history_checked',\n",
              " '_set_mask_metadata',\n",
              " '_set_output_names',\n",
              " '_set_save_spec',\n",
              " '_set_trainable_state',\n",
              " '_set_training_mode',\n",
              " '_setattr_tracking',\n",
              " '_should_cast_single_input',\n",
              " '_should_compute_mask',\n",
              " '_should_eval',\n",
              " '_stateful',\n",
              " '_steps_per_execution',\n",
              " '_supports_masking',\n",
              " '_test_counter',\n",
              " '_tf_api_names',\n",
              " '_tf_api_names_v1',\n",
              " '_thread_local',\n",
              " '_track_trackable',\n",
              " '_track_variable',\n",
              " '_track_variables',\n",
              " '_trackable_children',\n",
              " '_trackable_saved_model_saver',\n",
              " '_tracking_metadata',\n",
              " '_train_counter',\n",
              " '_trainable',\n",
              " '_trainable_weights',\n",
              " '_training_state',\n",
              " '_unconditional_checkpoint_dependencies',\n",
              " '_unconditional_dependency_names',\n",
              " '_undeduplicated_weights',\n",
              " '_update_trackables',\n",
              " '_update_uid',\n",
              " '_updated_config',\n",
              " '_updates',\n",
              " '_use_input_spec_as_call_signature',\n",
              " '_use_legacy_deferred_behavior',\n",
              " '_validate_and_get_metrics_result',\n",
              " '_validate_compile',\n",
              " '_validate_graph_inputs_and_outputs',\n",
              " '_validate_target_and_loss',\n",
              " 'activity_regularizer',\n",
              " 'add',\n",
              " 'add_loss',\n",
              " 'add_metric',\n",
              " 'add_update',\n",
              " 'add_variable',\n",
              " 'add_weight',\n",
              " 'build',\n",
              " 'build_from_config',\n",
              " 'built',\n",
              " 'call',\n",
              " 'compile',\n",
              " 'compile_from_config',\n",
              " 'compiled_loss',\n",
              " 'compiled_metrics',\n",
              " 'compute_dtype',\n",
              " 'compute_loss',\n",
              " 'compute_mask',\n",
              " 'compute_metrics',\n",
              " 'compute_output_shape',\n",
              " 'compute_output_signature',\n",
              " 'count_params',\n",
              " 'distribute_reduction_method',\n",
              " 'distribute_strategy',\n",
              " 'dtype',\n",
              " 'dtype_policy',\n",
              " 'dynamic',\n",
              " 'evaluate',\n",
              " 'evaluate_generator',\n",
              " 'export',\n",
              " 'finalize_state',\n",
              " 'fit',\n",
              " 'fit_generator',\n",
              " 'from_config',\n",
              " 'get_build_config',\n",
              " 'get_compile_config',\n",
              " 'get_config',\n",
              " 'get_input_at',\n",
              " 'get_input_mask_at',\n",
              " 'get_input_shape_at',\n",
              " 'get_layer',\n",
              " 'get_metrics_result',\n",
              " 'get_output_at',\n",
              " 'get_output_mask_at',\n",
              " 'get_output_shape_at',\n",
              " 'get_weight_paths',\n",
              " 'get_weights',\n",
              " 'history',\n",
              " 'inbound_nodes',\n",
              " 'input',\n",
              " 'input_mask',\n",
              " 'input_names',\n",
              " 'input_shape',\n",
              " 'input_spec',\n",
              " 'inputs',\n",
              " 'jit_compile',\n",
              " 'layers',\n",
              " 'load_weights',\n",
              " 'losses',\n",
              " 'make_predict_function',\n",
              " 'make_test_function',\n",
              " 'make_train_function',\n",
              " 'metrics',\n",
              " 'metrics_names',\n",
              " 'name',\n",
              " 'name_scope',\n",
              " 'non_trainable_variables',\n",
              " 'non_trainable_weights',\n",
              " 'optimizer',\n",
              " 'outbound_nodes',\n",
              " 'output',\n",
              " 'output_mask',\n",
              " 'output_names',\n",
              " 'output_shape',\n",
              " 'outputs',\n",
              " 'pop',\n",
              " 'predict',\n",
              " 'predict_function',\n",
              " 'predict_generator',\n",
              " 'predict_on_batch',\n",
              " 'predict_step',\n",
              " 'reset_metrics',\n",
              " 'reset_states',\n",
              " 'run_eagerly',\n",
              " 'save',\n",
              " 'save_spec',\n",
              " 'save_weights',\n",
              " 'set_weights',\n",
              " 'state_updates',\n",
              " 'stateful',\n",
              " 'stop_training',\n",
              " 'submodules',\n",
              " 'summary',\n",
              " 'supports_masking',\n",
              " 'test_function',\n",
              " 'test_on_batch',\n",
              " 'test_step',\n",
              " 'to_json',\n",
              " 'to_yaml',\n",
              " 'train_function',\n",
              " 'train_on_batch',\n",
              " 'train_step',\n",
              " 'train_tf_function',\n",
              " 'trainable',\n",
              " 'trainable_variables',\n",
              " 'trainable_weights',\n",
              " 'updates',\n",
              " 'variable_dtype',\n",
              " 'variables',\n",
              " 'weights',\n",
              " 'with_name_scope']"
            ]
          },
          "metadata": {},
          "execution_count": 4
        }
      ]
    },
    {
      "cell_type": "markdown",
      "metadata": {
        "id": "3gSNg6Kl1lML"
      },
      "source": [
        "**Calling a model for the first time to build it**"
      ]
    },
    {
      "cell_type": "code",
      "execution_count": 5,
      "metadata": {
        "id": "tEe9NHw61lML",
        "outputId": "d372a858-9289-4598-9f41-0c05f3e7e625",
        "colab": {
          "base_uri": "https://localhost:8080/"
        }
      },
      "outputs": [
        {
          "output_type": "execute_result",
          "data": {
            "text/plain": [
              "[<tf.Variable 'dense_2/kernel:0' shape=(3, 64) dtype=float32, numpy=\n",
              " array([[ 0.07305029, -0.00730026,  0.24128735,  0.02893665,  0.29423112,\n",
              "         -0.10944253,  0.04754078,  0.25725067, -0.28827792,  0.05248681,\n",
              "         -0.21569076, -0.02997813,  0.22206974,  0.11154157,  0.06811461,\n",
              "         -0.15822877,  0.25216532, -0.1326191 , -0.22480941, -0.212283  ,\n",
              "          0.17055789, -0.19111878, -0.17367284,  0.04518548,  0.16021264,\n",
              "         -0.08832063, -0.23283526, -0.21219811, -0.2881697 ,  0.25516623,\n",
              "          0.2919656 , -0.00961393, -0.12766452,  0.19775033,  0.01455054,\n",
              "         -0.29660633,  0.27015668, -0.1039923 ,  0.10282969,  0.0180203 ,\n",
              "          0.03856015,  0.1441749 ,  0.11812872,  0.26510042, -0.1648257 ,\n",
              "          0.23130065, -0.19990137, -0.06760526,  0.17233914,  0.09667847,\n",
              "         -0.26727483, -0.03491423,  0.0524148 , -0.2918486 , -0.14217617,\n",
              "         -0.1596276 , -0.09772772,  0.23881996,  0.05583313, -0.23191503,\n",
              "         -0.2188563 , -0.12984097, -0.2474682 , -0.18680447],\n",
              "        [ 0.06930083,  0.13734588,  0.27663583,  0.20606273,  0.09241676,\n",
              "         -0.2851039 , -0.03162473, -0.20716912,  0.1046181 , -0.2847737 ,\n",
              "         -0.03492627, -0.26995328, -0.2635402 , -0.09852852, -0.02458754,\n",
              "          0.24984658,  0.04688531, -0.01037341,  0.09968963,  0.11228845,\n",
              "          0.06504738,  0.22529775,  0.18697128,  0.234402  , -0.22928765,\n",
              "         -0.0100114 ,  0.06187165, -0.05378975, -0.15941863, -0.1660346 ,\n",
              "         -0.26624885,  0.08251029,  0.16534397, -0.2451716 ,  0.01634654,\n",
              "         -0.0906803 ,  0.11848405,  0.02244768,  0.06366822,  0.29014933,\n",
              "          0.04272863, -0.07329379,  0.252173  , -0.14019592, -0.26660344,\n",
              "          0.02611053, -0.14129189, -0.11775251,  0.26874393, -0.29848754,\n",
              "          0.13736835,  0.23889601, -0.27328527,  0.22490984,  0.09802815,\n",
              "         -0.07545084, -0.2738248 ,  0.25322843,  0.17588603, -0.13530576,\n",
              "         -0.25727454, -0.24292152,  0.07176787, -0.14115833],\n",
              "        [ 0.2508129 ,  0.0105699 ,  0.24123329,  0.1264211 , -0.03339282,\n",
              "          0.00318816,  0.195909  ,  0.04885936,  0.1607967 ,  0.05298531,\n",
              "         -0.28959107, -0.017838  ,  0.20842808, -0.16157952, -0.12473807,\n",
              "         -0.0222539 ,  0.1383914 , -0.10069677, -0.10958502, -0.22615486,\n",
              "          0.14855313,  0.05449986, -0.2615058 ,  0.11917752, -0.12800764,\n",
              "          0.11277103,  0.28679603, -0.27030772,  0.07501349, -0.21459801,\n",
              "         -0.13054824,  0.25062585, -0.15538186,  0.21966189,  0.23802572,\n",
              "          0.119342  , -0.27615315,  0.24466825, -0.13080166, -0.22391085,\n",
              "          0.01657471,  0.19649205,  0.06826159,  0.04975834, -0.1353039 ,\n",
              "          0.00733453,  0.265068  ,  0.21234041,  0.13554248,  0.24879706,\n",
              "          0.12458396,  0.0901106 , -0.19209681, -0.29697955,  0.07022443,\n",
              "          0.14565635,  0.00215483,  0.17434195, -0.01466504, -0.12716924,\n",
              "          0.22843134, -0.02415782, -0.12136839,  0.1214222 ]],\n",
              "       dtype=float32)>,\n",
              " <tf.Variable 'dense_2/bias:0' shape=(64,) dtype=float32, numpy=\n",
              " array([0., 0., 0., 0., 0., 0., 0., 0., 0., 0., 0., 0., 0., 0., 0., 0., 0.,\n",
              "        0., 0., 0., 0., 0., 0., 0., 0., 0., 0., 0., 0., 0., 0., 0., 0., 0.,\n",
              "        0., 0., 0., 0., 0., 0., 0., 0., 0., 0., 0., 0., 0., 0., 0., 0., 0.,\n",
              "        0., 0., 0., 0., 0., 0., 0., 0., 0., 0., 0., 0., 0.], dtype=float32)>,\n",
              " <tf.Variable 'dense_3/kernel:0' shape=(64, 10) dtype=float32, numpy=\n",
              " array([[-0.03376117, -0.1432811 ,  0.21921232, -0.18395731, -0.1341562 ,\n",
              "          0.1033535 ,  0.08843109,  0.22024056,  0.15488565,  0.22954044],\n",
              "        [ 0.01700324, -0.10620362,  0.01647437,  0.20040005, -0.11766967,\n",
              "         -0.18565202,  0.03502145, -0.0971331 ,  0.0319095 , -0.15776849],\n",
              "        [-0.12749472, -0.20340054, -0.17851791, -0.13593815, -0.12804802,\n",
              "          0.10099062,  0.07306066, -0.1529409 , -0.08642916, -0.20727924],\n",
              "        [-0.260259  , -0.19893324, -0.16698918,  0.1391542 ,  0.11669818,\n",
              "         -0.1304982 , -0.13566042, -0.21926934, -0.0060969 , -0.0999818 ],\n",
              "        [-0.06624269, -0.22668405, -0.2623728 , -0.23847216,  0.2527888 ,\n",
              "          0.0530633 ,  0.19553953,  0.28207454,  0.12546897,  0.21048999],\n",
              "        [-0.27448332,  0.13661203, -0.04053269, -0.14912274,  0.27891478,\n",
              "         -0.0158889 ,  0.04808936, -0.13651663, -0.12100486,  0.12700802],\n",
              "        [ 0.0280481 , -0.15883985,  0.28415117,  0.02403009, -0.2289886 ,\n",
              "          0.2370173 ,  0.01071575, -0.02191046,  0.14369658, -0.08615768],\n",
              "        [ 0.07239106, -0.1972548 , -0.18448928, -0.2526661 , -0.04122469,\n",
              "          0.08956429, -0.11751585, -0.14491586, -0.0327298 ,  0.25858912],\n",
              "        [ 0.11425328,  0.07327056,  0.06431538, -0.0406519 , -0.1434278 ,\n",
              "          0.21243441,  0.1090464 , -0.25184137,  0.169844  ,  0.02343681],\n",
              "        [-0.2023966 , -0.23290145,  0.11250836, -0.00769517, -0.10608937,\n",
              "          0.11755258,  0.27447644,  0.00945002,  0.05083093,  0.05698025],\n",
              "        [ 0.07659888, -0.0775841 , -0.0805015 ,  0.26395085, -0.14912914,\n",
              "          0.2778543 , -0.1943163 , -0.27995104,  0.06134728,  0.12080961],\n",
              "        [ 0.14921549, -0.02572873, -0.04278375, -0.20591441,  0.18037677,\n",
              "         -0.16097184, -0.16514409,  0.24024442, -0.01697063,  0.07730705],\n",
              "        [-0.09773189, -0.19060372,  0.04869568, -0.02557233, -0.09297048,\n",
              "          0.22040603, -0.18559596, -0.04196481,  0.10558197,  0.15787584],\n",
              "        [-0.0451408 , -0.04221287,  0.17454734, -0.1641039 ,  0.05946085,\n",
              "         -0.06599157, -0.21889004, -0.16609949,  0.28282544, -0.0662879 ],\n",
              "        [-0.16671824, -0.09402561,  0.11138532, -0.03492296, -0.17987013,\n",
              "         -0.17733297,  0.16801703,  0.11568081,  0.01754993,  0.15474126],\n",
              "        [-0.00879204, -0.23724507,  0.09654748,  0.14153337,  0.28166494,\n",
              "          0.2722467 , -0.16002716,  0.14549741, -0.22445674,  0.17459536],\n",
              "        [ 0.12759995, -0.2543752 ,  0.18735889,  0.0974547 , -0.22999316,\n",
              "         -0.11187243, -0.26724124, -0.06637025,  0.10194832, -0.11561774],\n",
              "        [ 0.08117387, -0.06591554, -0.02632093, -0.22566693,  0.04960275,\n",
              "         -0.08334951, -0.23747121,  0.11958802, -0.02285683,  0.19990581],\n",
              "        [ 0.19374502, -0.00566888,  0.04163352,  0.08853006,  0.24438247,\n",
              "         -0.17627804, -0.03273109,  0.21526381,  0.0282914 ,  0.22879335],\n",
              "        [-0.01834533,  0.02615345, -0.16534409, -0.2807162 ,  0.05314371,\n",
              "          0.08960509, -0.07238027, -0.18454814,  0.18792665, -0.25178373],\n",
              "        [-0.18002905, -0.22472817,  0.27926657, -0.01537865,  0.02706608,\n",
              "         -0.04025848,  0.04599282,  0.12556016, -0.0025745 ,  0.26801464],\n",
              "        [-0.26641306,  0.19883132,  0.20708331,  0.26249376, -0.02891687,\n",
              "          0.18657634, -0.27749425, -0.00216526, -0.1306208 , -0.0535084 ],\n",
              "        [-0.17682856, -0.24317165,  0.0534122 ,  0.2190248 ,  0.13120344,\n",
              "         -0.074065  ,  0.23900464,  0.21037608,  0.2742823 , -0.04907097],\n",
              "        [-0.03549838, -0.18917295, -0.16433057, -0.19016895, -0.0709599 ,\n",
              "          0.07185018,  0.07444158, -0.1173728 ,  0.08540037,  0.2515773 ],\n",
              "        [-0.00668877, -0.28383538, -0.28312823,  0.15311667,  0.2720696 ,\n",
              "          0.01937073, -0.12177038, -0.10916141,  0.20961869,  0.0340125 ],\n",
              "        [-0.13225986, -0.19954987, -0.01594165, -0.2479983 , -0.13143602,\n",
              "         -0.19749773,  0.04253075,  0.20289055, -0.05597834,  0.25836346],\n",
              "        [ 0.01052946,  0.01487884, -0.23727854,  0.25599584, -0.00974309,\n",
              "         -0.18825293, -0.10183917, -0.27064264, -0.13951203,  0.00207931],\n",
              "        [ 0.14852113,  0.11691305, -0.17713256,  0.23032078,  0.02596405,\n",
              "          0.2772465 ,  0.07148665,  0.02726024, -0.28439158, -0.09138989],\n",
              "        [-0.04034247,  0.13253665, -0.26031193,  0.14473122,  0.20899189,\n",
              "          0.07914618, -0.24017367, -0.20864654,  0.170697  ,  0.11019149],\n",
              "        [-0.1866136 , -0.2287941 , -0.11760546,  0.09860954, -0.1844745 ,\n",
              "         -0.21570279, -0.25048235,  0.10694233, -0.06644242, -0.2579135 ],\n",
              "        [-0.13482471, -0.11698569, -0.23496956,  0.06127653, -0.02111065,\n",
              "          0.23651734, -0.09777296,  0.05126956, -0.06507629, -0.02885041],\n",
              "        [-0.27033177,  0.18817267,  0.12966833,  0.09921139, -0.04469246,\n",
              "         -0.2807145 , -0.06955431,  0.12607074, -0.19612452,  0.12055138],\n",
              "        [ 0.08673176,  0.03744829, -0.14869545,  0.26073375, -0.17790425,\n",
              "          0.17228216,  0.03828454, -0.07978575,  0.19540375, -0.16601104],\n",
              "        [ 0.1373634 ,  0.21030751, -0.00944921,  0.1940833 , -0.16774213,\n",
              "          0.10480165,  0.09688163, -0.03200102, -0.0977549 , -0.11303821],\n",
              "        [-0.20285702,  0.1778048 , -0.25853387,  0.05485532, -0.11415181,\n",
              "         -0.1242653 ,  0.28211573,  0.08718702, -0.10975353, -0.26691714],\n",
              "        [ 0.06414688, -0.04256645,  0.11197045, -0.17212099,  0.11283699,\n",
              "         -0.16371   ,  0.24599186,  0.2825822 , -0.11195892,  0.02227059],\n",
              "        [-0.23761913, -0.06608145, -0.13904054, -0.0578649 ,  0.01931593,\n",
              "         -0.24098529, -0.19511169, -0.19877933, -0.2592321 ,  0.26082227],\n",
              "        [-0.09678   , -0.24745409, -0.17010537, -0.14465599,  0.11009264,\n",
              "         -0.0022476 ,  0.12731582, -0.06423242, -0.02389377, -0.15772708],\n",
              "        [-0.08958749, -0.05806009,  0.23671332,  0.18737009, -0.2594008 ,\n",
              "         -0.17398754, -0.24311353, -0.06217776, -0.03370652,  0.02817872],\n",
              "        [-0.06957346, -0.10181792,  0.07052657, -0.2770686 ,  0.13438174,\n",
              "          0.04852644,  0.16799042, -0.07810977, -0.06735356, -0.16098323],\n",
              "        [ 0.14456746, -0.04087709, -0.08700989, -0.17413451, -0.05536096,\n",
              "         -0.03360876, -0.1628654 ,  0.059484  ,  0.03215089,  0.07204571],\n",
              "        [ 0.13300887,  0.14905283,  0.00387245, -0.21719486,  0.1358509 ,\n",
              "          0.24132916, -0.27064636, -0.13254146, -0.09362717, -0.20030114],\n",
              "        [ 0.21033263, -0.09341577, -0.10529819, -0.04945019, -0.21925107,\n",
              "          0.0935396 ,  0.01478204, -0.08988506,  0.16666767, -0.01164237],\n",
              "        [-0.12301785, -0.07641988, -0.26478598,  0.05426762, -0.1428105 ,\n",
              "         -0.13725486,  0.22831199,  0.2726247 , -0.03912868,  0.20587945],\n",
              "        [-0.09823249,  0.20317942,  0.0397265 , -0.27272785,  0.04430833,\n",
              "         -0.13125028, -0.2076115 , -0.202197  ,  0.24468169, -0.25112444],\n",
              "        [-0.11712357, -0.22453128,  0.25516692,  0.18049741,  0.22333261,\n",
              "          0.12983865,  0.03735113,  0.23586372, -0.11185709, -0.18660328],\n",
              "        [-0.17209458,  0.03756526,  0.11704239, -0.25631464,  0.10075587,\n",
              "         -0.01900119,  0.14694032,  0.11054954,  0.23361823, -0.17843005],\n",
              "        [-0.26311806,  0.03375602, -0.03753886,  0.06937468,  0.24264416,\n",
              "         -0.26276776,  0.23769507,  0.03780565, -0.00600764,  0.08157441],\n",
              "        [ 0.18968287, -0.03396931,  0.2838818 , -0.22450113, -0.21103832,\n",
              "          0.04345322,  0.1153768 ,  0.01488984,  0.20179307, -0.1938417 ],\n",
              "        [-0.08668138,  0.19355899, -0.2405402 , -0.1389379 , -0.25307354,\n",
              "          0.04837722,  0.2781683 , -0.08990583,  0.1950523 ,  0.04273808],\n",
              "        [-0.0056701 , -0.2186979 ,  0.03998518,  0.11182782,  0.11293292,\n",
              "          0.167683  , -0.02360821, -0.25924677, -0.15032351,  0.14553821],\n",
              "        [ 0.1106075 ,  0.00350416, -0.03792229, -0.12548351, -0.24690759,\n",
              "         -0.17613384,  0.00583214,  0.02462628, -0.19521692,  0.14035419],\n",
              "        [ 0.01075757, -0.01525265,  0.04049584,  0.09549221, -0.15403819,\n",
              "         -0.13715024,  0.02314779, -0.22779356, -0.10250238,  0.18934417],\n",
              "        [-0.18042919,  0.05793008,  0.08882788,  0.2763643 ,  0.2226735 ,\n",
              "          0.04082868,  0.00160056, -0.03027642, -0.09274048, -0.18283457],\n",
              "        [-0.19973162, -0.01267156,  0.05975509,  0.1201843 , -0.10881709,\n",
              "         -0.10227868,  0.14434215, -0.12942956, -0.10724966,  0.01183912],\n",
              "        [-0.11182213, -0.00976762,  0.2188066 ,  0.03153813,  0.27809313,\n",
              "          0.1466803 , -0.08458965, -0.10966107, -0.07187477,  0.16810414],\n",
              "        [-0.09277049,  0.12896457, -0.25618502, -0.24690996,  0.04402837,\n",
              "          0.11487564,  0.00432515, -0.07983455, -0.24093899,  0.17080659],\n",
              "        [ 0.22351763,  0.01755998,  0.10510218, -0.18895876,  0.12017342,\n",
              "         -0.13390297,  0.26489118,  0.04731706,  0.14698058, -0.23863333],\n",
              "        [-0.20111668,  0.23343202,  0.07226586,  0.09752157, -0.21260372,\n",
              "          0.08565387,  0.03878313,  0.03645357, -0.08500817, -0.01489711],\n",
              "        [ 0.2522032 , -0.0311892 , -0.14110675, -0.04681203,  0.01253471,\n",
              "          0.01736495,  0.23908976, -0.20918345,  0.07330185, -0.1360188 ],\n",
              "        [-0.09267734, -0.12504943, -0.08912137, -0.26888096,  0.00820568,\n",
              "         -0.20470047,  0.16649374,  0.24865195, -0.2671803 ,  0.02721131],\n",
              "        [ 0.08647025, -0.26862788,  0.01471922,  0.19266754, -0.02162275,\n",
              "          0.00702694, -0.10372886, -0.0937119 ,  0.10018185,  0.2555448 ],\n",
              "        [-0.01311344, -0.08737344,  0.1300242 ,  0.27416977,  0.21775088,\n",
              "         -0.13185884,  0.11973324,  0.00487784,  0.09278521, -0.19986501],\n",
              "        [ 0.1930471 , -0.19078457,  0.12268239, -0.26008567, -0.09114495,\n",
              "          0.04518697,  0.23270354, -0.0885617 ,  0.21525767, -0.09797676]],\n",
              "       dtype=float32)>,\n",
              " <tf.Variable 'dense_3/bias:0' shape=(10,) dtype=float32, numpy=array([0., 0., 0., 0., 0., 0., 0., 0., 0., 0.], dtype=float32)>]"
            ]
          },
          "metadata": {},
          "execution_count": 5
        }
      ],
      "source": [
        "model.build(input_shape=(None, 3))\n",
        "model.weights"
      ]
    },
    {
      "cell_type": "markdown",
      "metadata": {
        "id": "CM2tog451lML"
      },
      "source": [
        "**The summary method**"
      ]
    },
    {
      "cell_type": "code",
      "execution_count": 6,
      "metadata": {
        "id": "urcFJODy1lML",
        "outputId": "4e8a81b5-9cf2-4e45-86eb-10fe069e0431",
        "colab": {
          "base_uri": "https://localhost:8080/"
        }
      },
      "outputs": [
        {
          "output_type": "stream",
          "name": "stdout",
          "text": [
            "Model: \"sequential_1\"\n",
            "_________________________________________________________________\n",
            " Layer (type)                Output Shape              Param #   \n",
            "=================================================================\n",
            " dense_2 (Dense)             (None, 64)                256       \n",
            "                                                                 \n",
            " dense_3 (Dense)             (None, 10)                650       \n",
            "                                                                 \n",
            "=================================================================\n",
            "Total params: 906\n",
            "Trainable params: 906\n",
            "Non-trainable params: 0\n",
            "_________________________________________________________________\n"
          ]
        }
      ],
      "source": [
        "model.summary()"
      ]
    },
    {
      "cell_type": "markdown",
      "metadata": {
        "id": "KMUag19Y1lML"
      },
      "source": [
        "**Naming models and layers with the `name` argument**"
      ]
    },
    {
      "cell_type": "markdown",
      "source": [
        "**sequential 모델 만드는 방법 2 (모델에 이름 붙이기)**"
      ],
      "metadata": {
        "id": "IyX3PqL6kauD"
      }
    },
    {
      "cell_type": "code",
      "execution_count": 7,
      "metadata": {
        "id": "Zs0iJpi01lML",
        "outputId": "ddf18cce-7ca7-4a01-9a12-944c6bd09d3b",
        "colab": {
          "base_uri": "https://localhost:8080/"
        }
      },
      "outputs": [
        {
          "output_type": "stream",
          "name": "stdout",
          "text": [
            "Model: \"my_example_model\"\n",
            "_________________________________________________________________\n",
            " Layer (type)                Output Shape              Param #   \n",
            "=================================================================\n",
            " my_first_layer (Dense)      (None, 64)                256       \n",
            "                                                                 \n",
            " my_last_layer (Dense)       (None, 10)                650       \n",
            "                                                                 \n",
            "=================================================================\n",
            "Total params: 906\n",
            "Trainable params: 906\n",
            "Non-trainable params: 0\n",
            "_________________________________________________________________\n"
          ]
        }
      ],
      "source": [
        "model = keras.Sequential(name=\"my_example_model\")\n",
        "model.add(layers.Dense(64, activation=\"relu\", name=\"my_first_layer\"))\n",
        "model.add(layers.Dense(10, activation=\"softmax\", name=\"my_last_layer\"))\n",
        "model.build((None, 3))\n",
        "model.summary()"
      ]
    },
    {
      "cell_type": "markdown",
      "metadata": {
        "id": "-4pyCwfJ1lMM"
      },
      "source": [
        "**Specifying the input shape of your model in advance**"
      ]
    },
    {
      "cell_type": "markdown",
      "source": [
        "**sequential 모델 만드는 방법 3 (input shape 포함)**"
      ],
      "metadata": {
        "id": "gm9RpSVRkiZR"
      }
    },
    {
      "cell_type": "code",
      "execution_count": 8,
      "metadata": {
        "id": "n0zGkY9l1lMM"
      },
      "outputs": [],
      "source": [
        "model = keras.Sequential()\n",
        "model.add(keras.Input(shape=(3,)))\n",
        "model.add(layers.Dense(64, activation=\"relu\"))"
      ]
    },
    {
      "cell_type": "code",
      "execution_count": 9,
      "metadata": {
        "id": "rAXnthbd1lMM",
        "outputId": "a0f5eadb-2bc4-4da4-afa6-1de31109fdbf",
        "colab": {
          "base_uri": "https://localhost:8080/"
        }
      },
      "outputs": [
        {
          "output_type": "stream",
          "name": "stdout",
          "text": [
            "Model: \"sequential_2\"\n",
            "_________________________________________________________________\n",
            " Layer (type)                Output Shape              Param #   \n",
            "=================================================================\n",
            " dense_4 (Dense)             (None, 64)                256       \n",
            "                                                                 \n",
            "=================================================================\n",
            "Total params: 256\n",
            "Trainable params: 256\n",
            "Non-trainable params: 0\n",
            "_________________________________________________________________\n"
          ]
        }
      ],
      "source": [
        "model.summary()"
      ]
    },
    {
      "cell_type": "code",
      "execution_count": 10,
      "metadata": {
        "id": "947qD4pW1lMM",
        "outputId": "1d4c6b49-f172-416f-db7a-f51aada9abe2",
        "colab": {
          "base_uri": "https://localhost:8080/"
        }
      },
      "outputs": [
        {
          "output_type": "stream",
          "name": "stdout",
          "text": [
            "Model: \"sequential_2\"\n",
            "_________________________________________________________________\n",
            " Layer (type)                Output Shape              Param #   \n",
            "=================================================================\n",
            " dense_4 (Dense)             (None, 64)                256       \n",
            "                                                                 \n",
            " dense_5 (Dense)             (None, 10)                650       \n",
            "                                                                 \n",
            "=================================================================\n",
            "Total params: 906\n",
            "Trainable params: 906\n",
            "Non-trainable params: 0\n",
            "_________________________________________________________________\n"
          ]
        }
      ],
      "source": [
        "model.add(layers.Dense(10, activation=\"softmax\"))\n",
        "model.summary()"
      ]
    },
    {
      "cell_type": "markdown",
      "metadata": {
        "id": "K3A1civ21lMM"
      },
      "source": [
        "### The Functional API"
      ]
    },
    {
      "cell_type": "markdown",
      "metadata": {
        "id": "wJ-lw5SS1lMM"
      },
      "source": [
        "#### A simple example"
      ]
    },
    {
      "cell_type": "markdown",
      "metadata": {
        "id": "QuW-rXRJ1lMM"
      },
      "source": [
        "**A simple Functional model with two `Dense` layers**"
      ]
    },
    {
      "cell_type": "code",
      "execution_count": 11,
      "metadata": {
        "id": "8P4nop0W1lMN"
      },
      "outputs": [],
      "source": [
        "inputs = keras.Input(shape=(3,), name=\"my_input\") #3차원원\n",
        "features = layers.Dense(64, activation=\"relu\")(inputs)\n",
        "outputs = layers.Dense(10, activation=\"softmax\")(features)\n",
        "model = keras.Model(inputs=inputs, outputs=outputs)"
      ]
    },
    {
      "cell_type": "code",
      "source": [
        "model.summary()"
      ],
      "metadata": {
        "id": "wRL4JWt77xfv",
        "outputId": "c37fb635-c92e-4ee9-9f25-6dfadb8374a2",
        "colab": {
          "base_uri": "https://localhost:8080/"
        }
      },
      "execution_count": 12,
      "outputs": [
        {
          "output_type": "stream",
          "name": "stdout",
          "text": [
            "Model: \"model\"\n",
            "_________________________________________________________________\n",
            " Layer (type)                Output Shape              Param #   \n",
            "=================================================================\n",
            " my_input (InputLayer)       [(None, 3)]               0         \n",
            "                                                                 \n",
            " dense_6 (Dense)             (None, 64)                256       \n",
            "                                                                 \n",
            " dense_7 (Dense)             (None, 10)                650       \n",
            "                                                                 \n",
            "=================================================================\n",
            "Total params: 906\n",
            "Trainable params: 906\n",
            "Non-trainable params: 0\n",
            "_________________________________________________________________\n"
          ]
        }
      ]
    },
    {
      "cell_type": "code",
      "execution_count": 13,
      "metadata": {
        "id": "YlAAJmcE1lMN"
      },
      "outputs": [],
      "source": [
        "inputs = keras.Input(shape=(3,), name=\"my_input\")"
      ]
    },
    {
      "cell_type": "code",
      "execution_count": 14,
      "metadata": {
        "id": "5oe1aqnZ1lMN",
        "outputId": "fadd7743-4747-48b4-cd85-fd61e0dd4b26",
        "colab": {
          "base_uri": "https://localhost:8080/"
        }
      },
      "outputs": [
        {
          "output_type": "execute_result",
          "data": {
            "text/plain": [
              "TensorShape([None, 3])"
            ]
          },
          "metadata": {},
          "execution_count": 14
        }
      ],
      "source": [
        "inputs.shape"
      ]
    },
    {
      "cell_type": "code",
      "execution_count": 15,
      "metadata": {
        "id": "3c6R_ERR1lMN",
        "outputId": "37b95ac7-99c5-40b6-9af2-9c5542f28551",
        "colab": {
          "base_uri": "https://localhost:8080/"
        }
      },
      "outputs": [
        {
          "output_type": "execute_result",
          "data": {
            "text/plain": [
              "tf.float32"
            ]
          },
          "metadata": {},
          "execution_count": 15
        }
      ],
      "source": [
        "inputs.dtype"
      ]
    },
    {
      "cell_type": "code",
      "execution_count": 16,
      "metadata": {
        "id": "Gw9wxDQS1lMN"
      },
      "outputs": [],
      "source": [
        "features = layers.Dense(64, activation=\"relu\")(inputs)"
      ]
    },
    {
      "cell_type": "code",
      "execution_count": 17,
      "metadata": {
        "id": "YPi3E_on1lMN",
        "outputId": "5bbfe57d-2426-4070-e58f-7895e8c4f840",
        "colab": {
          "base_uri": "https://localhost:8080/"
        }
      },
      "outputs": [
        {
          "output_type": "execute_result",
          "data": {
            "text/plain": [
              "TensorShape([None, 64])"
            ]
          },
          "metadata": {},
          "execution_count": 17
        }
      ],
      "source": [
        "features.shape"
      ]
    },
    {
      "cell_type": "code",
      "execution_count": 18,
      "metadata": {
        "id": "J3Z1Cn681lMN"
      },
      "outputs": [],
      "source": [
        "outputs = layers.Dense(10, activation=\"softmax\")(features)\n",
        "model = keras.Model(inputs=inputs, outputs=outputs)"
      ]
    },
    {
      "cell_type": "code",
      "execution_count": 19,
      "metadata": {
        "id": "gdujMVED1lMO",
        "outputId": "686babdb-ee52-4cf1-ea64-314162667442",
        "colab": {
          "base_uri": "https://localhost:8080/"
        }
      },
      "outputs": [
        {
          "output_type": "stream",
          "name": "stdout",
          "text": [
            "Model: \"model_1\"\n",
            "_________________________________________________________________\n",
            " Layer (type)                Output Shape              Param #   \n",
            "=================================================================\n",
            " my_input (InputLayer)       [(None, 3)]               0         \n",
            "                                                                 \n",
            " dense_8 (Dense)             (None, 64)                256       \n",
            "                                                                 \n",
            " dense_9 (Dense)             (None, 10)                650       \n",
            "                                                                 \n",
            "=================================================================\n",
            "Total params: 906\n",
            "Trainable params: 906\n",
            "Non-trainable params: 0\n",
            "_________________________________________________________________\n"
          ]
        }
      ],
      "source": [
        "model.summary()"
      ]
    },
    {
      "cell_type": "markdown",
      "metadata": {
        "id": "84cpFOJe1lMO"
      },
      "source": [
        "#### Multi-input, multi-output models"
      ]
    },
    {
      "cell_type": "markdown",
      "metadata": {
        "id": "cGNG0Zgl1lMO"
      },
      "source": [
        "**A multi-input, multi-output Functional model**"
      ]
    },
    {
      "cell_type": "code",
      "execution_count": 20,
      "metadata": {
        "id": "HIiJGxh01lMO"
      },
      "outputs": [],
      "source": [
        "vocabulary_size = 10000\n",
        "num_tags = 100\n",
        "num_departments = 4 #category\n",
        "\n",
        "title = keras.Input(shape=(vocabulary_size,), name=\"title\")\n",
        "text_body = keras.Input(shape=(vocabulary_size,), name=\"text_body\")\n",
        "tags = keras.Input(shape=(num_tags,), name=\"tags\")\n",
        "\n",
        "features = layers.Concatenate()([title, text_body, tags])\n",
        "features = layers.Dense(64, activation=\"relu\")(features)\n",
        "\n",
        "priority = layers.Dense(1, activation=\"sigmoid\", name=\"priority\")(features)\n",
        "department = layers.Dense(\n",
        "    num_departments, activation=\"softmax\", name=\"department\")(features)\n",
        "\n",
        "model = keras.Model(inputs=[title, text_body, tags], outputs=[priority, department])"
      ]
    },
    {
      "cell_type": "code",
      "source": [
        "model.summary()"
      ],
      "metadata": {
        "id": "Ddi42Ui176oX",
        "outputId": "61e17433-b275-42b9-b06d-3064d1f661fd",
        "colab": {
          "base_uri": "https://localhost:8080/"
        }
      },
      "execution_count": 21,
      "outputs": [
        {
          "output_type": "stream",
          "name": "stdout",
          "text": [
            "Model: \"model_2\"\n",
            "__________________________________________________________________________________________________\n",
            " Layer (type)                   Output Shape         Param #     Connected to                     \n",
            "==================================================================================================\n",
            " title (InputLayer)             [(None, 10000)]      0           []                               \n",
            "                                                                                                  \n",
            " text_body (InputLayer)         [(None, 10000)]      0           []                               \n",
            "                                                                                                  \n",
            " tags (InputLayer)              [(None, 100)]        0           []                               \n",
            "                                                                                                  \n",
            " concatenate (Concatenate)      (None, 20100)        0           ['title[0][0]',                  \n",
            "                                                                  'text_body[0][0]',              \n",
            "                                                                  'tags[0][0]']                   \n",
            "                                                                                                  \n",
            " dense_10 (Dense)               (None, 64)           1286464     ['concatenate[0][0]']            \n",
            "                                                                                                  \n",
            " priority (Dense)               (None, 1)            65          ['dense_10[0][0]']               \n",
            "                                                                                                  \n",
            " department (Dense)             (None, 4)            260         ['dense_10[0][0]']               \n",
            "                                                                                                  \n",
            "==================================================================================================\n",
            "Total params: 1,286,789\n",
            "Trainable params: 1,286,789\n",
            "Non-trainable params: 0\n",
            "__________________________________________________________________________________________________\n"
          ]
        }
      ]
    },
    {
      "cell_type": "markdown",
      "metadata": {
        "id": "M-tMJ9-E1lMO"
      },
      "source": [
        "#### Training a multi-input, multi-output model"
      ]
    },
    {
      "cell_type": "markdown",
      "metadata": {
        "id": "8ggF6gy61lMO"
      },
      "source": [
        "**Training a model by providing lists of input & target arrays**"
      ]
    },
    {
      "cell_type": "code",
      "execution_count": 22,
      "metadata": {
        "id": "J4FfXsXD1lMO",
        "outputId": "7885a9b8-e782-4025-921e-823765dcf7fd",
        "colab": {
          "base_uri": "https://localhost:8080/"
        }
      },
      "outputs": [
        {
          "output_type": "stream",
          "name": "stdout",
          "text": [
            "40/40 [==============================] - 6s 5ms/step - loss: 51.2420 - priority_loss: 0.3310 - department_loss: 50.9110 - priority_mean_absolute_error: 0.4958 - department_accuracy: 0.2219\n",
            "40/40 [==============================] - 0s 5ms/step - loss: 45.7326 - priority_loss: 0.3397 - department_loss: 45.3930 - priority_mean_absolute_error: 0.5056 - department_accuracy: 0.2516\n",
            "40/40 [==============================] - 0s 3ms/step\n"
          ]
        }
      ],
      "source": [
        "import numpy as np\n",
        "\n",
        "num_samples = 1280\n",
        "\n",
        "# dummy input data\n",
        "title_data = np.random.randint(0, 2, size=(num_samples, vocabulary_size))\n",
        "text_body_data = np.random.randint(0, 2, size=(num_samples, vocabulary_size))\n",
        "tags_data = np.random.randint(0, 2, size=(num_samples, num_tags))\n",
        "\n",
        "# dummy target data\n",
        "priority_data = np.random.random(size=(num_samples, 1))\n",
        "department_data = np.random.randint(0, 2, size=(num_samples, num_departments))\n",
        "\n",
        "model.compile(optimizer=\"rmsprop\",\n",
        "              loss=[\"mean_squared_error\", \"categorical_crossentropy\"],\n",
        "              metrics=[[\"mean_absolute_error\"], [\"accuracy\"]])\n",
        "model.fit([title_data, text_body_data, tags_data],\n",
        "          [priority_data, department_data],\n",
        "          epochs=1)\n",
        "model.evaluate([title_data, text_body_data, tags_data],\n",
        "               [priority_data, department_data])\n",
        "priority_preds, department_preds = model.predict([title_data, text_body_data, tags_data])"
      ]
    },
    {
      "cell_type": "markdown",
      "metadata": {
        "id": "gS-Ej5qm1lMO"
      },
      "source": [
        "**Training a model by providing dicts of input & target arrays**"
      ]
    },
    {
      "cell_type": "code",
      "source": [
        "input_data = {\"title\": title_data, \"text_body\": text_body_data, \"tags\": tags_data}"
      ],
      "metadata": {
        "id": "h4Nm6x89A0W3"
      },
      "execution_count": 23,
      "outputs": []
    },
    {
      "cell_type": "code",
      "execution_count": 24,
      "metadata": {
        "id": "x_7ZpIRv1lMO",
        "outputId": "1ea8a9ac-95d0-4c68-e290-1e00c24d9c6a",
        "colab": {
          "base_uri": "https://localhost:8080/"
        }
      },
      "outputs": [
        {
          "output_type": "stream",
          "name": "stdout",
          "text": [
            "40/40 [==============================] - 2s 8ms/step - loss: 48.1796 - priority_loss: 0.3397 - department_loss: 47.8399 - priority_mean_absolute_error: 0.5056 - department_accuracy: 0.2758\n",
            "40/40 [==============================] - 0s 5ms/step - loss: 68.3006 - priority_loss: 0.3397 - department_loss: 67.9609 - priority_mean_absolute_error: 0.5056 - department_accuracy: 0.2516\n",
            "40/40 [==============================] - 0s 3ms/step\n"
          ]
        }
      ],
      "source": [
        "model.compile(optimizer=\"rmsprop\",\n",
        "              loss={\"priority\": \"mean_squared_error\", \"department\": \"categorical_crossentropy\"},\n",
        "              metrics={\"priority\": [\"mean_absolute_error\"], \"department\": [\"accuracy\"]})\n",
        "model.fit({\"title\": title_data, \"text_body\": text_body_data, \"tags\": tags_data},\n",
        "          {\"priority\": priority_data, \"department\": department_data},\n",
        "          epochs=1)\n",
        "model.evaluate({\"title\": title_data, \"text_body\": text_body_data, \"tags\": tags_data},\n",
        "               {\"priority\": priority_data, \"department\": department_data})\n",
        "priority_preds, department_preds = model.predict(\n",
        "    {\"title\": title_data, \"text_body\": text_body_data, \"tags\": tags_data})"
      ]
    },
    {
      "cell_type": "markdown",
      "metadata": {
        "id": "gSdWTdIR1lMP"
      },
      "source": [
        "#### The power of the Functional API: Access to layer connectivity"
      ]
    },
    {
      "cell_type": "code",
      "execution_count": 25,
      "metadata": {
        "id": "hI-JDW121lMP",
        "outputId": "1647be18-e8be-4f56-92aa-dbe9ce59f49a",
        "colab": {
          "base_uri": "https://localhost:8080/",
          "height": 369
        }
      },
      "outputs": [
        {
          "output_type": "execute_result",
          "data": {
            "image/png": "[encoded data removed]",
            "text/plain": [
              "<IPython.core.display.Image object>"
            ]
          },
          "metadata": {},
          "execution_count": 25
        }
      ],
      "source": [
        "keras.utils.plot_model(model, \"ticket_classifier.png\")"
      ]
    },
    {
      "cell_type": "code",
      "execution_count": 26,
      "metadata": {
        "id": "t64LGvxz1lMP",
        "outputId": "414dfd5a-ae00-4ade-c038-94b9b55097cb",
        "colab": {
          "base_uri": "https://localhost:8080/",
          "height": 422
        }
      },
      "outputs": [
        {
          "output_type": "execute_result",
          "data": {
            "image/png": "[encoded data removed]",
            "text/plain": [
              "<IPython.core.display.Image object>"
            ]
          },
          "metadata": {},
          "execution_count": 26
        }
      ],
      "source": [
        "keras.utils.plot_model(model, \"ticket_classifier_with_shape_info.png\", show_shapes=True)"
      ]
    },
    {
      "cell_type": "markdown",
      "metadata": {
        "id": "LlJ9OI3m1lMP"
      },
      "source": [
        "**Retrieving the inputs or outputs of a layer in a Functional model**"
      ]
    },
    {
      "cell_type": "code",
      "execution_count": 27,
      "metadata": {
        "id": "SxoQmm7a1lMP",
        "outputId": "bb7169e3-4d74-419c-851d-650655d60a9b",
        "colab": {
          "base_uri": "https://localhost:8080/"
        }
      },
      "outputs": [
        {
          "output_type": "execute_result",
          "data": {
            "text/plain": [
              "[<keras.engine.input_layer.InputLayer at 0x7f130c093520>,\n",
              " <keras.engine.input_layer.InputLayer at 0x7f130c091ed0>,\n",
              " <keras.engine.input_layer.InputLayer at 0x7f130c0909d0>,\n",
              " <keras.layers.merging.concatenate.Concatenate at 0x7f130c092e60>,\n",
              " <keras.layers.core.dense.Dense at 0x7f130c0923b0>,\n",
              " <keras.layers.core.dense.Dense at 0x7f130c0920e0>,\n",
              " <keras.layers.core.dense.Dense at 0x7f130c093ca0>]"
            ]
          },
          "metadata": {},
          "execution_count": 27
        }
      ],
      "source": [
        "model.layers #모델에 활용되는 레이어"
      ]
    },
    {
      "cell_type": "code",
      "execution_count": 28,
      "metadata": {
        "id": "tkBKJNea1lMP",
        "outputId": "189a4bfa-471b-4af2-c5bb-ac81935d2af4",
        "colab": {
          "base_uri": "https://localhost:8080/"
        }
      },
      "outputs": [
        {
          "output_type": "execute_result",
          "data": {
            "text/plain": [
              "[<KerasTensor: shape=(None, 10000) dtype=float32 (created by layer 'title')>,\n",
              " <KerasTensor: shape=(None, 10000) dtype=float32 (created by layer 'text_body')>,\n",
              " <KerasTensor: shape=(None, 100) dtype=float32 (created by layer 'tags')>]"
            ]
          },
          "metadata": {},
          "execution_count": 28
        }
      ],
      "source": [
        "model.layers[3].input"
      ]
    },
    {
      "cell_type": "code",
      "execution_count": 29,
      "metadata": {
        "id": "AjKbyeFl1lMP",
        "outputId": "9f9f9dd0-ef4d-4552-9da6-acd410ac8ce4",
        "colab": {
          "base_uri": "https://localhost:8080/"
        }
      },
      "outputs": [
        {
          "output_type": "execute_result",
          "data": {
            "text/plain": [
              "<KerasTensor: shape=(None, 20100) dtype=float32 (created by layer 'concatenate')>"
            ]
          },
          "metadata": {},
          "execution_count": 29
        }
      ],
      "source": [
        "model.layers[3].output"
      ]
    },
    {
      "cell_type": "markdown",
      "metadata": {
        "id": "iwFY9kIa1lMP"
      },
      "source": [
        "**Creating a new model by reusing intermediate layer outputs**"
      ]
    },
    {
      "cell_type": "code",
      "source": [
        "features"
      ],
      "metadata": {
        "id": "O-V-DjRcBUQF",
        "outputId": "7c3d22e2-e2a9-4fb0-c9d7-aaa77b91dd5e",
        "colab": {
          "base_uri": "https://localhost:8080/"
        }
      },
      "execution_count": 30,
      "outputs": [
        {
          "output_type": "execute_result",
          "data": {
            "text/plain": [
              "<KerasTensor: shape=(None, 64) dtype=float32 (created by layer 'dense_10')>"
            ]
          },
          "metadata": {},
          "execution_count": 30
        }
      ]
    },
    {
      "cell_type": "code",
      "source": [
        "model.layers[4].output"
      ],
      "metadata": {
        "id": "w5Mg0qY-BZVV",
        "outputId": "063d23bd-1c90-4256-af33-8f5b339d74ed",
        "colab": {
          "base_uri": "https://localhost:8080/"
        }
      },
      "execution_count": 31,
      "outputs": [
        {
          "output_type": "execute_result",
          "data": {
            "text/plain": [
              "<KerasTensor: shape=(None, 64) dtype=float32 (created by layer 'dense_10')>"
            ]
          },
          "metadata": {},
          "execution_count": 31
        }
      ]
    },
    {
      "cell_type": "code",
      "execution_count": 32,
      "metadata": {
        "id": "018hL2za1lMP"
      },
      "outputs": [],
      "source": [
        "features = model.layers[4].output\n",
        "difficulty = layers.Dense(3, activation=\"softmax\", name=\"difficulty\")(features)\n",
        "\n",
        "new_model = keras.Model(\n",
        "    inputs=[title, text_body, tags],\n",
        "    outputs=[priority, department, difficulty])"
      ]
    },
    {
      "cell_type": "code",
      "execution_count": 33,
      "metadata": {
        "id": "an89V7lV1lMQ",
        "outputId": "6f87e674-12d7-4ed3-95d5-49b734343094",
        "colab": {
          "base_uri": "https://localhost:8080/",
          "height": 422
        }
      },
      "outputs": [
        {
          "output_type": "execute_result",
          "data": {
            "image/png": "[encoded data removed]",
            "text/plain": [
              "<IPython.core.display.Image object>"
            ]
          },
          "metadata": {},
          "execution_count": 33
        }
      ],
      "source": [
        "keras.utils.plot_model(new_model, \"updated_ticket_classifier.png\", show_shapes=True)"
      ]
    },
    {
      "cell_type": "markdown",
      "metadata": {
        "id": "2qHoRYVx1lMQ"
      },
      "source": [
        "### Subclassing the Model class"
      ]
    },
    {
      "cell_type": "markdown",
      "metadata": {
        "id": "_oDwz0WG1lMQ"
      },
      "source": [
        "#### Rewriting our previous example as a subclassed model"
      ]
    },
    {
      "cell_type": "markdown",
      "metadata": {
        "id": "lOB6-E1b1lMQ"
      },
      "source": [
        "**A simple subclassed model**"
      ]
    },
    {
      "cell_type": "code",
      "execution_count": 34,
      "metadata": {
        "id": "se2k-gz31lMQ"
      },
      "outputs": [],
      "source": [
        "class CustomerTicketModel(keras.Model):\n",
        "\n",
        "    def __init__(self, num_departments):\n",
        "        super().__init__()\n",
        "        self.concat_layer = layers.Concatenate()\n",
        "        self.mixing_layer = layers.Dense(64, activation=\"relu\")\n",
        "        self.priority_scorer = layers.Dense(1, activation=\"sigmoid\")\n",
        "        self.department_classifier = layers.Dense(\n",
        "            num_departments, activation=\"softmax\")\n",
        "\n",
        "    def call(self, inputs):\n",
        "        title = inputs[\"title\"]\n",
        "        text_body = inputs[\"text_body\"]\n",
        "        tags = inputs[\"tags\"]\n",
        "\n",
        "        features = self.concat_layer([title, text_body, tags])\n",
        "        features = self.mixing_layer(features)\n",
        "        priority = self.priority_scorer(features)\n",
        "        department = self.department_classifier(features)\n",
        "        return priority, department"
      ]
    },
    {
      "cell_type": "code",
      "source": [
        "model2 = CustomerTicketModel(num_departments=4)\n",
        "\n",
        "priority, department = model2(\n",
        "    {\"title\": title_data, \"text_body\": text_body_data, \"tags\": tags_data})"
      ],
      "metadata": {
        "id": "LcAGeOiWECct"
      },
      "execution_count": null,
      "outputs": []
    },
    {
      "cell_type": "code",
      "source": [
        "model2"
      ],
      "metadata": {
        "id": "zaLO-IvAEIxB",
        "outputId": "97ec9ce0-4d10-4865-a8cb-68bee08eff68",
        "colab": {
          "base_uri": "https://localhost:8080/"
        }
      },
      "execution_count": null,
      "outputs": [
        {
          "output_type": "execute_result",
          "data": {
            "text/plain": [
              "<__main__.CustomerTicketModel at 0x7f08e8761610>"
            ]
          },
          "metadata": {},
          "execution_count": 37
        }
      ]
    },
    {
      "cell_type": "code",
      "execution_count": null,
      "metadata": {
        "id": "w9dhtJXB1lMQ"
      },
      "outputs": [],
      "source": [
        "emodel = CustomerTicketModel(num_departments=4)\n",
        "\n",
        "priority, department = model(\n",
        "    {\"title\": title_data, \"text_body\": text_body_data, \"tags\": tags_data})"
      ]
    },
    {
      "cell_type": "code",
      "execution_count": null,
      "metadata": {
        "id": "9rDBUApi1lMQ",
        "outputId": "7a6691a4-9a85-4788-feac-548caf804350",
        "colab": {
          "base_uri": "https://localhost:8080/"
        }
      },
      "outputs": [
        {
          "output_type": "stream",
          "name": "stdout",
          "text": [
            "40/40 [==============================] - 1s 5ms/step - loss: 30.6131 - output_1_loss: 0.3294 - output_2_loss: 30.2838 - output_1_mean_absolute_error: 0.4972 - output_2_accuracy: 0.2523\n",
            "40/40 [==============================] - 0s 5ms/step - loss: 44.5780 - output_1_loss: 0.3337 - output_2_loss: 44.2443 - output_1_mean_absolute_error: 0.5014 - output_2_accuracy: 0.5562\n",
            "40/40 [==============================] - 0s 3ms/step\n"
          ]
        }
      ],
      "source": [
        "model.compile(optimizer=\"rmsprop\",\n",
        "              loss=[\"mean_squared_error\", \"categorical_crossentropy\"],\n",
        "              metrics=[[\"mean_absolute_error\"], [\"accuracy\"]])\n",
        "model.fit({\"title\": title_data,\n",
        "           \"text_body\": text_body_data,\n",
        "           \"tags\": tags_data},\n",
        "          [priority_data, department_data],\n",
        "          epochs=1)\n",
        "model.evaluate({\"title\": title_data,\n",
        "                \"text_body\": text_body_data,\n",
        "                \"tags\": tags_data},\n",
        "               [priority_data, department_data])\n",
        "priority_preds, department_preds = model.predict({\"title\": title_data,\n",
        "                                                  \"text_body\": text_body_data,\n",
        "                                                  \"tags\": tags_data})"
      ]
    },
    {
      "cell_type": "code",
      "source": [
        "keras.utils.plot_model(model2, \"updated_ticket_classifier.png\", show_shapes=True)\n",
        "#그림은 functinal api만 그려짐"
      ],
      "metadata": {
        "id": "hRXyLPgyEWDH",
        "outputId": "eb9e69a5-601b-409a-9962-3e06a8febf8a",
        "colab": {
          "base_uri": "https://localhost:8080/",
          "height": 194
        }
      },
      "execution_count": null,
      "outputs": [
        {
          "output_type": "error",
          "ename": "NameError",
          "evalue": "ignored",
          "traceback": [
            "\u001b[0;31m---------------------------------------------------------------------------\u001b[0m",
            "\u001b[0;31mNameError\u001b[0m                                 Traceback (most recent call last)",
            "\u001b[0;32m<ipython-input-8-a22e1db1a268>\u001b[0m in \u001b[0;36m<cell line: 1>\u001b[0;34m()\u001b[0m\n\u001b[0;32m----> 1\u001b[0;31m \u001b[0mkeras\u001b[0m\u001b[0;34m.\u001b[0m\u001b[0mutils\u001b[0m\u001b[0;34m.\u001b[0m\u001b[0mplot_model\u001b[0m\u001b[0;34m(\u001b[0m\u001b[0mmodel2\u001b[0m\u001b[0;34m,\u001b[0m \u001b[0;34m\"updated_ticket_classifier.png\"\u001b[0m\u001b[0;34m,\u001b[0m \u001b[0mshow_shapes\u001b[0m\u001b[0;34m=\u001b[0m\u001b[0;32mTrue\u001b[0m\u001b[0;34m)\u001b[0m\u001b[0;34m\u001b[0m\u001b[0;34m\u001b[0m\u001b[0m\n\u001b[0m\u001b[1;32m      2\u001b[0m \u001b[0;31m#그림은 functinal api만 그려짐\u001b[0m\u001b[0;34m\u001b[0m\u001b[0;34m\u001b[0m\u001b[0m\n",
            "\u001b[0;31mNameError\u001b[0m: name 'model2' is not defined"
          ]
        }
      ]
    },
    {
      "cell_type": "markdown",
      "metadata": {
        "id": "n2RPw_u91lMQ"
      },
      "source": [
        "#### Beware: What subclassed models don't support"
      ]
    },
    {
      "cell_type": "markdown",
      "metadata": {
        "id": "qJHlkzI91lMR"
      },
      "source": [
        "### Mixing and matching different components"
      ]
    },
    {
      "cell_type": "markdown",
      "metadata": {
        "id": "KAYY-pZw1lMR"
      },
      "source": [
        "**Creating a Functional model that includes a subclassed model**"
      ]
    },
    {
      "cell_type": "code",
      "execution_count": null,
      "metadata": {
        "id": "b69xTbyt1lMR"
      },
      "outputs": [],
      "source": [
        "class Classifier(keras.Model):\n",
        "\n",
        "    def __init__(self, num_classes=2):\n",
        "        super().__init__()\n",
        "        if num_classes == 2:\n",
        "            num_units = 1\n",
        "            activation = \"sigmoid\"\n",
        "        else:\n",
        "            num_units = num_classes\n",
        "            activation = \"softmax\"\n",
        "        self.dense = layers.Dense(num_units, activation=activation)\n",
        "\n",
        "    def call(self, inputs):\n",
        "        return self.dense(inputs)\n",
        "\n",
        "inputs = keras.Input(shape=(3,))\n",
        "features = layers.Dense(64, activation=\"relu\")(inputs)\n",
        "outputs = Classifier(num_classes=10)(features)\n",
        "model = keras.Model(inputs=inputs, outputs=outputs)"
      ]
    },
    {
      "cell_type": "markdown",
      "metadata": {
        "id": "dXOMKkag1lMR"
      },
      "source": [
        "**Creating a subclassed model that includes a Functional model**"
      ]
    },
    {
      "cell_type": "code",
      "execution_count": null,
      "metadata": {
        "id": "yp7NfDI91lMR"
      },
      "outputs": [],
      "source": [
        "inputs = keras.Input(shape=(64,))\n",
        "outputs = layers.Dense(1, activation=\"sigmoid\")(inputs)\n",
        "binary_classifier = keras.Model(inputs=inputs, outputs=outputs)\n",
        "\n",
        "class MyModel(keras.Model):\n",
        "\n",
        "    def __init__(self, num_classes=2):\n",
        "        super().__init__()\n",
        "        self.dense = layers.Dense(64, activation=\"relu\")\n",
        "        self.classifier = binary_classifier\n",
        "\n",
        "    def call(self, inputs):\n",
        "        features = self.dense(inputs)\n",
        "        return self.classifier(features)\n",
        "\n",
        "model = MyModel()"
      ]
    },
    {
      "cell_type": "markdown",
      "metadata": {
        "id": "J9bRL_-D1lMR"
      },
      "source": [
        "### Remember: Use the right tool for the job"
      ]
    },
    {
      "cell_type": "markdown",
      "metadata": {
        "id": "9s-BkiCC1lMR"
      },
      "source": [
        "## Using built-in training and evaluation loops"
      ]
    },
    {
      "cell_type": "markdown",
      "metadata": {
        "id": "x65g2zoh1lMR"
      },
      "source": [
        "**The standard workflow: `compile()`, `fit()`, `evaluate()`, `predict()`**"
      ]
    },
    {
      "cell_type": "code",
      "execution_count": 37,
      "metadata": {
        "id": "fSuOFcO_1lMS",
        "outputId": "1b7938c1-2691-4afb-d4a6-7f6cb32c3564",
        "colab": {
          "base_uri": "https://localhost:8080/"
        }
      },
      "outputs": [
        {
          "output_type": "stream",
          "name": "stdout",
          "text": [
            "Downloading data from https://storage.googleapis.com/tensorflow/tf-keras-datasets/mnist.npz\n",
            "11490434/11490434 [==============================] - 0s 0us/step\n",
            "Epoch 1/3\n",
            "1563/1563 [==============================] - 7s 4ms/step - loss: 0.2954 - accuracy: 0.9123 - val_loss: 0.1444 - val_accuracy: 0.9578\n",
            "Epoch 2/3\n",
            "1563/1563 [==============================] - 5s 3ms/step - loss: 0.1641 - accuracy: 0.9527 - val_loss: 0.1140 - val_accuracy: 0.9665\n",
            "Epoch 3/3\n",
            "1563/1563 [==============================] - 5s 3ms/step - loss: 0.1311 - accuracy: 0.9627 - val_loss: 0.1122 - val_accuracy: 0.9705\n",
            "313/313 [==============================] - 1s 2ms/step - loss: 0.0990 - accuracy: 0.9724\n",
            "313/313 [==============================] - 0s 1ms/step\n"
          ]
        }
      ],
      "source": [
        "from tensorflow.keras.datasets import mnist\n",
        "\n",
        "def get_mnist_model():\n",
        "    inputs = keras.Input(shape=(28 * 28,))\n",
        "    features = layers.Dense(512, activation=\"relu\")(inputs)\n",
        "    features = layers.Dropout(0.5)(features)\n",
        "    outputs = layers.Dense(10, activation=\"softmax\")(features)\n",
        "    model = keras.Model(inputs, outputs)\n",
        "    return model\n",
        "\n",
        "(images, labels), (test_images, test_labels) = mnist.load_data()\n",
        "images = images.reshape((60000, 28 * 28)).astype(\"float32\") / 255\n",
        "test_images = test_images.reshape((10000, 28 * 28)).astype(\"float32\") / 255\n",
        "train_images, val_images = images[10000:], images[:10000]\n",
        "train_labels, val_labels = labels[10000:], labels[:10000]\n",
        "\n",
        "model = get_mnist_model()\n",
        "model.compile(optimizer=\"rmsprop\",\n",
        "              loss=\"sparse_categorical_crossentropy\",\n",
        "              metrics=[\"accuracy\"])\n",
        "model.fit(train_images, train_labels,\n",
        "          epochs=3,\n",
        "          validation_data=(val_images, val_labels))\n",
        "test_metrics = model.evaluate(test_images, test_labels)\n",
        "predictions = model.predict(test_images)"
      ]
    },
    {
      "cell_type": "markdown",
      "metadata": {
        "id": "GikC1prE1lMS"
      },
      "source": [
        "### Writing your own metrics"
      ]
    },
    {
      "cell_type": "markdown",
      "metadata": {
        "id": "Cw3jyhsN1lMS"
      },
      "source": [
        "**Implementing a custom metric by subclassing the `Metric` class**"
      ]
    },
    {
      "cell_type": "code",
      "execution_count": 39,
      "metadata": {
        "id": "Rtn09p891lMS"
      },
      "outputs": [],
      "source": [
        "import tensorflow as tf\n",
        "\n",
        "class RootMeanSquaredError(keras.metrics.Metric):\n",
        "\n",
        "    def __init__(self, name=\"rmse\", **kwargs):\n",
        "        super().__init__(name=name, **kwargs)\n",
        "        self.mse_sum = self.add_weight(name=\"mse_sum\", initializer=\"zeros\")\n",
        "        self.total_samples = self.add_weight(\n",
        "            name=\"total_samples\", initializer=\"zeros\", dtype=\"int32\")\n",
        "\n",
        "    def update_state(self, y_true, y_pred, sample_weight=None):\n",
        "        y_true = tf.one_hot(y_true, depth=tf.shape(y_pred)[1])\n",
        "        mse = tf.reduce_sum(tf.square(y_true - y_pred))\n",
        "        self.mse_sum.assign_add(mse)\n",
        "        num_samples = tf.shape(y_pred)[0]\n",
        "        self.total_samples.assign_add(num_samples)\n",
        "\n",
        "    def result(self):\n",
        "        return tf.sqrt(self.mse_sum / tf.cast(self.total_samples, tf.float32))\n",
        "\n",
        "    def reset_state(self):\n",
        "        self.mse_sum.assign(0.)\n",
        "        self.total_samples.assign(0)"
      ]
    },
    {
      "cell_type": "code",
      "execution_count": 40,
      "metadata": {
        "id": "HIdBzJiS1lMT",
        "outputId": "56fcf399-7c27-40c9-9d71-7e00d2d8c153",
        "colab": {
          "base_uri": "https://localhost:8080/"
        }
      },
      "outputs": [
        {
          "output_type": "stream",
          "name": "stdout",
          "text": [
            "Epoch 1/3\n",
            "1563/1563 [==============================] - 7s 4ms/step - loss: 0.2925 - accuracy: 0.9131 - rmse: 7.1766 - val_loss: 0.1404 - val_accuracy: 0.9594 - val_rmse: 7.3468\n",
            "Epoch 2/3\n",
            "1563/1563 [==============================] - 5s 3ms/step - loss: 0.1601 - accuracy: 0.9539 - rmse: 7.3494 - val_loss: 0.1112 - val_accuracy: 0.9690 - val_rmse: 7.4027\n",
            "Epoch 3/3\n",
            "1563/1563 [==============================] - 6s 4ms/step - loss: 0.1278 - accuracy: 0.9637 - rmse: 7.3862 - val_loss: 0.1046 - val_accuracy: 0.9731 - val_rmse: 7.4234\n",
            "313/313 [==============================] - 1s 2ms/step - loss: 0.0911 - accuracy: 0.9743 - rmse: 7.4353\n"
          ]
        }
      ],
      "source": [
        "model = get_mnist_model()\n",
        "model.compile(optimizer=\"rmsprop\",\n",
        "              loss=\"sparse_categorical_crossentropy\",\n",
        "              metrics=[\"accuracy\", RootMeanSquaredError()])\n",
        "model.fit(train_images, train_labels,\n",
        "          epochs=3,\n",
        "          validation_data=(val_images, val_labels))\n",
        "test_metrics = model.evaluate(test_images, test_labels)"
      ]
    },
    {
      "cell_type": "markdown",
      "metadata": {
        "id": "HyaUNX8D1lMT"
      },
      "source": [
        "### Using callbacks"
      ]
    },
    {
      "cell_type": "markdown",
      "metadata": {
        "id": "aif4P0-Q1lMT"
      },
      "source": [
        "#### The EarlyStopping and ModelCheckpoint callbacks"
      ]
    },
    {
      "cell_type": "markdown",
      "metadata": {
        "id": "nfyvceT41lMT"
      },
      "source": [
        "**Using the `callbacks` argument in the `fit()` method**"
      ]
    },
    {
      "cell_type": "markdown",
      "source": [
        "**callback 사용 : early stopping, model checkpoint**"
      ],
      "metadata": {
        "id": "BlDar8xtw6f1"
      }
    },
    {
      "cell_type": "code",
      "source": [
        "keras.callbacks.EarlyStopping?"
      ],
      "metadata": {
        "id": "DNEeOT-NMPSw"
      },
      "execution_count": 35,
      "outputs": []
    },
    {
      "cell_type": "code",
      "execution_count": 41,
      "metadata": {
        "id": "ApSXI6cp1lMT",
        "outputId": "f50978b8-5e95-4f8e-b48f-76f98412f104",
        "colab": {
          "base_uri": "https://localhost:8080/"
        }
      },
      "outputs": [
        {
          "output_type": "stream",
          "name": "stdout",
          "text": [
            "Epoch 1/10\n",
            "1563/1563 [==============================] - 6s 3ms/step - loss: 0.2948 - accuracy: 0.9125 - val_loss: 0.1375 - val_accuracy: 0.9596\n",
            "Epoch 2/10\n",
            "1563/1563 [==============================] - 5s 3ms/step - loss: 0.1574 - accuracy: 0.9537 - val_loss: 0.1129 - val_accuracy: 0.9683\n",
            "Epoch 3/10\n",
            "1563/1563 [==============================] - 5s 3ms/step - loss: 0.1287 - accuracy: 0.9633 - val_loss: 0.0989 - val_accuracy: 0.9734\n",
            "Epoch 4/10\n",
            "1563/1563 [==============================] - 5s 3ms/step - loss: 0.1136 - accuracy: 0.9685 - val_loss: 0.0952 - val_accuracy: 0.9759\n",
            "Epoch 5/10\n",
            "1563/1563 [==============================] - 6s 4ms/step - loss: 0.1045 - accuracy: 0.9717 - val_loss: 0.0950 - val_accuracy: 0.9766\n",
            "Epoch 6/10\n",
            "1563/1563 [==============================] - 5s 3ms/step - loss: 0.0952 - accuracy: 0.9744 - val_loss: 0.0892 - val_accuracy: 0.9780\n",
            "Epoch 7/10\n",
            "1563/1563 [==============================] - 7s 4ms/step - loss: 0.0869 - accuracy: 0.9760 - val_loss: 0.1018 - val_accuracy: 0.9757\n",
            "Epoch 8/10\n",
            "1563/1563 [==============================] - 9s 6ms/step - loss: 0.0832 - accuracy: 0.9780 - val_loss: 0.0932 - val_accuracy: 0.9792\n",
            "Epoch 9/10\n",
            "1563/1563 [==============================] - 10s 6ms/step - loss: 0.0764 - accuracy: 0.9792 - val_loss: 0.0979 - val_accuracy: 0.9785\n",
            "Epoch 10/10\n",
            "1563/1563 [==============================] - 5s 3ms/step - loss: 0.0710 - accuracy: 0.9799 - val_loss: 0.0930 - val_accuracy: 0.9805\n"
          ]
        },
        {
          "output_type": "execute_result",
          "data": {
            "text/plain": [
              "<keras.callbacks.History at 0x7f12a1ff1690>"
            ]
          },
          "metadata": {},
          "execution_count": 41
        }
      ],
      "source": [
        "callbacks_list = [\n",
        "    keras.callbacks.EarlyStopping(\n",
        "        monitor=\"val_accuracy\",\n",
        "        patience=2, # val_accuracy가 2번이상 나빠지면 early stopping사용\n",
        "    ),\n",
        "    keras.callbacks.ModelCheckpoint(\n",
        "        filepath=\"checkpoint_path.keras\", #path to the destination model file\n",
        "        monitor=\"val_loss\",\n",
        "        save_best_only=True, # epoch=10 번동안 val_loss 제일 좋은거 뽑기\n",
        "    )\n",
        "]\n",
        "model = get_mnist_model()\n",
        "model.compile(optimizer=\"rmsprop\",\n",
        "              loss=\"sparse_categorical_crossentropy\",\n",
        "              metrics=[\"accuracy\"])\n",
        "model.fit(train_images, train_labels,\n",
        "          epochs=10,\n",
        "          callbacks=callbacks_list,\n",
        "          validation_data=(val_images, val_labels))"
      ]
    },
    {
      "cell_type": "code",
      "source": [
        "from google.colab import drive\n",
        "drive.mount('/content/drive')"
      ],
      "metadata": {
        "id": "0C6L4F0NNyIe",
        "outputId": "b14b88d8-d473-46aa-fe2c-787432aafd40",
        "colab": {
          "base_uri": "https://localhost:8080/"
        }
      },
      "execution_count": 42,
      "outputs": [
        {
          "output_type": "stream",
          "name": "stdout",
          "text": [
            "Mounted at /content/drive\n"
          ]
        }
      ]
    },
    {
      "cell_type": "code",
      "execution_count": 43,
      "metadata": {
        "id": "W-pxaain1lMT"
      },
      "outputs": [],
      "source": [
        "model = keras.models.load_model(\"checkpoint_path.keras\") #가장 좋은거 뽑은 모델 불러오기"
      ]
    },
    {
      "cell_type": "markdown",
      "metadata": {
        "id": "-HrVjsBa1lMU"
      },
      "source": [
        "### Writing your own callbacks"
      ]
    },
    {
      "cell_type": "markdown",
      "metadata": {
        "id": "yahQWEvK1lMU"
      },
      "source": [
        "**Creating a custom callback by subclassing the `Callback` class**"
      ]
    },
    {
      "cell_type": "code",
      "execution_count": 44,
      "metadata": {
        "id": "klxpHN6c1lMU"
      },
      "outputs": [],
      "source": [
        "from matplotlib import pyplot as plt\n",
        "\n",
        "class LossHistory(keras.callbacks.Callback):\n",
        "    def on_train_begin(self, logs):\n",
        "        self.per_batch_losses = []\n",
        "\n",
        "    def on_batch_end(self, batch, logs):\n",
        "        self.per_batch_losses.append(logs.get(\"loss\"))\n",
        "\n",
        "    def on_epoch_end(self, epoch, logs):\n",
        "        plt.clf()\n",
        "        plt.plot(range(len(self.per_batch_losses)), self.per_batch_losses,\n",
        "                 label=\"Training loss for each batch\")\n",
        "        plt.xlabel(f\"Batch (epoch {epoch})\")\n",
        "        plt.ylabel(\"Loss\")\n",
        "        plt.legend()\n",
        "        plt.savefig(f\"plot_at_epoch_{epoch}\")\n",
        "        self.per_batch_losses = []"
      ]
    },
    {
      "cell_type": "code",
      "execution_count": 45,
      "metadata": {
        "id": "y0RJLRvx1lMU",
        "outputId": "358fa819-b7ef-4a14-bc4a-5a05f3a26de5",
        "colab": {
          "base_uri": "https://localhost:8080/",
          "height": 829
        }
      },
      "outputs": [
        {
          "output_type": "stream",
          "name": "stdout",
          "text": [
            "Epoch 1/10\n",
            "1563/1563 [==============================] - 7s 4ms/step - loss: 0.2958 - accuracy: 0.9115 - val_loss: 0.1452 - val_accuracy: 0.9582\n",
            "Epoch 2/10\n",
            "1563/1563 [==============================] - 5s 3ms/step - loss: 0.1603 - accuracy: 0.9543 - val_loss: 0.1273 - val_accuracy: 0.9646\n",
            "Epoch 3/10\n",
            "1563/1563 [==============================] - 6s 4ms/step - loss: 0.1319 - accuracy: 0.9619 - val_loss: 0.0987 - val_accuracy: 0.9729\n",
            "Epoch 4/10\n",
            "1563/1563 [==============================] - 6s 4ms/step - loss: 0.1121 - accuracy: 0.9688 - val_loss: 0.0940 - val_accuracy: 0.9747\n",
            "Epoch 5/10\n",
            "1563/1563 [==============================] - 8s 5ms/step - loss: 0.1069 - accuracy: 0.9711 - val_loss: 0.0941 - val_accuracy: 0.9743\n",
            "Epoch 6/10\n",
            "1563/1563 [==============================] - 5s 3ms/step - loss: 0.0987 - accuracy: 0.9729 - val_loss: 0.0874 - val_accuracy: 0.9785\n",
            "Epoch 7/10\n",
            "1563/1563 [==============================] - 6s 4ms/step - loss: 0.0893 - accuracy: 0.9757 - val_loss: 0.0905 - val_accuracy: 0.9762\n",
            "Epoch 8/10\n",
            "1563/1563 [==============================] - 5s 3ms/step - loss: 0.0807 - accuracy: 0.9782 - val_loss: 0.0863 - val_accuracy: 0.9791\n",
            "Epoch 9/10\n",
            "1563/1563 [==============================] - 6s 4ms/step - loss: 0.0782 - accuracy: 0.9789 - val_loss: 0.0912 - val_accuracy: 0.9793\n",
            "Epoch 10/10\n",
            "1563/1563 [==============================] - 8s 5ms/step - loss: 0.0743 - accuracy: 0.9802 - val_loss: 0.0880 - val_accuracy: 0.9796\n"
          ]
        },
        {
          "output_type": "execute_result",
          "data": {
            "text/plain": [
              "<keras.callbacks.History at 0x7f12a825feb0>"
            ]
          },
          "metadata": {},
          "execution_count": 45
        },
        {
          "output_type": "display_data",
          "data": {
            "text/plain": [
              "<Figure size 640x480 with 1 Axes>"
            ],
            "image/png": "[encoded data removed]"
          },
          "metadata": {}
        }
      ],
      "source": [
        "\n",
        "model = get_mnist_model()\n",
        "model.compile(optimizer=\"rmsprop\",\n",
        "              loss=\"sparse_categorical_crossentropy\",\n",
        "              metrics=[\"accuracy\"])\n",
        "model.fit(train_images, train_labels,\n",
        "          epochs=10,\n",
        "          callbacks=[LossHistory()],\n",
        "          validation_data=(val_images, val_labels))"
      ]
    },
    {
      "cell_type": "markdown",
      "metadata": {
        "id": "lQ5n-96i1lMU"
      },
      "source": [
        "### Monitoring and visualization with TensorBoard"
      ]
    },
    {
      "cell_type": "code",
      "execution_count": 47,
      "metadata": {
        "id": "5q4y57Mm1lMU",
        "outputId": "292be92b-0f26-4c36-fc8f-3c6645a06a4b",
        "colab": {
          "base_uri": "https://localhost:8080/"
        }
      },
      "outputs": [
        {
          "output_type": "stream",
          "name": "stdout",
          "text": [
            "Epoch 1/10\n",
            "1563/1563 [==============================] - 6s 3ms/step - loss: 0.2937 - accuracy: 0.9132 - val_loss: 0.1546 - val_accuracy: 0.9552\n",
            "Epoch 2/10\n",
            "1563/1563 [==============================] - 6s 4ms/step - loss: 0.1579 - accuracy: 0.9544 - val_loss: 0.1174 - val_accuracy: 0.9677\n",
            "Epoch 3/10\n",
            "1563/1563 [==============================] - 5s 3ms/step - loss: 0.1325 - accuracy: 0.9624 - val_loss: 0.1066 - val_accuracy: 0.9709\n",
            "Epoch 4/10\n",
            "1563/1563 [==============================] - 6s 4ms/step - loss: 0.1166 - accuracy: 0.9671 - val_loss: 0.1030 - val_accuracy: 0.9734\n",
            "Epoch 5/10\n",
            "1563/1563 [==============================] - 5s 3ms/step - loss: 0.1067 - accuracy: 0.9705 - val_loss: 0.0993 - val_accuracy: 0.9753\n",
            "Epoch 6/10\n",
            "1563/1563 [==============================] - 5s 3ms/step - loss: 0.0949 - accuracy: 0.9735 - val_loss: 0.0930 - val_accuracy: 0.9767\n",
            "Epoch 7/10\n",
            "1563/1563 [==============================] - 6s 4ms/step - loss: 0.0896 - accuracy: 0.9756 - val_loss: 0.0887 - val_accuracy: 0.9777\n",
            "Epoch 8/10\n",
            "1563/1563 [==============================] - 5s 3ms/step - loss: 0.0836 - accuracy: 0.9778 - val_loss: 0.0907 - val_accuracy: 0.9789\n",
            "Epoch 9/10\n",
            "1563/1563 [==============================] - 7s 4ms/step - loss: 0.0778 - accuracy: 0.9789 - val_loss: 0.0925 - val_accuracy: 0.9785\n",
            "Epoch 10/10\n",
            "1563/1563 [==============================] - 5s 3ms/step - loss: 0.0742 - accuracy: 0.9805 - val_loss: 0.0831 - val_accuracy: 0.9806\n"
          ]
        },
        {
          "output_type": "execute_result",
          "data": {
            "text/plain": [
              "<keras.callbacks.History at 0x7f12a859d240>"
            ]
          },
          "metadata": {},
          "execution_count": 47
        }
      ],
      "source": [
        "model = get_mnist_model()\n",
        "model.compile(optimizer=\"rmsprop\",\n",
        "              loss=\"sparse_categorical_crossentropy\",\n",
        "              metrics=[\"accuracy\"])\n",
        "\n",
        "tensorboard = keras.callbacks.TensorBoard(\n",
        "    log_dir=\"/full_path_to_your_log_dir\",\n",
        ")\n",
        "model.fit(train_images, train_labels,\n",
        "          epochs=10,\n",
        "          validation_data=(val_images, val_labels),\n",
        "          callbacks=[tensorboard])"
      ]
    },
    {
      "cell_type": "code",
      "execution_count": null,
      "metadata": {
        "id": "4W7r43w-1lMV"
      },
      "outputs": [],
      "source": [
        "%load_ext tensorboard\n",
        "%tensorboard --logdir /full_path_to_your_log_dir"
      ]
    },
    {
      "cell_type": "markdown",
      "metadata": {
        "id": "k5Jz4nXE1lMV"
      },
      "source": [
        "## Writing your own training and evaluation loops"
      ]
    },
    {
      "cell_type": "markdown",
      "metadata": {
        "id": "6suGC4tE1lMV"
      },
      "source": [
        "### Training versus inference"
      ]
    },
    {
      "cell_type": "markdown",
      "metadata": {
        "id": "XVk-jBAE1lMV"
      },
      "source": [
        "### Low-level usage of metrics"
      ]
    },
    {
      "cell_type": "code",
      "execution_count": null,
      "metadata": {
        "id": "MdiHWsAu1lMV",
        "outputId": "f92c405b-05d8-4a3e-df47-3caa35c2361f",
        "colab": {
          "base_uri": "https://localhost:8080/"
        }
      },
      "outputs": [
        {
          "output_type": "stream",
          "name": "stdout",
          "text": [
            "result: 1.00\n"
          ]
        }
      ],
      "source": [
        "metric = keras.metrics.SparseCategoricalAccuracy()\n",
        "targets = [0, 1, 2]\n",
        "predictions = [[1, 0, 0], [0, 1, 0], [0, 0, 1]]\n",
        "metric.update_state(targets, predictions)\n",
        "current_result = metric.result()\n",
        "print(f\"result: {current_result:.2f}\")"
      ]
    },
    {
      "cell_type": "code",
      "source": [
        "metric = keras.metrics.SparseCategoricalAccuracy()\n",
        "targets = [0, 1, 1]\n",
        "predictions = [[1, 0, 0], [0, 1, 0], [0, 0, 1]]\n",
        "metric.update_state(targets, predictions)\n",
        "current_result = metric.result()\n",
        "print(f\"result: {current_result:.2f}\")"
      ],
      "metadata": {
        "id": "MdJGDgvlQefP",
        "outputId": "786238d5-7383-47ea-c86e-bf8d73f838b9",
        "colab": {
          "base_uri": "https://localhost:8080/"
        }
      },
      "execution_count": null,
      "outputs": [
        {
          "output_type": "stream",
          "name": "stdout",
          "text": [
            "result: 0.67\n"
          ]
        }
      ]
    },
    {
      "cell_type": "code",
      "execution_count": null,
      "metadata": {
        "id": "KuZiEy7Z1lMW",
        "outputId": "e97de3d4-19d0-4438-b0be-c5ca4d8c52c9",
        "colab": {
          "base_uri": "https://localhost:8080/"
        }
      },
      "outputs": [
        {
          "output_type": "stream",
          "name": "stdout",
          "text": [
            "Mean of values: 2.00\n"
          ]
        }
      ],
      "source": [
        "values = [0, 1, 2, 3, 4]\n",
        "mean_tracker = keras.metrics.Mean()\n",
        "for value in values:\n",
        "    mean_tracker.update_state(value)\n",
        "print(f\"Mean of values: {mean_tracker.result():.2f}\")"
      ]
    },
    {
      "cell_type": "markdown",
      "metadata": {
        "id": "zusU8tpu1lMW"
      },
      "source": [
        "### A complete training and evaluation loop"
      ]
    },
    {
      "cell_type": "markdown",
      "metadata": {
        "id": "Ok9IVwnt1lMW"
      },
      "source": [
        "**Writing a step-by-step training loop: the training step function**"
      ]
    },
    {
      "cell_type": "code",
      "execution_count": null,
      "metadata": {
        "id": "ZU9XuFl_1lMW"
      },
      "outputs": [],
      "source": [
        "model = get_mnist_model()\n",
        "\n",
        "loss_fn = keras.losses.SparseCategoricalCrossentropy()\n",
        "optimizer = keras.optimizers.RMSprop()\n",
        "metrics = [keras.metrics.SparseCategoricalAccuracy()]\n",
        "loss_tracking_metric = keras.metrics.Mean()\n",
        "\n",
        "def train_step(inputs, targets):\n",
        "    with tf.GradientTape() as tape:\n",
        "        predictions = model(inputs, training=True)\n",
        "        loss = loss_fn(targets, predictions)\n",
        "    gradients = tape.gradient(loss, model.trainable_weights)\n",
        "    optimizer.apply_gradients(zip(gradients, model.trainable_weights))\n",
        "\n",
        "    logs = {}\n",
        "    for metric in metrics:\n",
        "        metric.update_state(targets, predictions)\n",
        "        logs[metric.name] = metric.result()\n",
        "\n",
        "    loss_tracking_metric.update_state(loss)\n",
        "    logs[\"loss\"] = loss_tracking_metric.result()\n",
        "    return logs"
      ]
    },
    {
      "cell_type": "markdown",
      "metadata": {
        "id": "98XK29ue1lMW"
      },
      "source": [
        "**Writing a step-by-step training loop: resetting the metrics**"
      ]
    },
    {
      "cell_type": "code",
      "execution_count": null,
      "metadata": {
        "id": "xALHNZPu1lMW"
      },
      "outputs": [],
      "source": [
        "def reset_metrics():\n",
        "    for metric in metrics:\n",
        "        metric.reset_state()\n",
        "    loss_tracking_metric.reset_state()"
      ]
    },
    {
      "cell_type": "markdown",
      "metadata": {
        "id": "AFyX26Vu1lMW"
      },
      "source": [
        "**Writing a step-by-step training loop: the loop itself**"
      ]
    },
    {
      "cell_type": "code",
      "execution_count": null,
      "metadata": {
        "id": "ZQBKc0_m1lMW",
        "outputId": "c5bed354-e0fd-4b48-c688-cf54c789044a",
        "colab": {
          "base_uri": "https://localhost:8080/"
        }
      },
      "outputs": [
        {
          "output_type": "stream",
          "name": "stdout",
          "text": [
            "Results at the end of epoch 0\n",
            "...sparse_categorical_accuracy: 0.9134\n",
            "...loss: 0.2935\n",
            "Results at the end of epoch 1\n",
            "...sparse_categorical_accuracy: 0.9531\n",
            "...loss: 0.1599\n",
            "Results at the end of epoch 2\n",
            "...sparse_categorical_accuracy: 0.9639\n",
            "...loss: 0.1292\n"
          ]
        }
      ],
      "source": [
        "training_dataset = tf.data.Dataset.from_tensor_slices((train_images, train_labels))\n",
        "training_dataset = training_dataset.batch(32)\n",
        "epochs = 3\n",
        "for epoch in range(epochs):\n",
        "    reset_metrics()\n",
        "    for inputs_batch, targets_batch in training_dataset:\n",
        "        logs = train_step(inputs_batch, targets_batch)\n",
        "    print(f\"Results at the end of epoch {epoch}\")\n",
        "    for key, value in logs.items():\n",
        "        print(f\"...{key}: {value:.4f}\")"
      ]
    },
    {
      "cell_type": "markdown",
      "metadata": {
        "id": "X4NOG0n51lMX"
      },
      "source": [
        "**Writing a step-by-step evaluation loop**"
      ]
    },
    {
      "cell_type": "code",
      "execution_count": null,
      "metadata": {
        "id": "k3BGhNRn1lMX"
      },
      "outputs": [],
      "source": [
        "def test_step(inputs, targets):\n",
        "    predictions = model(inputs, training=False)\n",
        "    loss = loss_fn(targets, predictions)\n",
        "\n",
        "    logs = {}\n",
        "    for metric in metrics:\n",
        "        metric.update_state(targets, predictions)\n",
        "        logs[\"val_\" + metric.name] = metric.result()\n",
        "\n",
        "    loss_tracking_metric.update_state(loss)\n",
        "    logs[\"val_loss\"] = loss_tracking_metric.result()\n",
        "    return logs\n",
        "\n",
        "val_dataset = tf.data.Dataset.from_tensor_slices((val_images, val_labels))\n",
        "val_dataset = val_dataset.batch(32)\n",
        "reset_metrics()\n",
        "for inputs_batch, targets_batch in val_dataset:\n",
        "    logs = test_step(inputs_batch, targets_batch)\n",
        "print(\"Evaluation results:\")\n",
        "for key, value in logs.items():\n",
        "    print(f\"...{key}: {value:.4f}\")"
      ]
    },
    {
      "cell_type": "markdown",
      "metadata": {
        "id": "-3a99W7z1lMX"
      },
      "source": [
        "### Make it fast with tf.function"
      ]
    },
    {
      "cell_type": "markdown",
      "metadata": {
        "id": "v3wd4kWX1lMX"
      },
      "source": [
        "**Adding a `tf.function` decorator to our evaluation-step function**"
      ]
    },
    {
      "cell_type": "code",
      "execution_count": null,
      "metadata": {
        "id": "AiJPs4_r1lMX"
      },
      "outputs": [],
      "source": [
        "@tf.function\n",
        "def test_step(inputs, targets):\n",
        "    predictions = model(inputs, training=False)\n",
        "    loss = loss_fn(targets, predictions)\n",
        "\n",
        "    logs = {}\n",
        "    for metric in metrics:\n",
        "        metric.update_state(targets, predictions)\n",
        "        logs[\"val_\" + metric.name] = metric.result()\n",
        "\n",
        "    loss_tracking_metric.update_state(loss)\n",
        "    logs[\"val_loss\"] = loss_tracking_metric.result()\n",
        "    return logs\n",
        "\n",
        "val_dataset = tf.data.Dataset.from_tensor_slices((val_images, val_labels))\n",
        "val_dataset = val_dataset.batch(32)\n",
        "reset_metrics()\n",
        "for inputs_batch, targets_batch in val_dataset:\n",
        "    logs = test_step(inputs_batch, targets_batch)\n",
        "print(\"Evaluation results:\")\n",
        "for key, value in logs.items():\n",
        "    print(f\"...{key}: {value:.4f}\")"
      ]
    },
    {
      "cell_type": "markdown",
      "metadata": {
        "id": "OAFZUNB11lMX"
      },
      "source": [
        "### Leveraging fit() with a custom training loop"
      ]
    },
    {
      "cell_type": "markdown",
      "metadata": {
        "id": "_YdxuOQO1lMX"
      },
      "source": [
        "**Implementing a custom training step to use with `fit()`**"
      ]
    },
    {
      "cell_type": "code",
      "execution_count": null,
      "metadata": {
        "id": "UNz7SWki1lMX"
      },
      "outputs": [],
      "source": [
        "loss_fn = keras.losses.SparseCategoricalCrossentropy()\n",
        "loss_tracker = keras.metrics.Mean(name=\"loss\")\n",
        "\n",
        "class CustomModel(keras.Model):\n",
        "    def train_step(self, data):\n",
        "        inputs, targets = data\n",
        "        with tf.GradientTape() as tape:\n",
        "            predictions = self(inputs, training=True)\n",
        "            loss = loss_fn(targets, predictions)\n",
        "        gradients = tape.gradient(loss, self.trainable_weights)\n",
        "        self.optimizer.apply_gradients(zip(gradients, self.trainable_weights))\n",
        "\n",
        "        loss_tracker.update_state(loss)\n",
        "        return {\"loss\": loss_tracker.result()}\n",
        "\n",
        "    @property\n",
        "    def metrics(self):\n",
        "        return [loss_tracker]"
      ]
    },
    {
      "cell_type": "code",
      "execution_count": null,
      "metadata": {
        "id": "r_vh3Ev01lMX"
      },
      "outputs": [],
      "source": [
        "inputs = keras.Input(shape=(28 * 28,))\n",
        "features = layers.Dense(512, activation=\"relu\")(inputs)\n",
        "features = layers.Dropout(0.5)(features)\n",
        "outputs = layers.Dense(10, activation=\"softmax\")(features)\n",
        "model = CustomModel(inputs, outputs)\n",
        "\n",
        "model.compile(optimizer=keras.optimizers.RMSprop())\n",
        "model.fit(train_images, train_labels, epochs=3)"
      ]
    },
    {
      "cell_type": "code",
      "execution_count": null,
      "metadata": {
        "id": "eP89KtRF1lMY"
      },
      "outputs": [],
      "source": [
        "class CustomModel(keras.Model):\n",
        "    def train_step(self, data):\n",
        "        inputs, targets = data\n",
        "        with tf.GradientTape() as tape:\n",
        "            predictions = self(inputs, training=True)\n",
        "            loss = self.compiled_loss(targets, predictions)\n",
        "        gradients = tape.gradient(loss, self.trainable_weights)\n",
        "        self.optimizer.apply_gradients(zip(gradients, self.trainable_weights))\n",
        "        self.compiled_metrics.update_state(targets, predictions)\n",
        "        return {m.name: m.result() for m in self.metrics}"
      ]
    },
    {
      "cell_type": "code",
      "execution_count": null,
      "metadata": {
        "id": "DRCbluIz1lMY"
      },
      "outputs": [],
      "source": [
        "inputs = keras.Input(shape=(28 * 28,))\n",
        "features = layers.Dense(512, activation=\"relu\")(inputs)\n",
        "features = layers.Dropout(0.5)(features)\n",
        "outputs = layers.Dense(10, activation=\"softmax\")(features)\n",
        "model = CustomModel(inputs, outputs)\n",
        "\n",
        "model.compile(optimizer=keras.optimizers.RMSprop(),\n",
        "              loss=keras.losses.SparseCategoricalCrossentropy(),\n",
        "              metrics=[keras.metrics.SparseCategoricalAccuracy()])\n",
        "model.fit(train_images, train_labels, epochs=3)"
      ]
    },
    {
      "cell_type": "markdown",
      "metadata": {
        "id": "8nzvqhmf1lMY"
      },
      "source": [
        "## Summary"
      ]
    }
  ],
  "metadata": {
    "colab": {
      "name": "chapter07_working-with-keras.i",
      "provenance": []
    },
    "kernelspec": {
      "display_name": "Python 3",
      "language": "python",
      "name": "python3"
    },
    "language_info": {
      "codemirror_mode": {
        "name": "ipython",
        "version": 3
      },
      "file_extension": ".py",
      "mimetype": "text/x-python",
      "name": "python",
      "nbconvert_exporter": "python",
      "pygments_lexer": "ipython3",
      "version": "3.7.0"
    },
    "accelerator": "GPU",
    "gpuClass": "standard"
  },
  "nbformat": 4,
  "nbformat_minor": 0
}
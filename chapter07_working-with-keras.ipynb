{
  "cells": [
    {
      "cell_type": "markdown",
      "metadata": {
        "id": "7o4bKWum1lMG"
      },
      "source": [
        "This is a companion notebook for the book [Deep Learning with Python, Second Edition](https://www.manning.com/books/deep-learning-with-python-second-edition?a_aid=keras&a_bid=76564dff). For readability, it only contains runnable code blocks and section titles, and omits everything else in the book: text paragraphs, figures, and pseudocode.\n",
        "\n",
        "**If you want to be able to follow what's going on, I recommend reading the notebook side by side with your copy of the book.**\n",
        "\n",
        "This notebook was generated for TensorFlow 2.6."
      ]
    },
    {
      "cell_type": "markdown",
      "metadata": {
        "id": "G0snzpI01lMI"
      },
      "source": [
        "# Working with Keras: A deep dive"
      ]
    },
    {
      "cell_type": "markdown",
      "metadata": {
        "id": "Op6ZmmSu1lMI"
      },
      "source": [
        "## A spectrum of workflows"
      ]
    },
    {
      "cell_type": "markdown",
      "metadata": {
        "id": "0Cmie-3W1lMJ"
      },
      "source": [
        "## Different ways to build Keras models"
      ]
    },
    {
      "cell_type": "markdown",
      "metadata": {
        "id": "k1TbBqFV1lMJ"
      },
      "source": [
        "### The Sequential model"
      ]
    },
    {
      "cell_type": "markdown",
      "metadata": {
        "id": "F-SUAYhJ1lMJ"
      },
      "source": [
        "**The `Sequential` class**"
      ]
    },
    {
      "cell_type": "code",
      "execution_count": 6,
      "metadata": {
        "id": "EyyAH5VF1lMJ"
      },
      "outputs": [],
      "source": [
        "from tensorflow import keras\n",
        "from tensorflow.keras import layers\n",
        "\n",
        "model = keras.Sequential([\n",
        "    layers.Dense(64, activation=\"relu\"),\n",
        "    layers.Dense(10, activation=\"softmax\")\n",
        "])"
      ]
    },
    {
      "cell_type": "markdown",
      "metadata": {
        "id": "9J2-SQlA1lMK"
      },
      "source": [
        "**Incrementally building a Sequential model**"
      ]
    },
    {
      "cell_type": "code",
      "execution_count": 7,
      "metadata": {
        "id": "Dnr3R8vY1lMK"
      },
      "outputs": [],
      "source": [
        "model = keras.Sequential()\n",
        "model.add(layers.Dense(64, activation=\"relu\"))\n",
        "model.add(layers.Dense(10, activation=\"softmax\"))"
      ]
    },
    {
      "cell_type": "code",
      "source": [
        "model.layers #어떤 레이어가 붙어있는지 확인인"
      ],
      "metadata": {
        "id": "nrXD3K6-14Ef",
        "outputId": "a80b3c34-f0b3-4789-8b4d-a32190272ccc",
        "colab": {
          "base_uri": "https://localhost:8080/"
        }
      },
      "execution_count": 3,
      "outputs": [
        {
          "output_type": "execute_result",
          "data": {
            "text/plain": [
              "[<keras.layers.core.dense.Dense at 0x7f099691d190>,\n",
              " <keras.layers.core.dense.Dense at 0x7f097c7e6730>]"
            ]
          },
          "metadata": {},
          "execution_count": 3
        }
      ]
    },
    {
      "cell_type": "code",
      "source": [
        "dir(model) #어떤 레이어를 사용할수 있는지 "
      ],
      "metadata": {
        "id": "By3TtxgQ2Bob",
        "outputId": "193d8765-016d-42ac-aba1-b1b09ca152ea",
        "colab": {
          "base_uri": "https://localhost:8080/"
        }
      },
      "execution_count": 5,
      "outputs": [
        {
          "output_type": "execute_result",
          "data": {
            "text/plain": [
              "['_SCALAR_UPRANKING_ON',\n",
              " '_TF_MODULE_IGNORED_PROPERTIES',\n",
              " '__call__',\n",
              " '__class__',\n",
              " '__copy__',\n",
              " '__deepcopy__',\n",
              " '__delattr__',\n",
              " '__dict__',\n",
              " '__dir__',\n",
              " '__doc__',\n",
              " '__eq__',\n",
              " '__format__',\n",
              " '__ge__',\n",
              " '__getattribute__',\n",
              " '__getstate__',\n",
              " '__gt__',\n",
              " '__hash__',\n",
              " '__init__',\n",
              " '__init_subclass__',\n",
              " '__le__',\n",
              " '__lt__',\n",
              " '__module__',\n",
              " '__ne__',\n",
              " '__new__',\n",
              " '__reduce__',\n",
              " '__reduce_ex__',\n",
              " '__repr__',\n",
              " '__setattr__',\n",
              " '__setstate__',\n",
              " '__sizeof__',\n",
              " '__str__',\n",
              " '__subclasshook__',\n",
              " '__weakref__',\n",
              " '_activity_regularizer',\n",
              " '_add_trackable',\n",
              " '_add_trackable_child',\n",
              " '_add_variable_with_custom_getter',\n",
              " '_assert_compile_was_called',\n",
              " '_assert_weights_created',\n",
              " '_auto_config',\n",
              " '_auto_get_config',\n",
              " '_auto_track_sub_layers',\n",
              " '_autocast',\n",
              " '_autographed_call',\n",
              " '_base_model_initialized',\n",
              " '_build_graph_network_for_inferred_shape',\n",
              " '_build_input_shape',\n",
              " '_call_spec',\n",
              " '_callable_losses',\n",
              " '_captured_weight_regularizer',\n",
              " '_cast_single_input',\n",
              " '_check_call_args',\n",
              " '_check_sample_weight_warning',\n",
              " '_checkpoint',\n",
              " '_checkpoint_dependencies',\n",
              " '_clear_losses',\n",
              " '_cluster_coordinator',\n",
              " '_compile_was_called',\n",
              " '_compiled_trainable_state',\n",
              " '_compute_dtype',\n",
              " '_compute_dtype_object',\n",
              " '_compute_output_and_mask_jointly',\n",
              " '_compute_tensor_usage_count',\n",
              " '_configure_steps_per_execution',\n",
              " '_conform_to_reference_input',\n",
              " '_created_nodes',\n",
              " '_dedup_weights',\n",
              " '_deferred_dependencies',\n",
              " '_delete_tracking',\n",
              " '_deserialization_dependencies',\n",
              " '_deserialize_from_proto',\n",
              " '_distribute_reduction_method',\n",
              " '_distribution_strategy',\n",
              " '_dtype',\n",
              " '_dtype_policy',\n",
              " '_dynamic',\n",
              " '_eager_losses',\n",
              " '_enable_dict_to_input_mapping',\n",
              " '_expects_mask_arg',\n",
              " '_expects_training_arg',\n",
              " '_export_to_saved_model_graph',\n",
              " '_feed_input_names',\n",
              " '_feed_input_shapes',\n",
              " '_feed_inputs',\n",
              " '_flatten',\n",
              " '_flatten_layers',\n",
              " '_flatten_modules',\n",
              " '_flatten_to_reference_inputs',\n",
              " '_functional_construction_call',\n",
              " '_gather_children_attribute',\n",
              " '_gather_saveables_for_checkpoint',\n",
              " '_get_callback_model',\n",
              " '_get_cell_name',\n",
              " '_get_compile_args',\n",
              " '_get_existing_metric',\n",
              " '_get_input_masks',\n",
              " '_get_node_attribute_at_index',\n",
              " '_get_optimizer',\n",
              " '_get_save_spec',\n",
              " '_get_trainable_state',\n",
              " '_get_unnested_name_scope',\n",
              " '_graph_initialized',\n",
              " '_graph_network_add_loss',\n",
              " '_graph_network_add_metric',\n",
              " '_handle_activity_regularization',\n",
              " '_handle_deferred_dependencies',\n",
              " '_handle_deferred_layer_dependencies',\n",
              " '_handle_weight_regularization',\n",
              " '_has_explicit_input_shape',\n",
              " '_in_multi_worker_mode',\n",
              " '_inbound_nodes',\n",
              " '_inbound_nodes_value',\n",
              " '_infer_output_signature',\n",
              " '_inferred_input_shape',\n",
              " '_init_batch_counters',\n",
              " '_init_call_fn_args',\n",
              " '_init_graph_network',\n",
              " '_init_set_name',\n",
              " '_initial_weights',\n",
              " '_input_coordinates',\n",
              " '_input_dtype',\n",
              " '_input_layers',\n",
              " '_input_spec',\n",
              " '_insert_layers',\n",
              " '_instrument_layer_creation',\n",
              " '_instrumented_keras_api',\n",
              " '_instrumented_keras_layer_class',\n",
              " '_instrumented_keras_model_class',\n",
              " '_is_compiled',\n",
              " '_is_graph_network',\n",
              " '_is_layer',\n",
              " '_is_layer_name_unique',\n",
              " '_is_model_for_instrumentation',\n",
              " '_jit_compile',\n",
              " '_keras_api_names',\n",
              " '_keras_api_names_v1',\n",
              " '_keras_tensor_symbolic_call',\n",
              " '_layer_call_argspecs',\n",
              " '_layer_checkpoint_dependencies',\n",
              " '_layout_map',\n",
              " '_load_own_variables',\n",
              " '_lookup_dependency',\n",
              " '_losses',\n",
              " '_maybe_build',\n",
              " '_maybe_cast_inputs',\n",
              " '_maybe_create_attribute',\n",
              " '_maybe_initialize_trackable',\n",
              " '_maybe_load_initial_counters_from_ckpt',\n",
              " '_metrics',\n",
              " '_metrics_lock',\n",
              " '_must_restore_from_config',\n",
              " '_name',\n",
              " '_name_based_attribute_restore',\n",
              " '_name_based_restores',\n",
              " '_name_scope',\n",
              " '_name_scope_on_declaration',\n",
              " '_nested_inputs',\n",
              " '_nested_outputs',\n",
              " '_network_nodes',\n",
              " '_no_dependency',\n",
              " '_nodes_by_depth',\n",
              " '_non_trainable_weights',\n",
              " '_obj_reference_counts',\n",
              " '_obj_reference_counts_dict',\n",
              " '_object_identifier',\n",
              " '_outbound_nodes',\n",
              " '_outbound_nodes_value',\n",
              " '_output_coordinates',\n",
              " '_output_layers',\n",
              " '_output_mask_cache',\n",
              " '_output_shape_cache',\n",
              " '_output_tensor_cache',\n",
              " '_predict_counter',\n",
              " '_preload_simple_restoration',\n",
              " '_preserve_input_structure_in_config',\n",
              " '_reset_compile_cache',\n",
              " '_restore_from_tensors',\n",
              " '_run_eagerly',\n",
              " '_run_internal_graph',\n",
              " '_save_experimental',\n",
              " '_save_own_variables',\n",
              " '_saved_model_arg_spec',\n",
              " '_saved_model_inputs_spec',\n",
              " '_self_name_based_restores',\n",
              " '_self_saveable_object_factories',\n",
              " '_self_setattr_tracking',\n",
              " '_self_tracked_trackables',\n",
              " '_self_unconditional_checkpoint_dependencies',\n",
              " '_self_unconditional_deferred_dependencies',\n",
              " '_self_unconditional_dependency_names',\n",
              " '_self_update_uid',\n",
              " '_serialize_to_proto',\n",
              " '_serialize_to_tensors',\n",
              " '_set_connectivity_metadata',\n",
              " '_set_dtype_policy',\n",
              " '_set_inputs',\n",
              " '_set_mask_keras_history_checked',\n",
              " '_set_mask_metadata',\n",
              " '_set_output_names',\n",
              " '_set_save_spec',\n",
              " '_set_trainable_state',\n",
              " '_set_training_mode',\n",
              " '_setattr_tracking',\n",
              " '_should_cast_single_input',\n",
              " '_should_compute_mask',\n",
              " '_should_eval',\n",
              " '_stateful',\n",
              " '_steps_per_execution',\n",
              " '_supports_masking',\n",
              " '_tensor_usage_count',\n",
              " '_test_counter',\n",
              " '_tf_api_names',\n",
              " '_tf_api_names_v1',\n",
              " '_thread_local',\n",
              " '_track_trackable',\n",
              " '_track_variable',\n",
              " '_track_variables',\n",
              " '_trackable_children',\n",
              " '_trackable_saved_model_saver',\n",
              " '_tracking_metadata',\n",
              " '_train_counter',\n",
              " '_trainable',\n",
              " '_trainable_weights',\n",
              " '_training_state',\n",
              " '_unconditional_checkpoint_dependencies',\n",
              " '_unconditional_dependency_names',\n",
              " '_undeduplicated_weights',\n",
              " '_update_trackables',\n",
              " '_update_uid',\n",
              " '_updated_config',\n",
              " '_updates',\n",
              " '_use_input_spec_as_call_signature',\n",
              " '_use_legacy_deferred_behavior',\n",
              " '_validate_and_get_metrics_result',\n",
              " '_validate_compile',\n",
              " '_validate_graph_inputs_and_outputs',\n",
              " '_validate_target_and_loss',\n",
              " 'activity_regularizer',\n",
              " 'add',\n",
              " 'add_loss',\n",
              " 'add_metric',\n",
              " 'add_update',\n",
              " 'add_variable',\n",
              " 'add_weight',\n",
              " 'build',\n",
              " 'build_from_config',\n",
              " 'built',\n",
              " 'call',\n",
              " 'compile',\n",
              " 'compile_from_config',\n",
              " 'compiled_loss',\n",
              " 'compiled_metrics',\n",
              " 'compute_dtype',\n",
              " 'compute_loss',\n",
              " 'compute_mask',\n",
              " 'compute_metrics',\n",
              " 'compute_output_shape',\n",
              " 'compute_output_signature',\n",
              " 'count_params',\n",
              " 'distribute_reduction_method',\n",
              " 'distribute_strategy',\n",
              " 'dtype',\n",
              " 'dtype_policy',\n",
              " 'dynamic',\n",
              " 'evaluate',\n",
              " 'evaluate_generator',\n",
              " 'export',\n",
              " 'finalize_state',\n",
              " 'fit',\n",
              " 'fit_generator',\n",
              " 'from_config',\n",
              " 'get_build_config',\n",
              " 'get_compile_config',\n",
              " 'get_config',\n",
              " 'get_input_at',\n",
              " 'get_input_mask_at',\n",
              " 'get_input_shape_at',\n",
              " 'get_layer',\n",
              " 'get_metrics_result',\n",
              " 'get_output_at',\n",
              " 'get_output_mask_at',\n",
              " 'get_output_shape_at',\n",
              " 'get_weight_paths',\n",
              " 'get_weights',\n",
              " 'history',\n",
              " 'inbound_nodes',\n",
              " 'input',\n",
              " 'input_mask',\n",
              " 'input_names',\n",
              " 'input_shape',\n",
              " 'input_spec',\n",
              " 'inputs',\n",
              " 'jit_compile',\n",
              " 'layers',\n",
              " 'load_weights',\n",
              " 'losses',\n",
              " 'make_predict_function',\n",
              " 'make_test_function',\n",
              " 'make_train_function',\n",
              " 'metrics',\n",
              " 'metrics_names',\n",
              " 'name',\n",
              " 'name_scope',\n",
              " 'non_trainable_variables',\n",
              " 'non_trainable_weights',\n",
              " 'optimizer',\n",
              " 'outbound_nodes',\n",
              " 'output',\n",
              " 'output_mask',\n",
              " 'output_names',\n",
              " 'output_shape',\n",
              " 'outputs',\n",
              " 'pop',\n",
              " 'predict',\n",
              " 'predict_function',\n",
              " 'predict_generator',\n",
              " 'predict_on_batch',\n",
              " 'predict_step',\n",
              " 'reset_metrics',\n",
              " 'reset_states',\n",
              " 'run_eagerly',\n",
              " 'save',\n",
              " 'save_spec',\n",
              " 'save_weights',\n",
              " 'set_weights',\n",
              " 'state_updates',\n",
              " 'stateful',\n",
              " 'stop_training',\n",
              " 'submodules',\n",
              " 'summary',\n",
              " 'supports_masking',\n",
              " 'test_function',\n",
              " 'test_on_batch',\n",
              " 'test_step',\n",
              " 'to_json',\n",
              " 'to_yaml',\n",
              " 'train_function',\n",
              " 'train_on_batch',\n",
              " 'train_step',\n",
              " 'train_tf_function',\n",
              " 'trainable',\n",
              " 'trainable_variables',\n",
              " 'trainable_weights',\n",
              " 'updates',\n",
              " 'variable_dtype',\n",
              " 'variables',\n",
              " 'weights',\n",
              " 'with_name_scope']"
            ]
          },
          "metadata": {},
          "execution_count": 5
        }
      ]
    },
    {
      "cell_type": "markdown",
      "metadata": {
        "id": "3gSNg6Kl1lML"
      },
      "source": [
        "**Calling a model for the first time to build it**"
      ]
    },
    {
      "cell_type": "code",
      "execution_count": 4,
      "metadata": {
        "id": "tEe9NHw61lML",
        "outputId": "f3b4cacd-21eb-4f07-b0af-654c88c3e38d",
        "colab": {
          "base_uri": "https://localhost:8080/"
        }
      },
      "outputs": [
        {
          "output_type": "execute_result",
          "data": {
            "text/plain": [
              "[<tf.Variable 'dense_2/kernel:0' shape=(3, 64) dtype=float32, numpy=\n",
              " array([[-0.18459585,  0.22360927,  0.05265269,  0.05542317, -0.25489092,\n",
              "          0.13720462,  0.08878452,  0.12776476,  0.0507488 ,  0.16258574,\n",
              "          0.28280443, -0.27790472, -0.19314784, -0.25109863,  0.29319507,\n",
              "         -0.23598668,  0.24173695,  0.05333698,  0.10992298, -0.20957266,\n",
              "         -0.07956302,  0.26652324,  0.05876169, -0.11438014,  0.14963633,\n",
              "         -0.27484506,  0.07085669,  0.02170724, -0.1720718 , -0.0646524 ,\n",
              "          0.01675153,  0.07014179, -0.27125737,  0.09594253,  0.29491544,\n",
              "          0.16301095,  0.11468071, -0.2036651 ,  0.01337513,  0.05014268,\n",
              "         -0.01500252,  0.11805332, -0.27120057, -0.19002154,  0.10608536,\n",
              "         -0.12753639,  0.27500033,  0.29040635, -0.12372757, -0.2604874 ,\n",
              "          0.18022141, -0.2223238 , -0.04197332, -0.17887107, -0.08601318,\n",
              "          0.1944654 ,  0.16607526, -0.02803889,  0.12948981, -0.0423646 ,\n",
              "         -0.07459781, -0.09784465, -0.2750958 ,  0.06185856],\n",
              "        [ 0.10860091, -0.01431328,  0.08181703, -0.04849279, -0.23551238,\n",
              "          0.01962027,  0.15639177,  0.10784128,  0.14851752, -0.22781098,\n",
              "         -0.26330176, -0.09808338, -0.03697401, -0.28605554, -0.22348334,\n",
              "          0.11480466, -0.03281263, -0.16155997, -0.18728793, -0.09144022,\n",
              "          0.13903865, -0.19582415,  0.25196183,  0.06783292, -0.07622702,\n",
              "          0.29041857, -0.06369293, -0.26889583, -0.12886131,  0.09298345,\n",
              "          0.06387451,  0.2727865 , -0.09642163,  0.02797654, -0.0413028 ,\n",
              "         -0.26540017, -0.21339917,  0.24323457,  0.13524348,  0.11662352,\n",
              "          0.27600175,  0.13141218,  0.06563976, -0.28413635,  0.2617823 ,\n",
              "          0.05030629,  0.11433232, -0.2827    , -0.24303803,  0.19793838,\n",
              "          0.24368584,  0.16385937,  0.20750815,  0.19064263, -0.11047272,\n",
              "          0.25241774, -0.20757121, -0.08180383, -0.19219705,  0.13456988,\n",
              "         -0.07502767, -0.08464488,  0.05314162, -0.1619441 ],\n",
              "        [-0.0430795 , -0.05886748, -0.2113856 , -0.17017426,  0.06707922,\n",
              "          0.04497978,  0.11858335,  0.07016522, -0.02098534, -0.0481663 ,\n",
              "          0.13915375, -0.17412318,  0.21907622, -0.11688964, -0.2158269 ,\n",
              "          0.2918368 ,  0.12197798, -0.03016341,  0.04154396,  0.12289888,\n",
              "          0.08986709,  0.17951205,  0.18191725, -0.27461797,  0.25721985,\n",
              "         -0.19707957,  0.11624393, -0.14376037, -0.01419029,  0.05080473,\n",
              "         -0.18263808,  0.14947829, -0.05044712,  0.06199443, -0.01251277,\n",
              "         -0.11747234, -0.03957513,  0.22613484, -0.129266  ,  0.25372738,\n",
              "         -0.04245022,  0.09399453, -0.2501433 , -0.23193409,  0.19730139,\n",
              "          0.2192319 , -0.16472223,  0.29590082,  0.00578699,  0.13966623,\n",
              "          0.2257533 , -0.15529889,  0.156708  , -0.09094135, -0.27780035,\n",
              "          0.20864135, -0.29194432, -0.12802811,  0.16420946, -0.16498479,\n",
              "          0.07224819, -0.20232418,  0.09983069, -0.10623832]],\n",
              "       dtype=float32)>,\n",
              " <tf.Variable 'dense_2/bias:0' shape=(64,) dtype=float32, numpy=\n",
              " array([0., 0., 0., 0., 0., 0., 0., 0., 0., 0., 0., 0., 0., 0., 0., 0., 0.,\n",
              "        0., 0., 0., 0., 0., 0., 0., 0., 0., 0., 0., 0., 0., 0., 0., 0., 0.,\n",
              "        0., 0., 0., 0., 0., 0., 0., 0., 0., 0., 0., 0., 0., 0., 0., 0., 0.,\n",
              "        0., 0., 0., 0., 0., 0., 0., 0., 0., 0., 0., 0., 0.], dtype=float32)>,\n",
              " <tf.Variable 'dense_3/kernel:0' shape=(64, 10) dtype=float32, numpy=\n",
              " array([[-2.39905298e-01,  2.65531451e-01,  1.98264390e-01,\n",
              "         -1.27923369e-01,  1.11897141e-01,  2.69233018e-01,\n",
              "         -1.97415769e-01, -2.19634175e-01, -1.71426952e-01,\n",
              "         -3.40350866e-02],\n",
              "        [-2.73489475e-01,  2.11724937e-02, -1.10745534e-01,\n",
              "          1.21184587e-02, -1.64889514e-01,  1.27203554e-01,\n",
              "          1.48726702e-01,  2.69781798e-01, -1.60902441e-02,\n",
              "          1.02512836e-01],\n",
              "        [ 3.86469960e-02, -2.30785757e-01,  1.68664157e-02,\n",
              "         -1.12977192e-01, -1.01139367e-01, -6.00353926e-02,\n",
              "          6.51149750e-02,  2.06420571e-01,  1.47000551e-01,\n",
              "         -2.45205820e-01],\n",
              "        [-8.84408504e-02,  2.98047066e-03,  2.60117978e-01,\n",
              "          9.97477174e-02,  9.15553868e-02,  4.38794792e-02,\n",
              "         -1.72644958e-01, -2.39146173e-01,  5.81108630e-02,\n",
              "          6.37890399e-02],\n",
              "        [-2.72192955e-02,  1.83783382e-01, -1.42332554e-01,\n",
              "         -1.27470821e-01, -1.95015356e-01,  2.60299236e-01,\n",
              "          1.72496498e-01,  1.56951249e-01,  2.76551098e-01,\n",
              "          2.07053840e-01],\n",
              "        [ 1.56683147e-01, -1.00981668e-01, -4.08540815e-02,\n",
              "         -2.31302336e-01,  1.31577253e-04,  1.80767477e-01,\n",
              "         -1.84983656e-01, -6.31399602e-02,  1.18774563e-01,\n",
              "          2.69954801e-02],\n",
              "        [-4.48361039e-03, -2.22044021e-01,  2.46645063e-01,\n",
              "         -1.08460322e-01,  1.75735205e-01,  1.11353010e-01,\n",
              "          2.44487137e-01, -1.08161137e-01, -2.42211759e-01,\n",
              "         -2.39846855e-01],\n",
              "        [-2.52630830e-01, -2.33522028e-01, -2.25583017e-02,\n",
              "         -2.18035281e-02,  1.34306580e-01, -1.25782967e-01,\n",
              "         -2.34449536e-01,  2.76912659e-01, -7.74076581e-02,\n",
              "         -1.49658054e-01],\n",
              "        [ 1.73573464e-01, -1.00385398e-01, -4.60198224e-02,\n",
              "          1.25953645e-01,  2.45573968e-01,  3.27219963e-02,\n",
              "          1.54817492e-01,  2.26197571e-01,  5.09602427e-02,\n",
              "         -2.65725344e-01],\n",
              "        [ 1.66173309e-01, -9.46387947e-02, -2.18811899e-01,\n",
              "         -2.79441118e-01, -1.85794190e-01, -5.82454205e-02,\n",
              "          2.18288600e-02,  6.03873134e-02,  1.85679376e-01,\n",
              "         -1.00246623e-01],\n",
              "        [ 4.77757156e-02,  2.13961840e-01, -2.10991010e-01,\n",
              "         -3.98747176e-02,  8.19626153e-02,  2.75336295e-01,\n",
              "         -2.54169077e-01,  2.46062428e-01, -1.45196110e-01,\n",
              "         -1.28296211e-01],\n",
              "        [ 1.61631107e-02,  1.83174908e-02, -1.22791156e-01,\n",
              "         -1.60742044e-01,  6.19827211e-02,  1.74489707e-01,\n",
              "         -5.25118560e-02, -2.49321163e-02, -1.20419934e-01,\n",
              "          1.28089428e-01],\n",
              "        [-6.79132342e-02, -7.48119205e-02, -2.47764677e-01,\n",
              "          5.10329008e-02, -1.32770926e-01, -4.51144576e-03,\n",
              "          3.83959413e-02,  7.99119473e-04,  1.86773568e-01,\n",
              "         -2.78453529e-01],\n",
              "        [ 5.77116013e-02,  1.60017997e-01, -2.25350857e-02,\n",
              "          4.82903123e-02,  1.33909434e-01, -1.72748476e-01,\n",
              "          8.39644670e-03, -2.08426431e-01, -2.46627748e-01,\n",
              "         -2.35456467e-01],\n",
              "        [ 2.82834142e-01,  8.52313340e-02,  2.39520937e-01,\n",
              "         -8.13632160e-02,  3.81639600e-03, -4.56274301e-02,\n",
              "         -1.94523767e-01, -2.51522899e-01, -2.74479300e-01,\n",
              "          6.59309328e-02],\n",
              "        [-2.24724561e-01,  1.05026156e-01, -1.56608000e-01,\n",
              "         -1.55767456e-01, -9.66517031e-02, -7.40490556e-02,\n",
              "         -9.34865773e-02,  2.58330107e-02, -2.80193180e-01,\n",
              "         -1.37424588e-01],\n",
              "        [-5.65648079e-04, -1.74315989e-01,  2.06036001e-01,\n",
              "          2.38778621e-01,  1.16232127e-01, -2.10755914e-01,\n",
              "          1.34252667e-01,  1.26092345e-01, -1.76692307e-01,\n",
              "         -2.21771926e-01],\n",
              "        [-5.49362451e-02,  5.47314286e-02,  2.09879249e-01,\n",
              "          5.98351955e-02,  2.70019561e-01, -1.06991604e-01,\n",
              "         -1.02747932e-01, -1.76140368e-02, -2.32453600e-01,\n",
              "         -2.39191994e-01],\n",
              "        [-7.30821788e-02, -7.82377422e-02,  2.39971489e-01,\n",
              "          1.25504971e-01,  1.34539515e-01,  8.91484618e-02,\n",
              "         -1.31724134e-01, -8.10467899e-02, -1.74023852e-01,\n",
              "          2.66950876e-01],\n",
              "        [ 1.12135768e-01,  2.67258257e-01, -3.88960987e-02,\n",
              "         -7.44586885e-02, -1.31477371e-01,  1.42394006e-01,\n",
              "          1.38588458e-01, -1.98230579e-01, -2.35600531e-01,\n",
              "          2.57039100e-01],\n",
              "        [ 2.56388634e-01, -1.45122394e-01,  7.92391598e-02,\n",
              "          1.32645726e-01, -1.64714098e-01, -2.41741300e-01,\n",
              "          1.39323294e-01, -2.32106477e-01,  1.89622790e-01,\n",
              "          2.41546124e-01],\n",
              "        [ 8.38836730e-02,  3.97824645e-02, -9.16176587e-02,\n",
              "          1.19461477e-01, -8.45292956e-02,  1.29214227e-01,\n",
              "         -1.78894624e-01,  8.94560814e-02,  1.02107614e-01,\n",
              "         -2.02703327e-01],\n",
              "        [ 5.57678044e-02, -9.66128707e-03,  2.12135345e-01,\n",
              "         -1.77545547e-02,  8.31506550e-02,  1.72782570e-01,\n",
              "         -2.78853059e-01,  7.86298513e-03, -2.40784809e-01,\n",
              "          1.19757056e-01],\n",
              "        [-2.44717687e-01,  1.68323964e-01,  2.52649754e-01,\n",
              "         -9.94224548e-02, -2.18798459e-01,  2.56641954e-01,\n",
              "          2.18987733e-01, -2.03569382e-01,  1.34879827e-01,\n",
              "         -2.02030867e-01],\n",
              "        [-5.79783469e-02,  1.25266671e-01,  9.41867828e-02,\n",
              "          2.08022296e-01,  2.00337172e-02,  2.11297661e-01,\n",
              "          2.60907859e-01,  2.80861944e-01, -4.21530753e-02,\n",
              "          1.64540827e-01],\n",
              "        [ 1.01265520e-01, -1.20660663e-01, -1.85361385e-01,\n",
              "          1.50476396e-01,  2.43202835e-01, -1.74433619e-01,\n",
              "          1.24418885e-01,  1.68850839e-01,  2.48685479e-03,\n",
              "         -5.78426421e-02],\n",
              "        [ 2.55672544e-01, -4.71888781e-02,  9.67789292e-02,\n",
              "         -1.92069978e-01,  9.91999209e-02,  7.91491568e-02,\n",
              "         -1.15992680e-01,  2.24119037e-01, -2.80058622e-01,\n",
              "          2.01665759e-02],\n",
              "        [ 7.52121806e-02, -1.97975591e-01, -2.30760276e-02,\n",
              "          1.61025733e-01, -2.20878169e-01,  1.31477565e-01,\n",
              "         -1.78545058e-01,  1.09562874e-02, -1.04926080e-01,\n",
              "         -2.49919280e-01],\n",
              "        [ 2.19156057e-01,  1.58000141e-01,  2.26989478e-01,\n",
              "          2.45791674e-02, -1.03589296e-02,  5.76472580e-02,\n",
              "         -3.88505310e-02,  6.91259503e-02, -2.22018361e-03,\n",
              "          8.23355317e-02],\n",
              "        [ 1.40017956e-01,  5.21516800e-03, -1.81937873e-01,\n",
              "         -2.03832984e-01, -9.48275924e-02, -2.28225470e-01,\n",
              "         -8.08272362e-02,  2.70354718e-01, -2.69160956e-01,\n",
              "          2.52603561e-01],\n",
              "        [-2.67077565e-01,  2.52751142e-01,  2.36015528e-01,\n",
              "         -2.71859527e-01, -1.27596483e-01,  5.11291623e-02,\n",
              "         -2.47311383e-01, -2.77046949e-01, -3.41373384e-02,\n",
              "          1.61555558e-01],\n",
              "        [-1.96179584e-01,  2.01020360e-01, -2.56008327e-01,\n",
              "         -1.89155936e-02,  2.12958157e-01,  2.69383878e-01,\n",
              "         -2.56405681e-01, -7.20841438e-02,  2.04247236e-01,\n",
              "          1.49106801e-01],\n",
              "        [ 2.26192385e-01, -8.03516656e-02,  8.91952515e-02,\n",
              "         -1.33686677e-01,  6.03342354e-02,  1.47360891e-01,\n",
              "          7.14798570e-02,  2.57190853e-01, -2.42922366e-01,\n",
              "         -1.89409211e-01],\n",
              "        [-2.82384455e-01,  2.64932126e-01,  1.26420319e-01,\n",
              "          1.36611760e-01, -2.69117147e-01,  2.32379347e-01,\n",
              "         -2.76051760e-01, -1.03299603e-01, -5.21427393e-02,\n",
              "          2.20545501e-01],\n",
              "        [ 2.30546027e-01, -4.71300781e-02,  1.64444566e-01,\n",
              "         -1.80263221e-02, -1.02759197e-01,  2.37343699e-01,\n",
              "         -2.64207274e-01, -1.82995394e-01, -1.86765611e-01,\n",
              "         -1.07322097e-01],\n",
              "        [-4.51323092e-02,  2.91141570e-02, -1.35575563e-01,\n",
              "         -1.02701023e-01,  1.46385193e-01,  2.20007151e-01,\n",
              "          8.47494602e-02, -1.36870876e-01, -1.95146114e-01,\n",
              "          2.55866379e-01],\n",
              "        [ 1.43295765e-01, -1.64941847e-01,  1.41799837e-01,\n",
              "         -2.40568578e-01, -7.49922395e-02, -1.95142657e-01,\n",
              "          5.61816692e-02, -1.55882195e-01, -8.57363641e-02,\n",
              "         -2.73196191e-01],\n",
              "        [-1.85382664e-02, -2.15314731e-01, -2.03455180e-01,\n",
              "          1.85430765e-01,  2.06363976e-01,  1.80823565e-01,\n",
              "          2.31262416e-01,  1.65377766e-01, -3.36034596e-02,\n",
              "         -2.02112943e-01],\n",
              "        [-1.34385869e-01, -1.54178858e-01, -1.19367376e-01,\n",
              "         -2.05960155e-01, -4.01257724e-02, -1.40652165e-01,\n",
              "         -6.55626506e-02, -1.33904606e-01,  2.16333002e-01,\n",
              "         -2.40433753e-01],\n",
              "        [-1.25698790e-01,  8.07903111e-02,  1.37309253e-01,\n",
              "         -2.26952076e-01,  2.51313657e-01,  1.74678355e-01,\n",
              "          2.53815681e-01,  1.36671424e-01,  1.33812338e-01,\n",
              "         -2.16357708e-02],\n",
              "        [ 2.74598569e-01,  9.52521563e-02,  3.73357832e-02,\n",
              "         -1.56906441e-01, -1.12942025e-01,  2.54332215e-01,\n",
              "         -2.47626930e-01, -2.47504205e-01, -1.62063897e-01,\n",
              "          2.41549939e-01],\n",
              "        [-2.02924222e-01, -2.12206841e-01,  2.82399327e-01,\n",
              "         -5.96603751e-02, -2.31717199e-01, -1.40473679e-01,\n",
              "         -5.44358343e-02, -1.76598430e-02,  4.18396890e-02,\n",
              "         -1.05683252e-01],\n",
              "        [-4.82933670e-02, -1.60310939e-01, -1.08075321e-01,\n",
              "         -2.71943182e-01,  1.05436206e-01, -2.23263383e-01,\n",
              "         -1.53651014e-01, -2.67814308e-01,  7.46282935e-03,\n",
              "          2.18801707e-01],\n",
              "        [-2.18442857e-01,  7.76908994e-02,  3.31850648e-02,\n",
              "         -1.57397613e-01, -2.55611569e-01,  1.06031924e-01,\n",
              "         -2.00212747e-01,  1.55318111e-01, -2.47045875e-01,\n",
              "         -2.08123773e-01],\n",
              "        [-4.59828228e-02, -1.23460293e-02, -6.59294575e-02,\n",
              "         -2.45868474e-01,  1.89335555e-01,  9.57056582e-02,\n",
              "         -1.65496439e-01, -1.35173991e-01, -5.97673655e-03,\n",
              "          1.23696595e-01],\n",
              "        [ 1.74374282e-01, -2.62750864e-01,  2.35510021e-01,\n",
              "         -1.84779793e-01, -2.17502385e-01,  1.46491826e-02,\n",
              "          1.66789919e-01, -3.07996273e-02,  1.70588315e-01,\n",
              "         -8.46620798e-02],\n",
              "        [ 2.25027472e-01, -9.42742974e-02, -1.99958622e-01,\n",
              "          8.52238536e-02,  1.97210133e-01,  2.20058531e-01,\n",
              "         -2.68560678e-01,  1.58828318e-01, -1.65050417e-01,\n",
              "         -1.03605434e-01],\n",
              "        [-6.35170192e-02,  1.66327864e-01,  1.58225238e-01,\n",
              "          1.00100130e-01,  7.25937784e-02,  8.85890424e-02,\n",
              "          1.70375347e-01, -3.72478813e-02,  1.20165408e-01,\n",
              "         -2.09688082e-01],\n",
              "        [-5.75711578e-02,  1.10357612e-01,  1.15338564e-01,\n",
              "          2.49118179e-01, -7.60595798e-02, -2.67223924e-01,\n",
              "          1.21891916e-01, -2.34830931e-01,  2.83160537e-01,\n",
              "          2.50899464e-01],\n",
              "        [-1.09345391e-01, -8.03048313e-02, -1.12835303e-01,\n",
              "          2.30685264e-01,  9.50248837e-02,  2.49266475e-01,\n",
              "         -2.63463855e-02, -2.67615318e-01,  1.03071004e-01,\n",
              "          1.95985019e-01],\n",
              "        [ 2.60787934e-01,  1.54387683e-01,  1.67571336e-01,\n",
              "         -1.92945600e-02,  2.33229786e-01, -1.63493305e-01,\n",
              "          1.75571233e-01,  2.15010732e-01,  2.44228244e-02,\n",
              "          2.72552639e-01],\n",
              "        [ 2.71379083e-01, -4.52433825e-02,  2.04973310e-01,\n",
              "          1.02003992e-01,  1.63812667e-01, -2.71174461e-01,\n",
              "          2.14554518e-01, -1.74060717e-01,  2.68709660e-02,\n",
              "          2.45897084e-01],\n",
              "        [-2.15900242e-02, -1.96619645e-01, -3.32621038e-02,\n",
              "         -2.93267071e-02,  1.15867227e-01, -5.07116318e-03,\n",
              "          6.18954003e-02, -6.48299158e-02, -2.40989834e-01,\n",
              "         -2.32331470e-01],\n",
              "        [ 2.27142066e-01, -1.45984307e-01, -1.25134826e-01,\n",
              "          1.06512576e-01,  2.29500741e-01,  1.79828763e-01,\n",
              "          2.72863299e-01,  1.71432525e-01, -1.94499880e-01,\n",
              "          2.79724211e-01],\n",
              "        [ 8.02718997e-02,  5.66160977e-02, -9.82893109e-02,\n",
              "         -1.92767754e-01, -1.10895023e-01, -1.19625360e-01,\n",
              "         -4.73361313e-02,  1.15694165e-01,  7.89198279e-03,\n",
              "          2.54420191e-01],\n",
              "        [ 2.57160753e-01,  5.10349870e-02,  2.80619413e-01,\n",
              "          6.33109808e-02, -1.25265107e-01,  1.66698992e-02,\n",
              "          1.43018901e-01, -5.59965968e-02, -9.02759582e-02,\n",
              "          2.79662102e-01],\n",
              "        [-8.34290832e-02, -1.60120308e-01, -1.85322911e-01,\n",
              "          5.38192689e-02, -2.13713974e-01, -1.44572556e-02,\n",
              "          1.89486742e-01,  2.89300978e-02, -9.42441523e-02,\n",
              "          1.45826995e-01],\n",
              "        [ 2.00794965e-01,  2.14575946e-01, -2.08312988e-01,\n",
              "         -5.74007630e-03,  2.66845614e-01,  1.64901942e-01,\n",
              "         -1.37088671e-01,  1.52276456e-02,  2.37821013e-01,\n",
              "         -3.31903398e-02],\n",
              "        [ 2.80828744e-01,  1.70856625e-01,  1.84319496e-01,\n",
              "          1.17749304e-01, -9.31551456e-02,  6.21390045e-02,\n",
              "         -5.80722094e-03, -2.24774733e-01, -2.01935768e-01,\n",
              "          1.93576783e-01],\n",
              "        [ 1.31446004e-01,  4.60160375e-02, -2.71981269e-01,\n",
              "          2.30982304e-02,  3.77449393e-03,  2.35011578e-02,\n",
              "          1.37360632e-01,  2.43753284e-01,  1.39664650e-01,\n",
              "          4.89321351e-02],\n",
              "        [ 1.48499191e-01, -1.59072503e-01,  1.65752590e-01,\n",
              "          2.77604252e-01,  3.24990451e-02, -2.52725333e-01,\n",
              "         -2.12911874e-01,  7.37532675e-02, -9.84739065e-02,\n",
              "          1.79846436e-01],\n",
              "        [ 2.68177718e-01,  1.54803574e-01, -3.75308394e-02,\n",
              "         -4.79966849e-02, -1.54860809e-01,  2.11277694e-01,\n",
              "          2.78966039e-01,  8.67267251e-02,  2.55227774e-01,\n",
              "          3.01103592e-02],\n",
              "        [-1.79101750e-01, -2.46137857e-01,  4.11741138e-02,\n",
              "         -1.02384657e-01,  2.09592432e-01, -5.82538396e-02,\n",
              "          4.03515100e-02,  2.74345428e-01, -1.28329396e-02,\n",
              "          1.94016218e-01],\n",
              "        [-2.68108249e-01,  1.06849104e-01,  7.31688738e-02,\n",
              "         -1.42887533e-02, -2.76317805e-01,  9.61144269e-02,\n",
              "         -1.45891577e-01, -1.90082729e-01, -9.61958170e-02,\n",
              "          1.86992645e-01]], dtype=float32)>,\n",
              " <tf.Variable 'dense_3/bias:0' shape=(10,) dtype=float32, numpy=array([0., 0., 0., 0., 0., 0., 0., 0., 0., 0.], dtype=float32)>]"
            ]
          },
          "metadata": {},
          "execution_count": 4
        }
      ],
      "source": [
        "model.build(input_shape=(None, 3))\n",
        "model.weights"
      ]
    },
    {
      "cell_type": "markdown",
      "metadata": {
        "id": "CM2tog451lML"
      },
      "source": [
        "**The summary method**"
      ]
    },
    {
      "cell_type": "code",
      "execution_count": 6,
      "metadata": {
        "id": "urcFJODy1lML",
        "outputId": "f260b240-43ad-448e-8074-584cfb77dc0e",
        "colab": {
          "base_uri": "https://localhost:8080/"
        }
      },
      "outputs": [
        {
          "output_type": "stream",
          "name": "stdout",
          "text": [
            "Model: \"sequential_1\"\n",
            "_________________________________________________________________\n",
            " Layer (type)                Output Shape              Param #   \n",
            "=================================================================\n",
            " dense_2 (Dense)             (None, 64)                256       \n",
            "                                                                 \n",
            " dense_3 (Dense)             (None, 10)                650       \n",
            "                                                                 \n",
            "=================================================================\n",
            "Total params: 906\n",
            "Trainable params: 906\n",
            "Non-trainable params: 0\n",
            "_________________________________________________________________\n"
          ]
        }
      ],
      "source": [
        "model.summary()"
      ]
    },
    {
      "cell_type": "markdown",
      "metadata": {
        "id": "KMUag19Y1lML"
      },
      "source": [
        "**Naming models and layers with the `name` argument**"
      ]
    },
    {
      "cell_type": "code",
      "execution_count": 7,
      "metadata": {
        "id": "Zs0iJpi01lML",
        "outputId": "6e019f13-b949-4609-d87f-9cd3f2f24707",
        "colab": {
          "base_uri": "https://localhost:8080/"
        }
      },
      "outputs": [
        {
          "output_type": "stream",
          "name": "stdout",
          "text": [
            "Model: \"my_example_model\"\n",
            "_________________________________________________________________\n",
            " Layer (type)                Output Shape              Param #   \n",
            "=================================================================\n",
            " my_first_layer (Dense)      (None, 64)                256       \n",
            "                                                                 \n",
            " my_last_layer (Dense)       (None, 10)                650       \n",
            "                                                                 \n",
            "=================================================================\n",
            "Total params: 906\n",
            "Trainable params: 906\n",
            "Non-trainable params: 0\n",
            "_________________________________________________________________\n"
          ]
        }
      ],
      "source": [
        "model = keras.Sequential(name=\"my_example_model\")\n",
        "model.add(layers.Dense(64, activation=\"relu\", name=\"my_first_layer\"))\n",
        "model.add(layers.Dense(10, activation=\"softmax\", name=\"my_last_layer\"))\n",
        "model.build((None, 3))\n",
        "model.summary()"
      ]
    },
    {
      "cell_type": "markdown",
      "metadata": {
        "id": "-4pyCwfJ1lMM"
      },
      "source": [
        "**Specifying the input shape of your model in advance**"
      ]
    },
    {
      "cell_type": "code",
      "execution_count": 8,
      "metadata": {
        "id": "n0zGkY9l1lMM"
      },
      "outputs": [],
      "source": [
        "model = keras.Sequential()\n",
        "model.add(keras.Input(shape=(3,)))\n",
        "model.add(layers.Dense(64, activation=\"relu\"))"
      ]
    },
    {
      "cell_type": "code",
      "execution_count": 9,
      "metadata": {
        "id": "rAXnthbd1lMM",
        "outputId": "02215ad5-290f-491e-8f80-f5f9490f230f",
        "colab": {
          "base_uri": "https://localhost:8080/"
        }
      },
      "outputs": [
        {
          "output_type": "stream",
          "name": "stdout",
          "text": [
            "Model: \"sequential_2\"\n",
            "_________________________________________________________________\n",
            " Layer (type)                Output Shape              Param #   \n",
            "=================================================================\n",
            " dense_4 (Dense)             (None, 64)                256       \n",
            "                                                                 \n",
            "=================================================================\n",
            "Total params: 256\n",
            "Trainable params: 256\n",
            "Non-trainable params: 0\n",
            "_________________________________________________________________\n"
          ]
        }
      ],
      "source": [
        "model.summary()"
      ]
    },
    {
      "cell_type": "code",
      "execution_count": 10,
      "metadata": {
        "id": "947qD4pW1lMM",
        "outputId": "0d8e859a-b1d9-43eb-ecff-9afc1759e407",
        "colab": {
          "base_uri": "https://localhost:8080/"
        }
      },
      "outputs": [
        {
          "output_type": "stream",
          "name": "stdout",
          "text": [
            "Model: \"sequential_2\"\n",
            "_________________________________________________________________\n",
            " Layer (type)                Output Shape              Param #   \n",
            "=================================================================\n",
            " dense_4 (Dense)             (None, 64)                256       \n",
            "                                                                 \n",
            " dense_5 (Dense)             (None, 10)                650       \n",
            "                                                                 \n",
            "=================================================================\n",
            "Total params: 906\n",
            "Trainable params: 906\n",
            "Non-trainable params: 0\n",
            "_________________________________________________________________\n"
          ]
        }
      ],
      "source": [
        "model.add(layers.Dense(10, activation=\"softmax\"))\n",
        "model.summary()"
      ]
    },
    {
      "cell_type": "markdown",
      "metadata": {
        "id": "K3A1civ21lMM"
      },
      "source": [
        "### The Functional API"
      ]
    },
    {
      "cell_type": "markdown",
      "metadata": {
        "id": "wJ-lw5SS1lMM"
      },
      "source": [
        "#### A simple example"
      ]
    },
    {
      "cell_type": "markdown",
      "metadata": {
        "id": "QuW-rXRJ1lMM"
      },
      "source": [
        "**A simple Functional model with two `Dense` layers**"
      ]
    },
    {
      "cell_type": "code",
      "execution_count": 11,
      "metadata": {
        "id": "8P4nop0W1lMN"
      },
      "outputs": [],
      "source": [
        "inputs = keras.Input(shape=(3,), name=\"my_input\") #3차원원\n",
        "features = layers.Dense(64, activation=\"relu\")(inputs)\n",
        "outputs = layers.Dense(10, activation=\"softmax\")(features)\n",
        "model = keras.Model(inputs=inputs, outputs=outputs)"
      ]
    },
    {
      "cell_type": "code",
      "source": [
        "model.summary()"
      ],
      "metadata": {
        "id": "wRL4JWt77xfv",
        "outputId": "65c633ce-f11e-4499-9f96-665cf7db6ab9",
        "colab": {
          "base_uri": "https://localhost:8080/"
        }
      },
      "execution_count": 17,
      "outputs": [
        {
          "output_type": "stream",
          "name": "stdout",
          "text": [
            "Model: \"model\"\n",
            "_________________________________________________________________\n",
            " Layer (type)                Output Shape              Param #   \n",
            "=================================================================\n",
            " my_input (InputLayer)       [(None, 3)]               0         \n",
            "                                                                 \n",
            " dense_6 (Dense)             (None, 64)                256       \n",
            "                                                                 \n",
            " dense_7 (Dense)             (None, 10)                650       \n",
            "                                                                 \n",
            "=================================================================\n",
            "Total params: 906\n",
            "Trainable params: 906\n",
            "Non-trainable params: 0\n",
            "_________________________________________________________________\n"
          ]
        }
      ]
    },
    {
      "cell_type": "code",
      "execution_count": 12,
      "metadata": {
        "id": "YlAAJmcE1lMN"
      },
      "outputs": [],
      "source": [
        "inputs = keras.Input(shape=(3,), name=\"my_input\")"
      ]
    },
    {
      "cell_type": "code",
      "execution_count": 13,
      "metadata": {
        "id": "5oe1aqnZ1lMN",
        "outputId": "8efdcfde-38bc-4a26-be48-157b9435a3ac",
        "colab": {
          "base_uri": "https://localhost:8080/"
        }
      },
      "outputs": [
        {
          "output_type": "execute_result",
          "data": {
            "text/plain": [
              "TensorShape([None, 3])"
            ]
          },
          "metadata": {},
          "execution_count": 13
        }
      ],
      "source": [
        "inputs.shape"
      ]
    },
    {
      "cell_type": "code",
      "execution_count": 14,
      "metadata": {
        "id": "3c6R_ERR1lMN",
        "outputId": "52a5344e-5e11-4a71-b712-9a06f13ace3c",
        "colab": {
          "base_uri": "https://localhost:8080/"
        }
      },
      "outputs": [
        {
          "output_type": "execute_result",
          "data": {
            "text/plain": [
              "tf.float32"
            ]
          },
          "metadata": {},
          "execution_count": 14
        }
      ],
      "source": [
        "inputs.dtype"
      ]
    },
    {
      "cell_type": "code",
      "execution_count": 15,
      "metadata": {
        "id": "Gw9wxDQS1lMN"
      },
      "outputs": [],
      "source": [
        "features = layers.Dense(64, activation=\"relu\")(inputs)"
      ]
    },
    {
      "cell_type": "code",
      "execution_count": 16,
      "metadata": {
        "id": "YPi3E_on1lMN",
        "outputId": "51b7e4be-3e4d-494d-c4a4-083017fa20c4",
        "colab": {
          "base_uri": "https://localhost:8080/"
        }
      },
      "outputs": [
        {
          "output_type": "execute_result",
          "data": {
            "text/plain": [
              "TensorShape([None, 64])"
            ]
          },
          "metadata": {},
          "execution_count": 16
        }
      ],
      "source": [
        "features.shape"
      ]
    },
    {
      "cell_type": "code",
      "execution_count": 18,
      "metadata": {
        "id": "J3Z1Cn681lMN"
      },
      "outputs": [],
      "source": [
        "outputs = layers.Dense(10, activation=\"softmax\")(features)\n",
        "model = keras.Model(inputs=inputs, outputs=outputs)"
      ]
    },
    {
      "cell_type": "code",
      "execution_count": 19,
      "metadata": {
        "id": "gdujMVED1lMO",
        "outputId": "b5319ce4-0d62-4732-b389-d45b793443fb",
        "colab": {
          "base_uri": "https://localhost:8080/"
        }
      },
      "outputs": [
        {
          "output_type": "stream",
          "name": "stdout",
          "text": [
            "Model: \"model_1\"\n",
            "_________________________________________________________________\n",
            " Layer (type)                Output Shape              Param #   \n",
            "=================================================================\n",
            " my_input (InputLayer)       [(None, 3)]               0         \n",
            "                                                                 \n",
            " dense_8 (Dense)             (None, 64)                256       \n",
            "                                                                 \n",
            " dense_9 (Dense)             (None, 10)                650       \n",
            "                                                                 \n",
            "=================================================================\n",
            "Total params: 906\n",
            "Trainable params: 906\n",
            "Non-trainable params: 0\n",
            "_________________________________________________________________\n"
          ]
        }
      ],
      "source": [
        "model.summary()"
      ]
    },
    {
      "cell_type": "markdown",
      "metadata": {
        "id": "84cpFOJe1lMO"
      },
      "source": [
        "#### Multi-input, multi-output models"
      ]
    },
    {
      "cell_type": "markdown",
      "metadata": {
        "id": "cGNG0Zgl1lMO"
      },
      "source": [
        "**A multi-input, multi-output Functional model**"
      ]
    },
    {
      "cell_type": "code",
      "execution_count": 20,
      "metadata": {
        "id": "HIiJGxh01lMO"
      },
      "outputs": [],
      "source": [
        "vocabulary_size = 10000\n",
        "num_tags = 100\n",
        "num_departments = 4\n",
        "\n",
        "title = keras.Input(shape=(vocabulary_size,), name=\"title\")\n",
        "text_body = keras.Input(shape=(vocabulary_size,), name=\"text_body\")\n",
        "tags = keras.Input(shape=(num_tags,), name=\"tags\")\n",
        "\n",
        "features = layers.Concatenate()([title, text_body, tags])\n",
        "features = layers.Dense(64, activation=\"relu\")(features)\n",
        "\n",
        "priority = layers.Dense(1, activation=\"sigmoid\", name=\"priority\")(features)\n",
        "department = layers.Dense(\n",
        "    num_departments, activation=\"softmax\", name=\"department\")(features)\n",
        "\n",
        "model = keras.Model(inputs=[title, text_body, tags], outputs=[priority, department])"
      ]
    },
    {
      "cell_type": "code",
      "source": [
        "model.summary()"
      ],
      "metadata": {
        "id": "Ddi42Ui176oX",
        "outputId": "a87bcb31-76e9-4530-9200-994d0c77d00e",
        "colab": {
          "base_uri": "https://localhost:8080/"
        }
      },
      "execution_count": 21,
      "outputs": [
        {
          "output_type": "stream",
          "name": "stdout",
          "text": [
            "Model: \"model_2\"\n",
            "__________________________________________________________________________________________________\n",
            " Layer (type)                   Output Shape         Param #     Connected to                     \n",
            "==================================================================================================\n",
            " title (InputLayer)             [(None, 10000)]      0           []                               \n",
            "                                                                                                  \n",
            " text_body (InputLayer)         [(None, 10000)]      0           []                               \n",
            "                                                                                                  \n",
            " tags (InputLayer)              [(None, 100)]        0           []                               \n",
            "                                                                                                  \n",
            " concatenate (Concatenate)      (None, 20100)        0           ['title[0][0]',                  \n",
            "                                                                  'text_body[0][0]',              \n",
            "                                                                  'tags[0][0]']                   \n",
            "                                                                                                  \n",
            " dense_10 (Dense)               (None, 64)           1286464     ['concatenate[0][0]']            \n",
            "                                                                                                  \n",
            " priority (Dense)               (None, 1)            65          ['dense_10[0][0]']               \n",
            "                                                                                                  \n",
            " department (Dense)             (None, 4)            260         ['dense_10[0][0]']               \n",
            "                                                                                                  \n",
            "==================================================================================================\n",
            "Total params: 1,286,789\n",
            "Trainable params: 1,286,789\n",
            "Non-trainable params: 0\n",
            "__________________________________________________________________________________________________\n"
          ]
        }
      ]
    },
    {
      "cell_type": "markdown",
      "metadata": {
        "id": "M-tMJ9-E1lMO"
      },
      "source": [
        "#### Training a multi-input, multi-output model"
      ]
    },
    {
      "cell_type": "markdown",
      "metadata": {
        "id": "8ggF6gy61lMO"
      },
      "source": [
        "**Training a model by providing lists of input & target arrays**"
      ]
    },
    {
      "cell_type": "code",
      "execution_count": 22,
      "metadata": {
        "id": "J4FfXsXD1lMO",
        "outputId": "8f3350f3-dd76-4fef-b230-784bcb4a7c3e",
        "colab": {
          "base_uri": "https://localhost:8080/"
        }
      },
      "outputs": [
        {
          "output_type": "stream",
          "name": "stdout",
          "text": [
            "40/40 [==============================] - 6s 5ms/step - loss: 23.3712 - priority_loss: 0.3277 - department_loss: 23.0435 - priority_mean_absolute_error: 0.4952 - department_accuracy: 0.2547\n",
            "40/40 [==============================] - 0s 5ms/step - loss: 14.5879 - priority_loss: 0.3337 - department_loss: 14.2541 - priority_mean_absolute_error: 0.5014 - department_accuracy: 0.1406\n",
            "40/40 [==============================] - 0s 3ms/step\n"
          ]
        }
      ],
      "source": [
        "import numpy as np\n",
        "\n",
        "num_samples = 1280\n",
        "\n",
        "title_data = np.random.randint(0, 2, size=(num_samples, vocabulary_size))\n",
        "text_body_data = np.random.randint(0, 2, size=(num_samples, vocabulary_size))\n",
        "tags_data = np.random.randint(0, 2, size=(num_samples, num_tags))\n",
        "\n",
        "priority_data = np.random.random(size=(num_samples, 1))\n",
        "department_data = np.random.randint(0, 2, size=(num_samples, num_departments))\n",
        "\n",
        "model.compile(optimizer=\"rmsprop\",\n",
        "              loss=[\"mean_squared_error\", \"categorical_crossentropy\"],\n",
        "              metrics=[[\"mean_absolute_error\"], [\"accuracy\"]])\n",
        "model.fit([title_data, text_body_data, tags_data],\n",
        "          [priority_data, department_data],\n",
        "          epochs=1)\n",
        "model.evaluate([title_data, text_body_data, tags_data],\n",
        "               [priority_data, department_data])\n",
        "priority_preds, department_preds = model.predict([title_data, text_body_data, tags_data])"
      ]
    },
    {
      "cell_type": "markdown",
      "metadata": {
        "id": "gS-Ej5qm1lMO"
      },
      "source": [
        "**Training a model by providing dicts of input & target arrays**"
      ]
    },
    {
      "cell_type": "code",
      "source": [
        "input_data = {\"title\": title_data, \"text_body\": text_body_data, \"tags\": tags_data}"
      ],
      "metadata": {
        "id": "h4Nm6x89A0W3"
      },
      "execution_count": 25,
      "outputs": []
    },
    {
      "cell_type": "code",
      "execution_count": null,
      "metadata": {
        "id": "x_7ZpIRv1lMO"
      },
      "outputs": [],
      "source": [
        "model.compile(optimizer=\"rmsprop\",\n",
        "              loss={\"priority\": \"mean_squared_error\", \"department\": \"categorical_crossentropy\"},\n",
        "              metrics={\"priority\": [\"mean_absolute_error\"], \"department\": [\"accuracy\"]})\n",
        "model.fit({\"title\": title_data, \"text_body\": text_body_data, \"tags\": tags_data},\n",
        "          {\"priority\": priority_data, \"department\": department_data},\n",
        "          epochs=1)\n",
        "model.evaluate({\"title\": title_data, \"text_body\": text_body_data, \"tags\": tags_data},\n",
        "               {\"priority\": priority_data, \"department\": department_data})\n",
        "priority_preds, department_preds = model.predict(\n",
        "    {\"title\": title_data, \"text_body\": text_body_data, \"tags\": tags_data})"
      ]
    },
    {
      "cell_type": "markdown",
      "metadata": {
        "id": "gSdWTdIR1lMP"
      },
      "source": [
        "#### The power of the Functional API: Access to layer connectivity"
      ]
    },
    {
      "cell_type": "code",
      "execution_count": 23,
      "metadata": {
        "id": "hI-JDW121lMP",
        "outputId": "32eecad9-5ea0-4fb3-97a1-c72321062e85",
        "colab": {
          "base_uri": "https://localhost:8080/",
          "height": 369
        }
      },
      "outputs": [
        {
          "output_type": "execute_result",
          "data": {
            "image/png": "[encoded data removed]",
            "text/plain": [
              "<IPython.core.display.Image object>"
            ]
          },
          "metadata": {},
          "execution_count": 23
        }
      ],
      "source": [
        "keras.utils.plot_model(model, \"ticket_classifier.png\")"
      ]
    },
    {
      "cell_type": "code",
      "execution_count": 24,
      "metadata": {
        "id": "t64LGvxz1lMP",
        "outputId": "16a133ba-3083-4205-a1aa-751c30d9ba08",
        "colab": {
          "base_uri": "https://localhost:8080/",
          "height": 401
        }
      },
      "outputs": [
        {
          "output_type": "execute_result",
          "data": {
            "image/png": "[encoded data removed]",
            "text/plain": [
              "<IPython.core.display.Image object>"
            ]
          },
          "metadata": {},
          "execution_count": 24
        }
      ],
      "source": [
        "keras.utils.plot_model(model, \"ticket_classifier_with_shape_info.png\", show_shapes=True)"
      ]
    },
    {
      "cell_type": "markdown",
      "metadata": {
        "id": "LlJ9OI3m1lMP"
      },
      "source": [
        "**Retrieving the inputs or outputs of a layer in a Functional model**"
      ]
    },
    {
      "cell_type": "code",
      "execution_count": 27,
      "metadata": {
        "id": "SxoQmm7a1lMP",
        "outputId": "1e548519-6b10-4df4-8001-0df2045d2fc3",
        "colab": {
          "base_uri": "https://localhost:8080/"
        }
      },
      "outputs": [
        {
          "output_type": "execute_result",
          "data": {
            "text/plain": [
              "[<keras.engine.input_layer.InputLayer at 0x7f08f05caa30>,\n",
              " <keras.engine.input_layer.InputLayer at 0x7f08f05cadc0>,\n",
              " <keras.engine.input_layer.InputLayer at 0x7f097c838190>,\n",
              " <keras.layers.merging.concatenate.Concatenate at 0x7f097c7ee220>,\n",
              " <keras.layers.core.dense.Dense at 0x7f097c7e63a0>,\n",
              " <keras.layers.core.dense.Dense at 0x7f08f0575f10>,\n",
              " <keras.layers.core.dense.Dense at 0x7f08f05754f0>]"
            ]
          },
          "metadata": {},
          "execution_count": 27
        }
      ],
      "source": [
        "model.layers #모델에 활용되는 레이어 "
      ]
    },
    {
      "cell_type": "code",
      "execution_count": 28,
      "metadata": {
        "id": "tkBKJNea1lMP",
        "outputId": "f9033990-8a1e-44ab-e3df-b1c1b14e8b1f",
        "colab": {
          "base_uri": "https://localhost:8080/"
        }
      },
      "outputs": [
        {
          "output_type": "execute_result",
          "data": {
            "text/plain": [
              "[<KerasTensor: shape=(None, 10000) dtype=float32 (created by layer 'title')>,\n",
              " <KerasTensor: shape=(None, 10000) dtype=float32 (created by layer 'text_body')>,\n",
              " <KerasTensor: shape=(None, 100) dtype=float32 (created by layer 'tags')>]"
            ]
          },
          "metadata": {},
          "execution_count": 28
        }
      ],
      "source": [
        "model.layers[3].input"
      ]
    },
    {
      "cell_type": "code",
      "execution_count": 29,
      "metadata": {
        "id": "AjKbyeFl1lMP",
        "outputId": "7643c9ac-86a7-4fbe-fbf7-9ce9c582e108",
        "colab": {
          "base_uri": "https://localhost:8080/"
        }
      },
      "outputs": [
        {
          "output_type": "execute_result",
          "data": {
            "text/plain": [
              "<KerasTensor: shape=(None, 20100) dtype=float32 (created by layer 'concatenate')>"
            ]
          },
          "metadata": {},
          "execution_count": 29
        }
      ],
      "source": [
        "model.layers[3].output"
      ]
    },
    {
      "cell_type": "markdown",
      "metadata": {
        "id": "iwFY9kIa1lMP"
      },
      "source": [
        "**Creating a new model by reusing intermediate layer outputs**"
      ]
    },
    {
      "cell_type": "code",
      "source": [
        "features"
      ],
      "metadata": {
        "id": "O-V-DjRcBUQF",
        "outputId": "6a092a1a-8912-4f60-a061-93bf58b451b4",
        "colab": {
          "base_uri": "https://localhost:8080/"
        }
      },
      "execution_count": 31,
      "outputs": [
        {
          "output_type": "execute_result",
          "data": {
            "text/plain": [
              "<KerasTensor: shape=(None, 64) dtype=float32 (created by layer 'dense_10')>"
            ]
          },
          "metadata": {},
          "execution_count": 31
        }
      ]
    },
    {
      "cell_type": "code",
      "source": [
        "model.layers[4].output"
      ],
      "metadata": {
        "id": "w5Mg0qY-BZVV",
        "outputId": "611031c7-7033-4815-ec89-bbdc0e9bb1ca",
        "colab": {
          "base_uri": "https://localhost:8080/"
        }
      },
      "execution_count": 32,
      "outputs": [
        {
          "output_type": "execute_result",
          "data": {
            "text/plain": [
              "<KerasTensor: shape=(None, 64) dtype=float32 (created by layer 'dense_10')>"
            ]
          },
          "metadata": {},
          "execution_count": 32
        }
      ]
    },
    {
      "cell_type": "code",
      "execution_count": 30,
      "metadata": {
        "id": "018hL2za1lMP"
      },
      "outputs": [],
      "source": [
        "features = model.layers[4].output\n",
        "difficulty = layers.Dense(3, activation=\"softmax\", name=\"difficulty\")(features)\n",
        "\n",
        "new_model = keras.Model(\n",
        "    inputs=[title, text_body, tags],\n",
        "    outputs=[priority, department, difficulty])"
      ]
    },
    {
      "cell_type": "code",
      "execution_count": 33,
      "metadata": {
        "id": "an89V7lV1lMQ",
        "outputId": "87b8c9c2-bbe5-40b7-bf9e-1d15eae5b697",
        "colab": {
          "base_uri": "https://localhost:8080/",
          "height": 401
        }
      },
      "outputs": [
        {
          "output_type": "execute_result",
          "data": {
            "image/png": "[encoded data removed]",
            "text/plain": [
              "<IPython.core.display.Image object>"
            ]
          },
          "metadata": {},
          "execution_count": 33
        }
      ],
      "source": [
        "keras.utils.plot_model(new_model, \"updated_ticket_classifier.png\", show_shapes=True)"
      ]
    },
    {
      "cell_type": "markdown",
      "metadata": {
        "id": "2qHoRYVx1lMQ"
      },
      "source": [
        "### Subclassing the Model class"
      ]
    },
    {
      "cell_type": "markdown",
      "metadata": {
        "id": "_oDwz0WG1lMQ"
      },
      "source": [
        "#### Rewriting our previous example as a subclassed model"
      ]
    },
    {
      "cell_type": "markdown",
      "metadata": {
        "id": "lOB6-E1b1lMQ"
      },
      "source": [
        "**A simple subclassed model**"
      ]
    },
    {
      "cell_type": "code",
      "execution_count": 34,
      "metadata": {
        "id": "se2k-gz31lMQ"
      },
      "outputs": [],
      "source": [
        "class CustomerTicketModel(keras.Model):\n",
        "\n",
        "    def __init__(self, num_departments):\n",
        "        super().__init__()\n",
        "        self.concat_layer = layers.Concatenate()\n",
        "        self.mixing_layer = layers.Dense(64, activation=\"relu\")\n",
        "        self.priority_scorer = layers.Dense(1, activation=\"sigmoid\")\n",
        "        self.department_classifier = layers.Dense(\n",
        "            num_departments, activation=\"softmax\")\n",
        "\n",
        "    def call(self, inputs):\n",
        "        title = inputs[\"title\"]\n",
        "        text_body = inputs[\"text_body\"]\n",
        "        tags = inputs[\"tags\"]\n",
        "\n",
        "        features = self.concat_layer([title, text_body, tags])\n",
        "        features = self.mixing_layer(features)\n",
        "        priority = self.priority_scorer(features)\n",
        "        department = self.department_classifier(features)\n",
        "        return priority, department"
      ]
    },
    {
      "cell_type": "code",
      "source": [
        "model2 = CustomerTicketModel(num_departments=4)\n",
        "\n",
        "priority, department = model2(\n",
        "    {\"title\": title_data, \"text_body\": text_body_data, \"tags\": tags_data})"
      ],
      "metadata": {
        "id": "LcAGeOiWECct"
      },
      "execution_count": 36,
      "outputs": []
    },
    {
      "cell_type": "code",
      "source": [
        "model2"
      ],
      "metadata": {
        "id": "zaLO-IvAEIxB",
        "outputId": "97ec9ce0-4d10-4865-a8cb-68bee08eff68",
        "colab": {
          "base_uri": "https://localhost:8080/"
        }
      },
      "execution_count": 37,
      "outputs": [
        {
          "output_type": "execute_result",
          "data": {
            "text/plain": [
              "<__main__.CustomerTicketModel at 0x7f08e8761610>"
            ]
          },
          "metadata": {},
          "execution_count": 37
        }
      ]
    },
    {
      "cell_type": "code",
      "execution_count": 35,
      "metadata": {
        "id": "w9dhtJXB1lMQ"
      },
      "outputs": [],
      "source": [
        "emodel = CustomerTicketModel(num_departments=4)\n",
        "\n",
        "priority, department = model(\n",
        "    {\"title\": title_data, \"text_body\": text_body_data, \"tags\": tags_data})"
      ]
    },
    {
      "cell_type": "code",
      "execution_count": 38,
      "metadata": {
        "id": "9rDBUApi1lMQ",
        "outputId": "7a6691a4-9a85-4788-feac-548caf804350",
        "colab": {
          "base_uri": "https://localhost:8080/"
        }
      },
      "outputs": [
        {
          "output_type": "stream",
          "name": "stdout",
          "text": [
            "40/40 [==============================] - 1s 5ms/step - loss: 30.6131 - output_1_loss: 0.3294 - output_2_loss: 30.2838 - output_1_mean_absolute_error: 0.4972 - output_2_accuracy: 0.2523\n",
            "40/40 [==============================] - 0s 5ms/step - loss: 44.5780 - output_1_loss: 0.3337 - output_2_loss: 44.2443 - output_1_mean_absolute_error: 0.5014 - output_2_accuracy: 0.5562\n",
            "40/40 [==============================] - 0s 3ms/step\n"
          ]
        }
      ],
      "source": [
        "model.compile(optimizer=\"rmsprop\",\n",
        "              loss=[\"mean_squared_error\", \"categorical_crossentropy\"],\n",
        "              metrics=[[\"mean_absolute_error\"], [\"accuracy\"]])\n",
        "model.fit({\"title\": title_data,\n",
        "           \"text_body\": text_body_data,\n",
        "           \"tags\": tags_data},\n",
        "          [priority_data, department_data],\n",
        "          epochs=1)\n",
        "model.evaluate({\"title\": title_data,\n",
        "                \"text_body\": text_body_data,\n",
        "                \"tags\": tags_data},\n",
        "               [priority_data, department_data])\n",
        "priority_preds, department_preds = model.predict({\"title\": title_data,\n",
        "                                                  \"text_body\": text_body_data,\n",
        "                                                  \"tags\": tags_data})"
      ]
    },
    {
      "cell_type": "code",
      "source": [
        "keras.utils.plot_model(model2, \"updated_ticket_classifier.png\", show_shapes=True) \n",
        "#그림은 functinal api만 그려짐"
      ],
      "metadata": {
        "id": "hRXyLPgyEWDH",
        "outputId": "eb9e69a5-601b-409a-9962-3e06a8febf8a",
        "colab": {
          "base_uri": "https://localhost:8080/",
          "height": 194
        }
      },
      "execution_count": 8,
      "outputs": [
        {
          "output_type": "error",
          "ename": "NameError",
          "evalue": "ignored",
          "traceback": [
            "\u001b[0;31m---------------------------------------------------------------------------\u001b[0m",
            "\u001b[0;31mNameError\u001b[0m                                 Traceback (most recent call last)",
            "\u001b[0;32m<ipython-input-8-a22e1db1a268>\u001b[0m in \u001b[0;36m<cell line: 1>\u001b[0;34m()\u001b[0m\n\u001b[0;32m----> 1\u001b[0;31m \u001b[0mkeras\u001b[0m\u001b[0;34m.\u001b[0m\u001b[0mutils\u001b[0m\u001b[0;34m.\u001b[0m\u001b[0mplot_model\u001b[0m\u001b[0;34m(\u001b[0m\u001b[0mmodel2\u001b[0m\u001b[0;34m,\u001b[0m \u001b[0;34m\"updated_ticket_classifier.png\"\u001b[0m\u001b[0;34m,\u001b[0m \u001b[0mshow_shapes\u001b[0m\u001b[0;34m=\u001b[0m\u001b[0;32mTrue\u001b[0m\u001b[0;34m)\u001b[0m\u001b[0;34m\u001b[0m\u001b[0;34m\u001b[0m\u001b[0m\n\u001b[0m\u001b[1;32m      2\u001b[0m \u001b[0;31m#그림은 functinal api만 그려짐\u001b[0m\u001b[0;34m\u001b[0m\u001b[0;34m\u001b[0m\u001b[0m\n",
            "\u001b[0;31mNameError\u001b[0m: name 'model2' is not defined"
          ]
        }
      ]
    },
    {
      "cell_type": "markdown",
      "metadata": {
        "id": "n2RPw_u91lMQ"
      },
      "source": [
        "#### Beware: What subclassed models don't support"
      ]
    },
    {
      "cell_type": "markdown",
      "metadata": {
        "id": "qJHlkzI91lMR"
      },
      "source": [
        "### Mixing and matching different components"
      ]
    },
    {
      "cell_type": "markdown",
      "metadata": {
        "id": "KAYY-pZw1lMR"
      },
      "source": [
        "**Creating a Functional model that includes a subclassed model**"
      ]
    },
    {
      "cell_type": "code",
      "execution_count": 9,
      "metadata": {
        "id": "b69xTbyt1lMR"
      },
      "outputs": [],
      "source": [
        "class Classifier(keras.Model):\n",
        "\n",
        "    def __init__(self, num_classes=2):\n",
        "        super().__init__()\n",
        "        if num_classes == 2:\n",
        "            num_units = 1\n",
        "            activation = \"sigmoid\"\n",
        "        else:\n",
        "            num_units = num_classes\n",
        "            activation = \"softmax\"\n",
        "        self.dense = layers.Dense(num_units, activation=activation)\n",
        "\n",
        "    def call(self, inputs):\n",
        "        return self.dense(inputs)\n",
        "\n",
        "inputs = keras.Input(shape=(3,))\n",
        "features = layers.Dense(64, activation=\"relu\")(inputs)\n",
        "outputs = Classifier(num_classes=10)(features)\n",
        "model = keras.Model(inputs=inputs, outputs=outputs)"
      ]
    },
    {
      "cell_type": "markdown",
      "metadata": {
        "id": "dXOMKkag1lMR"
      },
      "source": [
        "**Creating a subclassed model that includes a Functional model**"
      ]
    },
    {
      "cell_type": "code",
      "execution_count": 10,
      "metadata": {
        "id": "yp7NfDI91lMR"
      },
      "outputs": [],
      "source": [
        "inputs = keras.Input(shape=(64,))\n",
        "outputs = layers.Dense(1, activation=\"sigmoid\")(inputs)\n",
        "binary_classifier = keras.Model(inputs=inputs, outputs=outputs)\n",
        "\n",
        "class MyModel(keras.Model):\n",
        "\n",
        "    def __init__(self, num_classes=2):\n",
        "        super().__init__()\n",
        "        self.dense = layers.Dense(64, activation=\"relu\")\n",
        "        self.classifier = binary_classifier\n",
        "\n",
        "    def call(self, inputs):\n",
        "        features = self.dense(inputs)\n",
        "        return self.classifier(features)\n",
        "\n",
        "model = MyModel()"
      ]
    },
    {
      "cell_type": "markdown",
      "metadata": {
        "id": "J9bRL_-D1lMR"
      },
      "source": [
        "### Remember: Use the right tool for the job"
      ]
    },
    {
      "cell_type": "markdown",
      "metadata": {
        "id": "9s-BkiCC1lMR"
      },
      "source": [
        "## Using built-in training and evaluation loops"
      ]
    },
    {
      "cell_type": "markdown",
      "metadata": {
        "id": "x65g2zoh1lMR"
      },
      "source": [
        "**The standard workflow: `compile()`, `fit()`, `evaluate()`, `predict()`**"
      ]
    },
    {
      "cell_type": "code",
      "execution_count": 11,
      "metadata": {
        "id": "fSuOFcO_1lMS",
        "outputId": "d51e2611-ba54-416c-c3ab-42466212b120",
        "colab": {
          "base_uri": "https://localhost:8080/"
        }
      },
      "outputs": [
        {
          "output_type": "stream",
          "name": "stdout",
          "text": [
            "Epoch 1/3\n",
            "1563/1563 [==============================] - 9s 3ms/step - loss: 0.2906 - accuracy: 0.9136 - val_loss: 0.1424 - val_accuracy: 0.9595\n",
            "Epoch 2/3\n",
            "1563/1563 [==============================] - 5s 3ms/step - loss: 0.1618 - accuracy: 0.9540 - val_loss: 0.1256 - val_accuracy: 0.9639\n",
            "Epoch 3/3\n",
            "1563/1563 [==============================] - 6s 4ms/step - loss: 0.1294 - accuracy: 0.9631 - val_loss: 0.1048 - val_accuracy: 0.9733\n",
            "313/313 [==============================] - 1s 3ms/step - loss: 0.1003 - accuracy: 0.9723\n",
            "313/313 [==============================] - 1s 2ms/step\n"
          ]
        }
      ],
      "source": [
        "from tensorflow.keras.datasets import mnist\n",
        "\n",
        "def get_mnist_model():\n",
        "    inputs = keras.Input(shape=(28 * 28,))\n",
        "    features = layers.Dense(512, activation=\"relu\")(inputs)\n",
        "    features = layers.Dropout(0.5)(features)\n",
        "    outputs = layers.Dense(10, activation=\"softmax\")(features)\n",
        "    model = keras.Model(inputs, outputs)\n",
        "    return model\n",
        "\n",
        "(images, labels), (test_images, test_labels) = mnist.load_data()\n",
        "images = images.reshape((60000, 28 * 28)).astype(\"float32\") / 255\n",
        "test_images = test_images.reshape((10000, 28 * 28)).astype(\"float32\") / 255\n",
        "train_images, val_images = images[10000:], images[:10000]\n",
        "train_labels, val_labels = labels[10000:], labels[:10000]\n",
        "\n",
        "model = get_mnist_model()\n",
        "model.compile(optimizer=\"rmsprop\",\n",
        "              loss=\"sparse_categorical_crossentropy\",\n",
        "              metrics=[\"accuracy\"])\n",
        "model.fit(train_images, train_labels,\n",
        "          epochs=3,\n",
        "          validation_data=(val_images, val_labels))\n",
        "test_metrics = model.evaluate(test_images, test_labels)\n",
        "predictions = model.predict(test_images)"
      ]
    },
    {
      "cell_type": "markdown",
      "metadata": {
        "id": "GikC1prE1lMS"
      },
      "source": [
        "### Writing your own metrics"
      ]
    },
    {
      "cell_type": "markdown",
      "metadata": {
        "id": "Cw3jyhsN1lMS"
      },
      "source": [
        "**Implementing a custom metric by subclassing the `Metric` class**"
      ]
    },
    {
      "cell_type": "code",
      "execution_count": 12,
      "metadata": {
        "id": "Rtn09p891lMS"
      },
      "outputs": [],
      "source": [
        "import tensorflow as tf\n",
        "\n",
        "class RootMeanSquaredError(keras.metrics.Metric):\n",
        "\n",
        "    def __init__(self, name=\"rmse\", **kwargs):\n",
        "        super().__init__(name=name, **kwargs)\n",
        "        self.mse_sum = self.add_weight(name=\"mse_sum\", initializer=\"zeros\")\n",
        "        self.total_samples = self.add_weight(\n",
        "            name=\"total_samples\", initializer=\"zeros\", dtype=\"int32\")\n",
        "\n",
        "    def update_state(self, y_true, y_pred, sample_weight=None):\n",
        "        y_true = tf.one_hot(y_true, depth=tf.shape(y_pred)[1])\n",
        "        mse = tf.reduce_sum(tf.square(y_true - y_pred))\n",
        "        self.mse_sum.assign_add(mse)\n",
        "        num_samples = tf.shape(y_pred)[0]\n",
        "        self.total_samples.assign_add(num_samples)\n",
        "\n",
        "    def result(self):\n",
        "        return tf.sqrt(self.mse_sum / tf.cast(self.total_samples, tf.float32))\n",
        "\n",
        "    def reset_state(self):\n",
        "        self.mse_sum.assign(0.)\n",
        "        self.total_samples.assign(0)"
      ]
    },
    {
      "cell_type": "code",
      "execution_count": 13,
      "metadata": {
        "id": "HIdBzJiS1lMT",
        "outputId": "cacfc7d8-cbd9-4a0c-ebe1-7e1ba6bfd01d",
        "colab": {
          "base_uri": "https://localhost:8080/"
        }
      },
      "outputs": [
        {
          "output_type": "stream",
          "name": "stdout",
          "text": [
            "Epoch 1/3\n",
            "1563/1563 [==============================] - 6s 3ms/step - loss: 0.2961 - accuracy: 0.9122 - rmse: 7.1742 - val_loss: 0.1415 - val_accuracy: 0.9581 - val_rmse: 7.3605\n",
            "Epoch 2/3\n",
            "1563/1563 [==============================] - 5s 3ms/step - loss: 0.1615 - accuracy: 0.9531 - rmse: 7.3503 - val_loss: 0.1123 - val_accuracy: 0.9693 - val_rmse: 7.3967\n",
            "Epoch 3/3\n",
            "1563/1563 [==============================] - 6s 4ms/step - loss: 0.1327 - accuracy: 0.9630 - rmse: 7.3832 - val_loss: 0.0997 - val_accuracy: 0.9724 - val_rmse: 7.4207\n",
            "313/313 [==============================] - 1s 2ms/step - loss: 0.0871 - accuracy: 0.9743 - rmse: 7.4330\n"
          ]
        }
      ],
      "source": [
        "model = get_mnist_model()\n",
        "model.compile(optimizer=\"rmsprop\",\n",
        "              loss=\"sparse_categorical_crossentropy\",\n",
        "              metrics=[\"accuracy\", RootMeanSquaredError()])\n",
        "model.fit(train_images, train_labels,\n",
        "          epochs=3,\n",
        "          validation_data=(val_images, val_labels))\n",
        "test_metrics = model.evaluate(test_images, test_labels)"
      ]
    },
    {
      "cell_type": "markdown",
      "metadata": {
        "id": "HyaUNX8D1lMT"
      },
      "source": [
        "### Using callbacks"
      ]
    },
    {
      "cell_type": "markdown",
      "metadata": {
        "id": "aif4P0-Q1lMT"
      },
      "source": [
        "#### The EarlyStopping and ModelCheckpoint callbacks"
      ]
    },
    {
      "cell_type": "markdown",
      "metadata": {
        "id": "nfyvceT41lMT"
      },
      "source": [
        "**Using the `callbacks` argument in the `fit()` method**"
      ]
    },
    {
      "cell_type": "code",
      "source": [
        "keras.callbacks.EarlyStopping?"
      ],
      "metadata": {
        "id": "DNEeOT-NMPSw"
      },
      "execution_count": 18,
      "outputs": []
    },
    {
      "cell_type": "code",
      "execution_count": 14,
      "metadata": {
        "id": "ApSXI6cp1lMT",
        "outputId": "ab0dfbe6-43b8-4cc9-e459-8aa0b758279e",
        "colab": {
          "base_uri": "https://localhost:8080/"
        }
      },
      "outputs": [
        {
          "output_type": "stream",
          "name": "stdout",
          "text": [
            "Epoch 1/10\n",
            "1563/1563 [==============================] - 10s 6ms/step - loss: 0.2980 - accuracy: 0.9131 - val_loss: 0.1477 - val_accuracy: 0.9563\n",
            "Epoch 2/10\n",
            "1563/1563 [==============================] - 5s 3ms/step - loss: 0.1612 - accuracy: 0.9525 - val_loss: 0.1095 - val_accuracy: 0.9670\n",
            "Epoch 3/10\n",
            "1563/1563 [==============================] - 6s 4ms/step - loss: 0.1290 - accuracy: 0.9624 - val_loss: 0.1030 - val_accuracy: 0.9716\n",
            "Epoch 4/10\n",
            "1563/1563 [==============================] - 8s 5ms/step - loss: 0.1140 - accuracy: 0.9687 - val_loss: 0.0978 - val_accuracy: 0.9740\n",
            "Epoch 5/10\n",
            "1563/1563 [==============================] - 5s 3ms/step - loss: 0.1032 - accuracy: 0.9721 - val_loss: 0.0966 - val_accuracy: 0.9749\n",
            "Epoch 6/10\n",
            "1563/1563 [==============================] - 5s 3ms/step - loss: 0.0963 - accuracy: 0.9743 - val_loss: 0.0894 - val_accuracy: 0.9776\n",
            "Epoch 7/10\n",
            "1563/1563 [==============================] - 5s 3ms/step - loss: 0.0852 - accuracy: 0.9760 - val_loss: 0.0912 - val_accuracy: 0.9786\n",
            "Epoch 8/10\n",
            "1563/1563 [==============================] - 5s 3ms/step - loss: 0.0851 - accuracy: 0.9777 - val_loss: 0.0967 - val_accuracy: 0.9791\n",
            "Epoch 9/10\n",
            "1563/1563 [==============================] - 4s 3ms/step - loss: 0.0750 - accuracy: 0.9801 - val_loss: 0.0873 - val_accuracy: 0.9791\n",
            "Epoch 10/10\n",
            "1563/1563 [==============================] - 5s 3ms/step - loss: 0.0723 - accuracy: 0.9801 - val_loss: 0.0977 - val_accuracy: 0.9782\n"
          ]
        },
        {
          "output_type": "execute_result",
          "data": {
            "text/plain": [
              "<keras.callbacks.History at 0x7f0a3eb166a0>"
            ]
          },
          "metadata": {},
          "execution_count": 14
        }
      ],
      "source": [
        "callbacks_list = [\n",
        "    keras.callbacks.EarlyStopping(\n",
        "        monitor=\"val_accuracy\",\n",
        "        patience=2,\n",
        "    ),\n",
        "    keras.callbacks.ModelCheckpoint(\n",
        "        filepath=\"checkpoint_path.keras\",\n",
        "        monitor=\"val_loss\",\n",
        "        save_best_only=True,\n",
        "    )\n",
        "]\n",
        "model = get_mnist_model()\n",
        "model.compile(optimizer=\"rmsprop\",\n",
        "              loss=\"sparse_categorical_crossentropy\",\n",
        "              metrics=[\"accuracy\"])\n",
        "model.fit(train_images, train_labels,\n",
        "          epochs=10,\n",
        "          callbacks=callbacks_list,\n",
        "          validation_data=(val_images, val_labels))"
      ]
    },
    {
      "cell_type": "code",
      "source": [
        "from google.colab import drive\n",
        "drive.mount('/content/drive')"
      ],
      "metadata": {
        "id": "0C6L4F0NNyIe"
      },
      "execution_count": null,
      "outputs": []
    },
    {
      "cell_type": "code",
      "execution_count": 15,
      "metadata": {
        "id": "W-pxaain1lMT"
      },
      "outputs": [],
      "source": [
        "model = keras.models.load_model(\"checkpoint_path.keras\")"
      ]
    },
    {
      "cell_type": "markdown",
      "metadata": {
        "id": "-HrVjsBa1lMU"
      },
      "source": [
        "### Writing your own callbacks"
      ]
    },
    {
      "cell_type": "markdown",
      "metadata": {
        "id": "yahQWEvK1lMU"
      },
      "source": [
        "**Creating a custom callback by subclassing the `Callback` class**"
      ]
    },
    {
      "cell_type": "code",
      "execution_count": 16,
      "metadata": {
        "id": "klxpHN6c1lMU"
      },
      "outputs": [],
      "source": [
        "from matplotlib import pyplot as plt\n",
        "\n",
        "class LossHistory(keras.callbacks.Callback):\n",
        "    def on_train_begin(self, logs):\n",
        "        self.per_batch_losses = []\n",
        "\n",
        "    def on_batch_end(self, batch, logs):\n",
        "        self.per_batch_losses.append(logs.get(\"loss\"))\n",
        "\n",
        "    def on_epoch_end(self, epoch, logs):\n",
        "        plt.clf()\n",
        "        plt.plot(range(len(self.per_batch_losses)), self.per_batch_losses,\n",
        "                 label=\"Training loss for each batch\")\n",
        "        plt.xlabel(f\"Batch (epoch {epoch})\")\n",
        "        plt.ylabel(\"Loss\")\n",
        "        plt.legend()\n",
        "        plt.savefig(f\"plot_at_epoch_{epoch}\")\n",
        "        self.per_batch_losses = []"
      ]
    },
    {
      "cell_type": "code",
      "execution_count": 17,
      "metadata": {
        "id": "y0RJLRvx1lMU",
        "outputId": "1e1d3253-b0ec-4ac1-d41c-d7b9f3293c61",
        "colab": {
          "base_uri": "https://localhost:8080/",
          "height": 861
        }
      },
      "outputs": [
        {
          "output_type": "stream",
          "name": "stdout",
          "text": [
            "Epoch 1/10\n",
            "1563/1563 [==============================] - 6s 3ms/step - loss: 0.2925 - accuracy: 0.9121 - val_loss: 0.1453 - val_accuracy: 0.9580\n",
            "Epoch 2/10\n",
            "1563/1563 [==============================] - 6s 4ms/step - loss: 0.1584 - accuracy: 0.9535 - val_loss: 0.1077 - val_accuracy: 0.9700\n",
            "Epoch 3/10\n",
            "1563/1563 [==============================] - 5s 3ms/step - loss: 0.1278 - accuracy: 0.9636 - val_loss: 0.1096 - val_accuracy: 0.9722\n",
            "Epoch 4/10\n",
            "1563/1563 [==============================] - 6s 4ms/step - loss: 0.1140 - accuracy: 0.9684 - val_loss: 0.0911 - val_accuracy: 0.9765\n",
            "Epoch 5/10\n",
            "1563/1563 [==============================] - 5s 3ms/step - loss: 0.1031 - accuracy: 0.9712 - val_loss: 0.0974 - val_accuracy: 0.9760\n",
            "Epoch 6/10\n",
            "1563/1563 [==============================] - 5s 3ms/step - loss: 0.0942 - accuracy: 0.9743 - val_loss: 0.0993 - val_accuracy: 0.9763\n",
            "Epoch 7/10\n",
            "1563/1563 [==============================] - 6s 4ms/step - loss: 0.0895 - accuracy: 0.9761 - val_loss: 0.0941 - val_accuracy: 0.9781\n",
            "Epoch 8/10\n",
            "1563/1563 [==============================] - 5s 3ms/step - loss: 0.0836 - accuracy: 0.9776 - val_loss: 0.0938 - val_accuracy: 0.9793\n",
            "Epoch 9/10\n",
            "1563/1563 [==============================] - 5s 3ms/step - loss: 0.0751 - accuracy: 0.9792 - val_loss: 0.0864 - val_accuracy: 0.9809\n",
            "Epoch 10/10\n",
            "1563/1563 [==============================] - 5s 3ms/step - loss: 0.0703 - accuracy: 0.9806 - val_loss: 0.0909 - val_accuracy: 0.9803\n"
          ]
        },
        {
          "output_type": "execute_result",
          "data": {
            "text/plain": [
              "<keras.callbacks.History at 0x7f0a3e1d9250>"
            ]
          },
          "metadata": {},
          "execution_count": 17
        },
        {
          "output_type": "display_data",
          "data": {
            "text/plain": [
              "<Figure size 640x480 with 1 Axes>"
            ],
            "image/png": "[encoded data removed]"
          },
          "metadata": {}
        }
      ],
      "source": [
        "\n",
        "model = get_mnist_model()\n",
        "model.compile(optimizer=\"rmsprop\",\n",
        "              loss=\"sparse_categorical_crossentropy\",\n",
        "              metrics=[\"accuracy\"])\n",
        "model.fit(train_images, train_labels,\n",
        "          epochs=10,\n",
        "          callbacks=[LossHistory()],\n",
        "          validation_data=(val_images, val_labels))"
      ]
    },
    {
      "cell_type": "markdown",
      "metadata": {
        "id": "lQ5n-96i1lMU"
      },
      "source": [
        "### Monitoring and visualization with TensorBoard"
      ]
    },
    {
      "cell_type": "code",
      "execution_count": null,
      "metadata": {
        "id": "5q4y57Mm1lMU"
      },
      "outputs": [],
      "source": [
        "model = get_mnist_model()\n",
        "model.compile(optimizer=\"rmsprop\",\n",
        "              loss=\"sparse_categorical_crossentropy\",\n",
        "              metrics=[\"accuracy\"])\n",
        "\n",
        "tensorboard = keras.callbacks.TensorBoard(\n",
        "    log_dir=\"/full_path_to_your_log_dir\",\n",
        ")\n",
        "model.fit(train_images, train_labels,\n",
        "          epochs=10,\n",
        "          validation_data=(val_images, val_labels),\n",
        "          callbacks=[tensorboard])"
      ]
    },
    {
      "cell_type": "code",
      "execution_count": null,
      "metadata": {
        "id": "4W7r43w-1lMV"
      },
      "outputs": [],
      "source": [
        "%load_ext tensorboard\n",
        "%tensorboard --logdir /full_path_to_your_log_dir"
      ]
    },
    {
      "cell_type": "markdown",
      "metadata": {
        "id": "k5Jz4nXE1lMV"
      },
      "source": [
        "## Writing your own training and evaluation loops"
      ]
    },
    {
      "cell_type": "markdown",
      "metadata": {
        "id": "6suGC4tE1lMV"
      },
      "source": [
        "### Training versus inference"
      ]
    },
    {
      "cell_type": "markdown",
      "metadata": {
        "id": "XVk-jBAE1lMV"
      },
      "source": [
        "### Low-level usage of metrics"
      ]
    },
    {
      "cell_type": "code",
      "execution_count": 19,
      "metadata": {
        "id": "MdiHWsAu1lMV",
        "outputId": "f92c405b-05d8-4a3e-df47-3caa35c2361f",
        "colab": {
          "base_uri": "https://localhost:8080/"
        }
      },
      "outputs": [
        {
          "output_type": "stream",
          "name": "stdout",
          "text": [
            "result: 1.00\n"
          ]
        }
      ],
      "source": [
        "metric = keras.metrics.SparseCategoricalAccuracy()\n",
        "targets = [0, 1, 2]\n",
        "predictions = [[1, 0, 0], [0, 1, 0], [0, 0, 1]]\n",
        "metric.update_state(targets, predictions)\n",
        "current_result = metric.result()\n",
        "print(f\"result: {current_result:.2f}\")"
      ]
    },
    {
      "cell_type": "code",
      "source": [
        "metric = keras.metrics.SparseCategoricalAccuracy()\n",
        "targets = [0, 1, 1]\n",
        "predictions = [[1, 0, 0], [0, 1, 0], [0, 0, 1]]\n",
        "metric.update_state(targets, predictions)\n",
        "current_result = metric.result()\n",
        "print(f\"result: {current_result:.2f}\")"
      ],
      "metadata": {
        "id": "MdJGDgvlQefP",
        "outputId": "786238d5-7383-47ea-c86e-bf8d73f838b9",
        "colab": {
          "base_uri": "https://localhost:8080/"
        }
      },
      "execution_count": 22,
      "outputs": [
        {
          "output_type": "stream",
          "name": "stdout",
          "text": [
            "result: 0.67\n"
          ]
        }
      ]
    },
    {
      "cell_type": "code",
      "execution_count": 20,
      "metadata": {
        "id": "KuZiEy7Z1lMW",
        "outputId": "e97de3d4-19d0-4438-b0be-c5ca4d8c52c9",
        "colab": {
          "base_uri": "https://localhost:8080/"
        }
      },
      "outputs": [
        {
          "output_type": "stream",
          "name": "stdout",
          "text": [
            "Mean of values: 2.00\n"
          ]
        }
      ],
      "source": [
        "values = [0, 1, 2, 3, 4]\n",
        "mean_tracker = keras.metrics.Mean()\n",
        "for value in values:\n",
        "    mean_tracker.update_state(value)\n",
        "print(f\"Mean of values: {mean_tracker.result():.2f}\")"
      ]
    },
    {
      "cell_type": "markdown",
      "metadata": {
        "id": "zusU8tpu1lMW"
      },
      "source": [
        "### A complete training and evaluation loop"
      ]
    },
    {
      "cell_type": "markdown",
      "metadata": {
        "id": "Ok9IVwnt1lMW"
      },
      "source": [
        "**Writing a step-by-step training loop: the training step function**"
      ]
    },
    {
      "cell_type": "code",
      "execution_count": 23,
      "metadata": {
        "id": "ZU9XuFl_1lMW"
      },
      "outputs": [],
      "source": [
        "model = get_mnist_model()\n",
        "\n",
        "loss_fn = keras.losses.SparseCategoricalCrossentropy()\n",
        "optimizer = keras.optimizers.RMSprop()\n",
        "metrics = [keras.metrics.SparseCategoricalAccuracy()]\n",
        "loss_tracking_metric = keras.metrics.Mean()\n",
        "\n",
        "def train_step(inputs, targets):\n",
        "    with tf.GradientTape() as tape:\n",
        "        predictions = model(inputs, training=True)\n",
        "        loss = loss_fn(targets, predictions)\n",
        "    gradients = tape.gradient(loss, model.trainable_weights)\n",
        "    optimizer.apply_gradients(zip(gradients, model.trainable_weights))\n",
        "\n",
        "    logs = {}\n",
        "    for metric in metrics:\n",
        "        metric.update_state(targets, predictions)\n",
        "        logs[metric.name] = metric.result()\n",
        "\n",
        "    loss_tracking_metric.update_state(loss)\n",
        "    logs[\"loss\"] = loss_tracking_metric.result()\n",
        "    return logs"
      ]
    },
    {
      "cell_type": "markdown",
      "metadata": {
        "id": "98XK29ue1lMW"
      },
      "source": [
        "**Writing a step-by-step training loop: resetting the metrics**"
      ]
    },
    {
      "cell_type": "code",
      "execution_count": 24,
      "metadata": {
        "id": "xALHNZPu1lMW"
      },
      "outputs": [],
      "source": [
        "def reset_metrics():\n",
        "    for metric in metrics:\n",
        "        metric.reset_state()\n",
        "    loss_tracking_metric.reset_state()"
      ]
    },
    {
      "cell_type": "markdown",
      "metadata": {
        "id": "AFyX26Vu1lMW"
      },
      "source": [
        "**Writing a step-by-step training loop: the loop itself**"
      ]
    },
    {
      "cell_type": "code",
      "execution_count": 25,
      "metadata": {
        "id": "ZQBKc0_m1lMW",
        "outputId": "c5bed354-e0fd-4b48-c688-cf54c789044a",
        "colab": {
          "base_uri": "https://localhost:8080/"
        }
      },
      "outputs": [
        {
          "output_type": "stream",
          "name": "stdout",
          "text": [
            "Results at the end of epoch 0\n",
            "...sparse_categorical_accuracy: 0.9134\n",
            "...loss: 0.2935\n",
            "Results at the end of epoch 1\n",
            "...sparse_categorical_accuracy: 0.9531\n",
            "...loss: 0.1599\n",
            "Results at the end of epoch 2\n",
            "...sparse_categorical_accuracy: 0.9639\n",
            "...loss: 0.1292\n"
          ]
        }
      ],
      "source": [
        "training_dataset = tf.data.Dataset.from_tensor_slices((train_images, train_labels))\n",
        "training_dataset = training_dataset.batch(32)\n",
        "epochs = 3\n",
        "for epoch in range(epochs):\n",
        "    reset_metrics()\n",
        "    for inputs_batch, targets_batch in training_dataset:\n",
        "        logs = train_step(inputs_batch, targets_batch)\n",
        "    print(f\"Results at the end of epoch {epoch}\")\n",
        "    for key, value in logs.items():\n",
        "        print(f\"...{key}: {value:.4f}\")"
      ]
    },
    {
      "cell_type": "markdown",
      "metadata": {
        "id": "X4NOG0n51lMX"
      },
      "source": [
        "**Writing a step-by-step evaluation loop**"
      ]
    },
    {
      "cell_type": "code",
      "execution_count": null,
      "metadata": {
        "id": "k3BGhNRn1lMX"
      },
      "outputs": [],
      "source": [
        "def test_step(inputs, targets):\n",
        "    predictions = model(inputs, training=False)\n",
        "    loss = loss_fn(targets, predictions)\n",
        "\n",
        "    logs = {}\n",
        "    for metric in metrics:\n",
        "        metric.update_state(targets, predictions)\n",
        "        logs[\"val_\" + metric.name] = metric.result()\n",
        "\n",
        "    loss_tracking_metric.update_state(loss)\n",
        "    logs[\"val_loss\"] = loss_tracking_metric.result()\n",
        "    return logs\n",
        "\n",
        "val_dataset = tf.data.Dataset.from_tensor_slices((val_images, val_labels))\n",
        "val_dataset = val_dataset.batch(32)\n",
        "reset_metrics()\n",
        "for inputs_batch, targets_batch in val_dataset:\n",
        "    logs = test_step(inputs_batch, targets_batch)\n",
        "print(\"Evaluation results:\")\n",
        "for key, value in logs.items():\n",
        "    print(f\"...{key}: {value:.4f}\")"
      ]
    },
    {
      "cell_type": "markdown",
      "metadata": {
        "id": "-3a99W7z1lMX"
      },
      "source": [
        "### Make it fast with tf.function"
      ]
    },
    {
      "cell_type": "markdown",
      "metadata": {
        "id": "v3wd4kWX1lMX"
      },
      "source": [
        "**Adding a `tf.function` decorator to our evaluation-step function**"
      ]
    },
    {
      "cell_type": "code",
      "execution_count": null,
      "metadata": {
        "id": "AiJPs4_r1lMX"
      },
      "outputs": [],
      "source": [
        "@tf.function\n",
        "def test_step(inputs, targets):\n",
        "    predictions = model(inputs, training=False)\n",
        "    loss = loss_fn(targets, predictions)\n",
        "\n",
        "    logs = {}\n",
        "    for metric in metrics:\n",
        "        metric.update_state(targets, predictions)\n",
        "        logs[\"val_\" + metric.name] = metric.result()\n",
        "\n",
        "    loss_tracking_metric.update_state(loss)\n",
        "    logs[\"val_loss\"] = loss_tracking_metric.result()\n",
        "    return logs\n",
        "\n",
        "val_dataset = tf.data.Dataset.from_tensor_slices((val_images, val_labels))\n",
        "val_dataset = val_dataset.batch(32)\n",
        "reset_metrics()\n",
        "for inputs_batch, targets_batch in val_dataset:\n",
        "    logs = test_step(inputs_batch, targets_batch)\n",
        "print(\"Evaluation results:\")\n",
        "for key, value in logs.items():\n",
        "    print(f\"...{key}: {value:.4f}\")"
      ]
    },
    {
      "cell_type": "markdown",
      "metadata": {
        "id": "OAFZUNB11lMX"
      },
      "source": [
        "### Leveraging fit() with a custom training loop"
      ]
    },
    {
      "cell_type": "markdown",
      "metadata": {
        "id": "_YdxuOQO1lMX"
      },
      "source": [
        "**Implementing a custom training step to use with `fit()`**"
      ]
    },
    {
      "cell_type": "code",
      "execution_count": null,
      "metadata": {
        "id": "UNz7SWki1lMX"
      },
      "outputs": [],
      "source": [
        "loss_fn = keras.losses.SparseCategoricalCrossentropy()\n",
        "loss_tracker = keras.metrics.Mean(name=\"loss\")\n",
        "\n",
        "class CustomModel(keras.Model):\n",
        "    def train_step(self, data):\n",
        "        inputs, targets = data\n",
        "        with tf.GradientTape() as tape:\n",
        "            predictions = self(inputs, training=True)\n",
        "            loss = loss_fn(targets, predictions)\n",
        "        gradients = tape.gradient(loss, self.trainable_weights)\n",
        "        self.optimizer.apply_gradients(zip(gradients, self.trainable_weights))\n",
        "\n",
        "        loss_tracker.update_state(loss)\n",
        "        return {\"loss\": loss_tracker.result()}\n",
        "\n",
        "    @property\n",
        "    def metrics(self):\n",
        "        return [loss_tracker]"
      ]
    },
    {
      "cell_type": "code",
      "execution_count": null,
      "metadata": {
        "id": "r_vh3Ev01lMX"
      },
      "outputs": [],
      "source": [
        "inputs = keras.Input(shape=(28 * 28,))\n",
        "features = layers.Dense(512, activation=\"relu\")(inputs)\n",
        "features = layers.Dropout(0.5)(features)\n",
        "outputs = layers.Dense(10, activation=\"softmax\")(features)\n",
        "model = CustomModel(inputs, outputs)\n",
        "\n",
        "model.compile(optimizer=keras.optimizers.RMSprop())\n",
        "model.fit(train_images, train_labels, epochs=3)"
      ]
    },
    {
      "cell_type": "code",
      "execution_count": null,
      "metadata": {
        "id": "eP89KtRF1lMY"
      },
      "outputs": [],
      "source": [
        "class CustomModel(keras.Model):\n",
        "    def train_step(self, data):\n",
        "        inputs, targets = data\n",
        "        with tf.GradientTape() as tape:\n",
        "            predictions = self(inputs, training=True)\n",
        "            loss = self.compiled_loss(targets, predictions)\n",
        "        gradients = tape.gradient(loss, self.trainable_weights)\n",
        "        self.optimizer.apply_gradients(zip(gradients, self.trainable_weights))\n",
        "        self.compiled_metrics.update_state(targets, predictions)\n",
        "        return {m.name: m.result() for m in self.metrics}"
      ]
    },
    {
      "cell_type": "code",
      "execution_count": null,
      "metadata": {
        "id": "DRCbluIz1lMY"
      },
      "outputs": [],
      "source": [
        "inputs = keras.Input(shape=(28 * 28,))\n",
        "features = layers.Dense(512, activation=\"relu\")(inputs)\n",
        "features = layers.Dropout(0.5)(features)\n",
        "outputs = layers.Dense(10, activation=\"softmax\")(features)\n",
        "model = CustomModel(inputs, outputs)\n",
        "\n",
        "model.compile(optimizer=keras.optimizers.RMSprop(),\n",
        "              loss=keras.losses.SparseCategoricalCrossentropy(),\n",
        "              metrics=[keras.metrics.SparseCategoricalAccuracy()])\n",
        "model.fit(train_images, train_labels, epochs=3)"
      ]
    },
    {
      "cell_type": "markdown",
      "metadata": {
        "id": "8nzvqhmf1lMY"
      },
      "source": [
        "## Summary"
      ]
    }
  ],
  "metadata": {
    "colab": {
      "name": "chapter07_working-with-keras.i",
      "provenance": []
    },
    "kernelspec": {
      "display_name": "Python 3",
      "language": "python",
      "name": "python3"
    },
    "language_info": {
      "codemirror_mode": {
        "name": "ipython",
        "version": 3
      },
      "file_extension": ".py",
      "mimetype": "text/x-python",
      "name": "python",
      "nbconvert_exporter": "python",
      "pygments_lexer": "ipython3",
      "version": "3.7.0"
    },
    "accelerator": "GPU",
    "gpuClass": "standard"
  },
  "nbformat": 4,
  "nbformat_minor": 0
}